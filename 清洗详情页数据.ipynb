{
 "cells": [
  {
   "cell_type": "code",
   "execution_count": 1,
   "outputs": [],
   "source": [
    "xml_code1 = [{\n",
    "    \"装修\":\"/html/body/div[4]/div[1]/div[4]/div[4]/div[3]/div[1]/a/text()\",\n",
    "    \"区域\":\"/html/body/div[4]/div[1]/div[4]/div[5]/div[2]/div[2]/a[1]/text()\",\n",
    "    \"房源信息\":\"/html/body/div[4]/div[2]/div[1]/div[2]/div[2]\"\n",
    "    # \n",
    "    # \n",
    "    # \"建筑年代\":\"/html/body/div[4]/div[2]/div[1]/div[2]/div[2]/div[1]/span[2]/text()\",\n",
    "    # \"有无电梯\":\"/html/body/div[4]/div[2]/div[1]/div[2]/div[2]/div[2]/span[2]/text()\",          \n",
    "    # \"产权性质\":\"/html/body/div[4]/div[2]/div[1]/div[2]/div[2]/div[3]/span[2]/a/text()\",\n",
    "    # \"住宅类型\":\"/html/body/div[4]/div[2]/div[1]/div[2]/div[2]/div[4]/span[2]/a/text()\",\n",
    "    # \"建筑结构\":\"/html/body/div[4]/div[2]/div[1]/div[2]/div[2]/div[5]/span[2]/a/text()\",\n",
    "    # \"建筑类别\":\"/html/body/div[4]/div[2]/div[1]/div[2]/div[2]/div[6]/span[2]/a/text()\",\n",
    "    # \"挂牌日期\":\"/html/body/div[4]/div[2]/div[1]/div[2]/div[2]/div[7]/span[2]/text()\",\n",
    "    # \"参考均价\":\"/html/body/div[4]/div[2]/div[1]/div[4]/div[2]/div[1]/div[1]/span[2]/i/text()\",\n",
    "    # \"物业类型\":\"/html/body/div[4]/div[2]/div[1]/div[4]/div[2]/div[2]/div[1]/span[2]/text()\",\n",
    "    # \"物业费用\":\"/html/body/div[4]/div[2]/div[1]/div[4]/div[2]/div[2]/div[2]/span[2]/text()\",\n",
    "    # \"产权年限\":\"/html/body/div[4]/div[2]/div[1]/div[4]/div[2]/div[2]/div[4]/span[2]/text()\",\n",
    "\n",
    "},{\n",
    "    # \"标题\":\"/html/body/div[4]/div[1]/div[1]/h1/span/text()\",\n",
    "    # \"户型\":\"/html/body/div[4]/div[1]/div[4]/div[4]/div[1]/div[1]/text()\",\n",
    "    # \"建筑面积\":\"/html/body/div[4]/div[1]/div[4]/div[4]/div[2]/div[1]/text()\",\n",
    "    # \"单价\":\"/html/body/div[4]/div[1]/div[4]/div[4]/div[3]/div[1]/text()\",\n",
    "    # \"朝向\":\"/html/body/div[4]/div[1]/div[4]/div[5]/div[1]/div[1]/text()\",\n",
    "    # \"楼层\":\"/html/body/div[4]/div[1]/div[4]/div[5]/div[2]/div[1]/a/text()\",\n",
    "    # \"总楼层\":\"/html/body/div[4]/div[1]/div[4]/div[5]/div[2]/div[2]/text()\",\n",
    "    \"装修\":\"/html/body/div[4]/div[1]/div[4]/div[5]/div[3]/div[1]/a/text()\",\n",
    "    # \"小区\":\"/html/body/div[4]/div[1]/div[4]/div[6]/div[1]/div[2]/text()\",\n",
    "            # /html/body/div[4]/div[1]/div[4]/div[6]/div[1]/div[2]/a[1]\n",
    "    \"区域\":\"/html/body/div[4]/div[1]/div[4]/div[6]/div[2]/div[2]/a[1]/text()\",\n",
    "    \"房源信息\":\"/html/body/div[4]/div[2]/div[1]/div[2]/div[2]\",\n",
    "    \"标签1\":\"/html/body/div[4]/div[2]/div[1]/div[2]/div[2]/div[2]/span[1]/text()\"\n",
    "}]\n"
   ],
   "metadata": {
    "collapsed": false,
    "pycharm": {
     "name": "#%%\n",
     "is_executing": false
    }
   }
  },
  {
   "cell_type": "code",
   "execution_count": 99,
   "outputs": [
    {
     "traceback": [
      "\u001b[1;31m---------------------------------------------------------------------------\u001b[0m",
      "\u001b[1;31mUnicodeDecodeError\u001b[0m                        Traceback (most recent call last)",
      "\u001b[1;32m~\\AppData\\Local\\Temp/ipykernel_2880/3779669660.py\u001b[0m in \u001b[0;36m<module>\u001b[1;34m\u001b[0m\n\u001b[0;32m      8\u001b[0m     \u001b[0mfile_name\u001b[0m \u001b[1;33m=\u001b[0m \u001b[1;34mr\"E:\\pycharm files\\爬虫\\房天下二手房定价模型\\data\\详情页\\page\"\u001b[0m\u001b[1;33m+\u001b[0m\u001b[0mstr\u001b[0m\u001b[1;33m(\u001b[0m\u001b[0mpage\u001b[0m\u001b[1;33m)\u001b[0m\u001b[1;33m+\u001b[0m\u001b[1;34m\".txt\"\u001b[0m\u001b[1;33m\u001b[0m\u001b[1;33m\u001b[0m\u001b[0m\n\u001b[0;32m      9\u001b[0m     \u001b[1;32mwith\u001b[0m \u001b[0mopen\u001b[0m\u001b[1;33m(\u001b[0m\u001b[0mfile_name\u001b[0m\u001b[1;33m,\u001b[0m\u001b[1;34m\"r\"\u001b[0m\u001b[1;33m)\u001b[0m \u001b[1;32mas\u001b[0m \u001b[0mf\u001b[0m\u001b[1;33m:\u001b[0m\u001b[1;33m\u001b[0m\u001b[1;33m\u001b[0m\u001b[0m\n\u001b[1;32m---> 10\u001b[1;33m         \u001b[0mhtml_str\u001b[0m \u001b[1;33m=\u001b[0m \u001b[0mf\u001b[0m\u001b[1;33m.\u001b[0m\u001b[0mread\u001b[0m\u001b[1;33m(\u001b[0m\u001b[1;33m)\u001b[0m\u001b[1;33m\u001b[0m\u001b[1;33m\u001b[0m\u001b[0m\n\u001b[0m\u001b[0;32m     11\u001b[0m     \u001b[0mresult\u001b[0m \u001b[1;33m=\u001b[0m \u001b[0metree\u001b[0m\u001b[1;33m.\u001b[0m\u001b[0mHTML\u001b[0m\u001b[1;33m(\u001b[0m\u001b[0mhtml_str\u001b[0m\u001b[1;33m)\u001b[0m\u001b[1;33m\u001b[0m\u001b[1;33m\u001b[0m\u001b[0m\n\u001b[0;32m     12\u001b[0m     \u001b[1;32mfor\u001b[0m \u001b[0mj\u001b[0m \u001b[1;32min\u001b[0m \u001b[0mrange\u001b[0m\u001b[1;33m(\u001b[0m\u001b[0mlen\u001b[0m\u001b[1;33m(\u001b[0m\u001b[0mxml_code1\u001b[0m\u001b[1;33m)\u001b[0m\u001b[1;33m)\u001b[0m\u001b[1;33m:\u001b[0m\u001b[1;33m\u001b[0m\u001b[1;33m\u001b[0m\u001b[0m\n",
      "\u001b[1;31mUnicodeDecodeError\u001b[0m: 'gbk' codec can't decode byte 0xbf in position 71: illegal multibyte sequence"
     ],
     "ename": "UnicodeDecodeError",
     "evalue": "'gbk' codec can't decode byte 0xbf in position 71: illegal multibyte sequence",
     "output_type": "error"
    }
   ],
   "source": [
    "from lxml import etree\n",
    "import json\n",
    "\n",
    "total = 2\n",
    "page = 2\n",
    "info_list = []\n",
    "for page in range(page,page+1):\n",
    "    file_name = r\"E:\\pycharm files\\爬虫\\房天下二手房定价模型\\data\\详情页\\page\"+str(page)+\".txt\"\n",
    "    with open(file_name,\"r\") as f:\n",
    "        html_str = f.read()\n",
    "    result = etree.HTML(html_str)\n",
    "    for j in range(len(xml_code1)):\n",
    "        print(j)\n",
    "        xml_code = xml_code1[j]\n",
    "        house_type = xml_code['装修']\n",
    "        t = result.xpath(house_type)\n",
    "        if(len(t)!=0):\n",
    "            for k,v in xml_code.items():\n",
    "                t = str(result.xpath(v)[0]).strip()\n",
    "                print(f'{k}: {t}')   \n",
    "            break\n",
    "        \n",
    "    print('\\n')\n",
    "    # li = result.xpath(\"/html/body/div[4]/div[4]/div[3]/dl\")\n",
    "    # len_li = len(li)\n",
    "    # print(f\"第{page}页: {len_li}条数据\")\n",
    "    # for idx in range(0,len_li):\n",
    "    #     base_xml = r\"/html/body/div[4]/div[4]/div[3]/dl[\"+ str(idx) +\"]/dd[1]/h4/a/@href\"\n",
    "    #     r = result.xpath(base_xml)\n",
    "    #     try:\n",
    "    #         r = r[0]\n",
    "    #         id = r[9:20]\n",
    "    #         target_url = \"https://wuxi.esf.fang.com/chushou/\"+id+\".htm\"\n",
    "    #         # print(f\"{page}-{idx}: {target_url}\")\n",
    "    #     except Exception as e:\n",
    "    #         print(e)\n",
    "\n",
    "# info_filename = r\"E:\\pycharm files\\爬虫\\房天下二手房定价模型\\data\\info.txt\"\n",
    "# with open(info_filename,\"w\") as f:\n",
    "#     json_str = json.dumps(info_list)\n",
    "#     f.write(json_str)\n",
    "#     \n",
    "    \n",
    "print(\"over\")"
   ],
   "metadata": {
    "collapsed": false,
    "pycharm": {
     "name": "#%%\n",
     "is_executing": false
    }
   }
  },
  {
   "cell_type": "code",
   "execution_count": 3,
   "outputs": [
    {
     "name": "stdout",
     "text": [
      "{'url1': '/chushou/21_128931117.htm', '标题': '小区中间位置,简单装修,设施齐全', '总价': '95', '均价': '14622元/㎡', '户型': '2室1厅', '面积': '64.97㎡', '楼层': '中层', '总楼层': '（共6层）', '朝向': '南向', '建筑年代': '1993年建', '小区': '民丰里', '地址': '民丰-民丰路与凤宾路交叉口西北面', '优势1': '满五', '优势2': '优质教育', '优势3': '距3号线吴桥站约1053米'}\n"
     ],
     "output_type": "stream"
    }
   ],
   "source": [
    "'''\n",
    "测试\n",
    "载入json数据\n",
    "'''\n",
    "import json\n",
    "\n",
    "info_file = r\"E:\\pycharm files\\爬虫\\房天下二手房定价模型\\data\\sketchy_info.json\"\n",
    "with open(info_file,'r') as f:\n",
    "    json_str = f.read()\n",
    "\n",
    "# print(json_str)\n",
    "json_data = json.loads(json_str)\n",
    "print(json_data[1000])"
   ],
   "metadata": {
    "collapsed": false,
    "pycharm": {
     "name": "#%%\n",
     "is_executing": false
    }
   }
  },
  {
   "cell_type": "code",
   "execution_count": 4,
   "outputs": [],
   "source": [
    "xml_code1 = [{\n",
    "    \"ID\":\"/html/head/meta[3]/@content\",\n",
    "},\n",
    "    {\n",
    "    \"房源信息\":\"/html/body/div[4]/div[2]/div[1]/div[2]/div[2]\",\n",
    "                # /html/body/div[4]/div/div[3]/div[4]/div[3]     \n",
    "},{\n",
    "    \"小区信息\":\"/html/body/div[4]/div[2]/div[1]/div[4]/div[2]/div[2]\",\n",
    "},{\n",
    "    \"总价\":\"/html/body/div[4]/div[1]/div[4]/div[1]/div[1]/div[1]/i\",\n",
    "}]"
   ],
   "metadata": {
    "collapsed": false,
    "pycharm": {
     "name": "#%%\n",
     "is_executing": false
    }
   }
  },
  {
   "cell_type": "code",
   "execution_count": 29,
   "outputs": [
    {
     "name": "stdout",
     "text": [
      "100\n",
      "200\n",
      "300\n",
      "400\n",
      "500\n",
      "600\n",
      "700\n",
      "800\n",
      "900\n",
      "1000\n",
      "page1006:0KB\n",
      "1100\n",
      "1200\n",
      "1300\n",
      "1400\n",
      "1500\n",
      "page1551:0KB\n",
      "1600\n",
      "page1688:0KB\n",
      "1700\n",
      "page1741:0KB\n",
      "page1765:0KB\n",
      "1800\n",
      "1900\n",
      "page1937:0KB\n",
      "2000\n",
      "2100\n",
      "page2123:0KB\n",
      "2200\n",
      "2300\n",
      "page2322:0KB\n",
      "page2380:0KB\n",
      "page2398:0KB\n",
      "2400\n",
      "2500\n",
      "2600\n",
      "page2673:0KB\n",
      "2700\n",
      "page2731:0KB\n",
      "2800\n",
      "2900\n",
      "page2944:0KB\n",
      "page2995:0KB\n",
      "over\n",
      "over\n"
     ],
     "output_type": "stream"
    }
   ],
   "source": [
    "from lxml import etree\n",
    "import json\n",
    "import re\n",
    "import os\n",
    "\n",
    "# 指定文件路径\n",
    "\n",
    "# 获取文件大小（以字节为单位）\n",
    "\n",
    "\n",
    "total = 3000\n",
    "page = 30\n",
    "info_list = []\n",
    "pattern1 = re.compile(r'<span class=\"lab\">(.*?)<\\/span>\\s*<span class=\"rcont\">([\\s\\S]*?)<\\/span>')\n",
    "pattern2 = re.compile(r'<span class=\"lab\">(.*?)<\\/span>\\s*<span class=\"rcont \">([\\s\\S]*?)<\\/span>')\n",
    "pattern3 = re.compile(r'AGT_(.*?).html')\n",
    "pattern4 = re.compile((r'<div class=\"tt\">([\\s\\S]*?)<\\/div>\\s*<div class=\"font14\">([\\s\\S]*?)<\\/div>'))\n",
    "pattern5 = re.compile(r'<div class=\"lab\">(.*?)<\\/div>\\s*?<div class=\"rcont\".*?>([\\s\\S]*?)</div>')\n",
    "pattern6 = re.compile(r\"\\d+\")\n",
    "for page in range(1,total):\n",
    "    if(page%100==0):\n",
    "        print(page)  \n",
    "    info = dict()\n",
    "    file_name = r\"E:\\pycharm files\\爬虫\\房天下二手房定价模型\\data\\详情页\\page\"+str(page)+\".txt\"\n",
    "    file_size = os.path.getsize(file_name)\n",
    "    if(file_size<100000):\n",
    "        print(f\"page{page}:{file_size}KB\")\n",
    "        continue\n",
    "    with open(file_name,encoding=\"utf-8\") as f:\n",
    "        html_str = f.read()\n",
    "    result = etree.HTML(html_str)\n",
    "    \n",
    "    # print(\"========缩略页信息=============\")\n",
    "    # print('url:',json_data[page]['url1'])\n",
    "    # print(\"标题:\",json_data[page]['标题'])\n",
    "    # print(\"地址:\",json_data[page]['地址'])\n",
    "    # print(\"优势1:\",json_data[page]['优势1'])\n",
    "    # print(\"优势2:\",json_data[page]['优势2'])\n",
    "    # print(\"优势3:\",json_data[page]['优势3'])\n",
    "    info['url'] = 'https://wuxi.esf.fang.com'+json_data[page]['url1']\n",
    "    info['标题'] = json_data[page]['标题']\n",
    "    info['地址'] = json_data[page]['地址']\n",
    "    info['优势1'] = json_data[page]['优势1']\n",
    "    info['优势2'] = json_data[page]['优势2']\n",
    "    info['优势3'] = json_data[page]['优势3']\n",
    "    \n",
    "    \n",
    "    # print(\"========基本信息=============\")\n",
    "    code = xml_code1[3]\n",
    "    for k,v in code.items():\n",
    "        t = result.xpath(v)[0]\n",
    "        value = ''.join(t.itertext()).strip()\n",
    "        # print(f\"{k}:{value}\")\n",
    "        info[k] = value\n",
    "    \n",
    "    matches = re.findall(pattern4, html_str)\n",
    "    floor_key = ''\n",
    "    for match in matches:\n",
    "        key = match[1].strip()\n",
    "        value = re.sub(r'<[^>]+>', '', match[0]).strip()\n",
    "        if (key.find(\"楼层\")==0):\n",
    "            floor_key = key\n",
    "        # print(f\"{key}:{value}\")\n",
    "        info[key] = value\n",
    "    \n",
    "    # 单独处理一下 {楼层（共6层）:中层}——> {楼层:中层, 总楼层:6}\n",
    "    if floor_key!='':\n",
    "        info[\"楼层层次\"] = info[floor_key]\n",
    "        total_floor = pattern6.findall(floor_key)\n",
    "        info[\"总楼层\"] = total_floor[0]\n",
    "        info.pop(floor_key)\n",
    "        # print(\"楼层层次: {}\".format(info[\"楼层层次\"]))\n",
    "        # print(\"楼层层次: {}\".format(info[\"总楼层\"] ))\n",
    "    \n",
    "    \n",
    "    code = xml_code1[0]\n",
    "    for k,v in code.items():\n",
    "        t = str(result.xpath(v)[0])\n",
    "        match = pattern3.findall(t)[0]\n",
    "        # print(f\"{k}:{match}\")\n",
    "        info[k] = match\n",
    "    \n",
    "    matches = re.findall(pattern5, html_str)\n",
    "    for match in matches:\n",
    "        key = str(match[0].strip()).replace('&nbsp;','')\n",
    "        value = re.sub(r'<[^>]+>', '', match[1]).strip()[0:10].strip()\n",
    "        # print(f\"{key}:{value}\")\n",
    "        info[key] = value\n",
    "    \n",
    "    # print(\"=========房源信息============\")\n",
    "    matches = re.findall(pattern1, html_str)\n",
    "    for match in matches:\n",
    "        key = match[0].strip()\n",
    "        value = re.sub(r'<[^>]+>', '', match[1]).strip().replace(\"\\n\",\"\")[0:20].strip()\n",
    "        # print(f\"{key}:{value}\")\n",
    "        info[key] = value\n",
    "\n",
    "    # print(\"=========小区信息============\")\n",
    "    matches = re.findall(pattern2, html_str)\n",
    "    for match in matches:\n",
    "        key = match[0].strip()\n",
    "        value = re.sub(r'<[^>]+>', '', match[1]).strip()\n",
    "        # print(f\"{key}:{value}\")\n",
    "        info[key] = value\n",
    "        \n",
    "\n",
    "    info_list.append(info)\n",
    "    # print('\\n')\n",
    "    \n",
    "print(\"over\")\n",
    "\n",
    "info_filename = r\"E:\\pycharm files\\爬虫\\房天下二手房定价模型\\data\\data3000.json\"\n",
    "with open(info_filename,\"w\",encoding=\"utf-8\") as f:\n",
    "    json_str = json.dumps(info_list)\n",
    "    f.write(json_str)\n",
    "print(\"over\")"
   ],
   "metadata": {
    "collapsed": false,
    "pycharm": {
     "name": "#%%\n",
     "is_executing": false
    }
   }
  },
  {
   "cell_type": "code",
   "execution_count": 1,
   "outputs": [
    {
     "name": "stdout",
     "text": [
      "\n",
      "    Title\n",
      "    Paragraph 1\n",
      "    Paragraph 2\n",
      "    123\n",
      "    \n",
      "\n"
     ],
     "output_type": "stream"
    }
   ],
   "source": [
    "    # code = xml_code1[1]\n",
    "    # for k,v in code.items():\n",
    "    #     t = result.xpath(v)[0]\n",
    "    #     # a = ''.join(t)\n",
    "    #     # print(a)\n",
    "    #     print(k,\"===============\")\n",
    "    #     text = etree.tostring(t ,encoding='utf-8', method='html').decode('utf-8')\n",
    "    #     matches = re.findall(pattern1, text)\n",
    "    #     for match in matches:\n",
    "    #         key = match[0].strip()\n",
    "    #         value = re.sub(r'<[^>]+>', '', match[1]).strip()\n",
    "    #         print(f\"{key}:{value}\")\n",
    "    #         info[key] = value\n",
    "    \n",
    "    \n",
    "    # code = xml_code1[2]\n",
    "    # for k,v in code.items():\n",
    "    #     t = result.xpath(v)[0]\n",
    "    #     print(k,\"=====================\")\n",
    "    #     text = etree.tostring(t ,encoding='utf-8', method='html').decode('utf-8')\n",
    "    #     # print(text)\n",
    "    #     matches = re.findall(pattern2, text)\n",
    "    #     for match in matches:\n",
    "    #         key = match[0].strip()\n",
    "    #         value = re.sub(r'<[^>]+>', '', match[1]).strip()\n",
    "    #         print(f\"{key}:{value}\")\n",
    "    #         info[key] = value\n",
    "    "
   ],
   "metadata": {
    "collapsed": false,
    "pycharm": {
     "name": "#%%\n",
     "is_executing": false
    }
   }
  },
  {
   "cell_type": "code",
   "execution_count": null,
   "outputs": [],
   "source": [
    "from lxml import etree\n",
    "\n",
    "# 假设html为HTML字符串\n",
    "html = '''\n",
    "<html>\n",
    "<body>\n",
    "<div>\n",
    "    <h1>Title</h1>\n",
    "    <p>Paragraph 1</p>\n",
    "    <p>Paragraph 2</p>\n",
    "    <p><h2>123</h2></p>\n",
    "    \n",
    "</div>\n",
    "</body>\n",
    "</html>\n",
    "'''\n",
    "\n",
    "# 将HTML字符串解析为Element对象\n",
    "root = etree.HTML(html)\n",
    "\n",
    "# 使用xpath表达式提取<div>标签的内容\n",
    "result = root.xpath('//div')\n",
    "\n",
    "# 获取标签内的纯文本内容\n",
    "content = ''.join(result[0].itertext())\n",
    "\n",
    "print(content)"
   ],
   "metadata": {
    "collapsed": false,
    "pycharm": {
     "name": "#%%\n"
    }
   }
  },
  {
   "cell_type": "code",
   "execution_count": 73,
   "outputs": [
    {
     "name": "stdout",
     "text": [
      "<Element h1 at 0x25e91de6780>\n",
      "<Element p at 0x25e91cac340>\n",
      "<Element p at 0x25e91d1f5c0>\n"
     ],
     "output_type": "stream"
    }
   ],
   "source": [
    "html = '''\n",
    "<html>\n",
    "<body>\n",
    "<div>\n",
    "    <h1>Title</h1>\n",
    "    <p>Paragraph 1</p>\n",
    "    <p>Paragraph 2</p>\n",
    "</div>\n",
    "</body>\n",
    "</html>\n",
    "'''\n",
    "\n",
    "# 将HTML字符串解析为Element对象\n",
    "root = etree.HTML(html)\n",
    "\n",
    "# 使用xpath表达式提取<div>标签的内容\n",
    "result = root.xpath('//div')\n",
    "\n",
    "# 获取标签内的纯文本内容\n",
    "content = ''\n",
    "for element in result[0]:\n",
    "    print(element)\n",
    "    content += etree.tostring(element, encoding='utf-8', method='html').decode('utf-8')\n",
    "\n",
    "# print(content)"
   ],
   "metadata": {
    "collapsed": false,
    "pycharm": {
     "name": "#%%\n",
     "is_executing": false
    }
   }
  },
  {
   "cell_type": "code",
   "execution_count": 77,
   "outputs": [
    {
     "name": "stdout",
     "text": [
      "{'建筑年代': '2009年', '有无电梯': '有', '产权性质': '商品房', '住宅类别': '普通住宅', '建筑结构': '平层', '建筑类别': '板楼', '挂牌时间': '2023-07-26'}\n"
     ],
     "output_type": "stream"
    }
   ],
   "source": [
    "import re\n",
    "\n",
    "text = '''\n",
    "<div class=\"text-item clearfix\">\n",
    "    <span class=\"lab\">建筑年代</span>\n",
    "    <span class=\"rcont\">2009年</span>\n",
    "</div>\n",
    "                            \n",
    "<div class=\"text-item clearfix\">\n",
    "    <span class=\"lab\">有无电梯</span>\n",
    "    <span class=\"rcont\">有 </span>\n",
    "</div>\n",
    "                            \n",
    "<div class=\"text-item clearfix\">\n",
    "    <span class=\"lab\">产权性质</span>\n",
    "    <span class=\"rcont\">\n",
    "        \n",
    "        商品房\n",
    "        \n",
    "    </span>\n",
    "</div>                       \n",
    "                            \n",
    "<div class=\"text-item clearfix\">\n",
    "    <span class=\"lab\">住宅类别</span>\n",
    "    <span class=\"rcont\">\n",
    "        \n",
    "        <a href=\"https://baike.fang.com/item/普通住宅/2049571\" target=\"_blank\"  class=\"link_rk\">普通住宅</a>\n",
    "        \n",
    "    </span>\n",
    "</div>\n",
    "                                            \n",
    "<div class=\"text-item clearfix\">\n",
    "    <span class=\"lab\">建筑结构</span>\n",
    "    <span class=\"rcont\">\n",
    "    \n",
    "        <a href=\"https://baike.fang.com/item/平层/12851737\"  target=\"_blank\" class=\"link_rk\">平层</a>\n",
    "    \n",
    "    </span>\n",
    "</div>                    \n",
    "                            \n",
    "<div class=\"text-item clearfix\">\n",
    "    <span class=\"lab\">建筑类别</span>\n",
    "    <span class=\"rcont\">\n",
    "    \n",
    "        <a href=\"https://baike.fang.com/item/板楼/1536095\"  target=\"_blank\" class=\"link_rk\">板楼</a>\n",
    "    \n",
    "    </span>\n",
    "</div>\n",
    "\n",
    "<div class=\"text-item clearfix\">\n",
    "    <span class=\"lab\">挂牌时间</span>\n",
    "    <span class=\"rcont\">\n",
    "        2023-07-26\n",
    "    </span>\n",
    "</div>\n",
    "'''\n",
    "result = {}\n",
    "\n",
    "pattern = re.compile(r'<span class=\"lab\">(.*?)<\\/span>\\s*<span class=\"rcont\">([\\s\\S]*?)<\\/span>')\n",
    "matches = re.findall(pattern, text)\n",
    "for match in matches:\n",
    "    # print(match[1].strip())\n",
    "    key = match[0].strip()\n",
    "    value = re.sub(r'<[^>]+>', '', match[1]).strip()\n",
    "    result[key] = value\n",
    "\n",
    "print(result)  # 输出: {'产权性质': '商品房', '住宅类别': '普通住宅'}\n"
   ],
   "metadata": {
    "collapsed": false,
    "pycharm": {
     "name": "#%%\n",
     "is_executing": false
    }
   }
  },
  {
   "cell_type": "code",
   "execution_count": 17,
   "outputs": [
    {
     "traceback": [
      "\u001b[1;31m---------------------------------------------------------------------------\u001b[0m",
      "\u001b[1;31mTypeError\u001b[0m                                 Traceback (most recent call last)",
      "\u001b[1;32m~\\AppData\\Local\\Temp/ipykernel_2348/2932998113.py\u001b[0m in \u001b[0;36m<module>\u001b[1;34m\u001b[0m\n\u001b[1;32m----> 1\u001b[1;33m \u001b[1;34m\"(dfd)d\"\u001b[0m\u001b[1;33m.\u001b[0m\u001b[0mreplace\u001b[0m\u001b[1;33m(\u001b[0m\u001b[1;33m(\u001b[0m\u001b[1;34m\"(\"\u001b[0m\u001b[1;33m,\u001b[0m\u001b[1;34m\")\"\u001b[0m\u001b[1;33m)\u001b[0m\u001b[1;33m,\u001b[0m\u001b[1;34m\"\"\u001b[0m\u001b[1;33m)\u001b[0m\u001b[1;33m\u001b[0m\u001b[1;33m\u001b[0m\u001b[0m\n\u001b[0m\u001b[0;32m      2\u001b[0m \u001b[1;33m\u001b[0m\u001b[0m\n",
      "\u001b[1;31mTypeError\u001b[0m: replace() argument 1 must be str, not tuple"
     ],
     "ename": "TypeError",
     "evalue": "replace() argument 1 must be str, not tuple",
     "output_type": "error"
    }
   ],
   "source": [
    "\"(dfd)d\".replace((\"(\",\")\"),\"\")"
   ],
   "metadata": {
    "collapsed": false,
    "pycharm": {
     "name": "#%%\n",
     "is_executing": false
    }
   }
  },
  {
   "cell_type": "code",
   "execution_count": null,
   "outputs": [],
   "source": [
    "\n"
   ],
   "metadata": {
    "collapsed": false,
    "pycharm": {
     "name": "#%%\n"
    }
   }
  }
 ],
 "metadata": {
  "kernelspec": {
   "name": "pycharm-3829732f",
   "language": "python",
   "display_name": "PyCharm (Datamining)"
  },
  "language_info": {
   "codemirror_mode": {
    "name": "ipython",
    "version": 2
   },
   "file_extension": ".py",
   "mimetype": "text/x-python",
   "name": "python",
   "nbconvert_exporter": "python",
   "pygments_lexer": "ipython2",
   "version": "2.7.6"
  },
  "pycharm": {
   "stem_cell": {
    "cell_type": "raw",
    "source": [],
    "metadata": {
     "collapsed": false
    }
   }
  }
 },
 "nbformat": 4,
 "nbformat_minor": 0
}