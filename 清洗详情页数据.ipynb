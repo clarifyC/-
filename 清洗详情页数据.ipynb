{
 "cells": [
  {
   "cell_type": "code",
   "execution_count": 33,
   "outputs": [],
   "source": [
    "xml_code1 = [{\n",
    "    \"装修\":\"/html/body/div[4]/div[1]/div[4]/div[4]/div[3]/div[1]/a/text()\",\n",
    "    \"区域\":\"/html/body/div[4]/div[1]/div[4]/div[5]/div[2]/div[2]/a[1]/text()\",\n",
    "    \"房源信息\":\"/html/body/div[4]/div[2]/div[1]/div[2]/div[2]\"\n",
    "    # \n",
    "    # \n",
    "    # \"建筑年代\":\"/html/body/div[4]/div[2]/div[1]/div[2]/div[2]/div[1]/span[2]/text()\",\n",
    "    # \"有无电梯\":\"/html/body/div[4]/div[2]/div[1]/div[2]/div[2]/div[2]/span[2]/text()\",          \n",
    "    # \"产权性质\":\"/html/body/div[4]/div[2]/div[1]/div[2]/div[2]/div[3]/span[2]/a/text()\",\n",
    "    # \"住宅类型\":\"/html/body/div[4]/div[2]/div[1]/div[2]/div[2]/div[4]/span[2]/a/text()\",\n",
    "    # \"建筑结构\":\"/html/body/div[4]/div[2]/div[1]/div[2]/div[2]/div[5]/span[2]/a/text()\",\n",
    "    # \"建筑类别\":\"/html/body/div[4]/div[2]/div[1]/div[2]/div[2]/div[6]/span[2]/a/text()\",\n",
    "    # \"挂牌日期\":\"/html/body/div[4]/div[2]/div[1]/div[2]/div[2]/div[7]/span[2]/text()\",\n",
    "    # \"参考均价\":\"/html/body/div[4]/div[2]/div[1]/div[4]/div[2]/div[1]/div[1]/span[2]/i/text()\",\n",
    "    # \"物业类型\":\"/html/body/div[4]/div[2]/div[1]/div[4]/div[2]/div[2]/div[1]/span[2]/text()\",\n",
    "    # \"物业费用\":\"/html/body/div[4]/div[2]/div[1]/div[4]/div[2]/div[2]/div[2]/span[2]/text()\",\n",
    "    # \"产权年限\":\"/html/body/div[4]/div[2]/div[1]/div[4]/div[2]/div[2]/div[4]/span[2]/text()\",\n",
    "\n",
    "},{\n",
    "    # \"标题\":\"/html/body/div[4]/div[1]/div[1]/h1/span/text()\",\n",
    "    # \"户型\":\"/html/body/div[4]/div[1]/div[4]/div[4]/div[1]/div[1]/text()\",\n",
    "    # \"建筑面积\":\"/html/body/div[4]/div[1]/div[4]/div[4]/div[2]/div[1]/text()\",\n",
    "    # \"单价\":\"/html/body/div[4]/div[1]/div[4]/div[4]/div[3]/div[1]/text()\",\n",
    "    # \"朝向\":\"/html/body/div[4]/div[1]/div[4]/div[5]/div[1]/div[1]/text()\",\n",
    "    # \"楼层\":\"/html/body/div[4]/div[1]/div[4]/div[5]/div[2]/div[1]/a/text()\",\n",
    "    # \"总楼层\":\"/html/body/div[4]/div[1]/div[4]/div[5]/div[2]/div[2]/text()\",\n",
    "    \"装修\":\"/html/body/div[4]/div[1]/div[4]/div[5]/div[3]/div[1]/a/text()\",\n",
    "    # \"小区\":\"/html/body/div[4]/div[1]/div[4]/div[6]/div[1]/div[2]/text()\",\n",
    "            # /html/body/div[4]/div[1]/div[4]/div[6]/div[1]/div[2]/a[1]\n",
    "    \"区域\":\"/html/body/div[4]/div[1]/div[4]/div[6]/div[2]/div[2]/a[1]/text()\",\n",
    "    \"房源信息\":\"/html/body/div[4]/div[2]/div[1]/div[2]/div[2]\",\n",
    "    \"标签1\":\"/html/body/div[4]/div[2]/div[1]/div[2]/div[2]/div[2]/span[1]/text()\"\n",
    "}]\n"
   ],
   "metadata": {
    "collapsed": false,
    "pycharm": {
     "name": "#%%\n",
     "is_executing": false
    }
   }
  },
  {
   "cell_type": "code",
   "execution_count": 39,
   "outputs": [
    {
     "name": "stdout",
     "text": [
      "0\n"
     ],
     "output_type": "stream"
    },
    {
     "traceback": [
      "\u001b[1;31m---------------------------------------------------------------------------\u001b[0m",
      "\u001b[1;31mKeyError\u001b[0m                                  Traceback (most recent call last)",
      "\u001b[1;32m~\\AppData\\Local\\Temp/ipykernel_22924/1154255861.py\u001b[0m in \u001b[0;36m<module>\u001b[1;34m\u001b[0m\n\u001b[0;32m     13\u001b[0m         \u001b[0mprint\u001b[0m\u001b[1;33m(\u001b[0m\u001b[0mj\u001b[0m\u001b[1;33m)\u001b[0m\u001b[1;33m\u001b[0m\u001b[1;33m\u001b[0m\u001b[0m\n\u001b[0;32m     14\u001b[0m         \u001b[0mxml_code\u001b[0m \u001b[1;33m=\u001b[0m \u001b[0mxml_code1\u001b[0m\u001b[1;33m[\u001b[0m\u001b[0mj\u001b[0m\u001b[1;33m]\u001b[0m\u001b[1;33m\u001b[0m\u001b[1;33m\u001b[0m\u001b[0m\n\u001b[1;32m---> 15\u001b[1;33m         \u001b[0mhouse_type\u001b[0m \u001b[1;33m=\u001b[0m \u001b[0mxml_code\u001b[0m\u001b[1;33m[\u001b[0m\u001b[1;34m'装修'\u001b[0m\u001b[1;33m]\u001b[0m\u001b[1;33m\u001b[0m\u001b[1;33m\u001b[0m\u001b[0m\n\u001b[0m\u001b[0;32m     16\u001b[0m         \u001b[0mt\u001b[0m \u001b[1;33m=\u001b[0m \u001b[0mresult\u001b[0m\u001b[1;33m.\u001b[0m\u001b[0mxpath\u001b[0m\u001b[1;33m(\u001b[0m\u001b[0mhouse_type\u001b[0m\u001b[1;33m)\u001b[0m\u001b[1;33m\u001b[0m\u001b[1;33m\u001b[0m\u001b[0m\n\u001b[0;32m     17\u001b[0m         \u001b[1;32mif\u001b[0m\u001b[1;33m(\u001b[0m\u001b[0mlen\u001b[0m\u001b[1;33m(\u001b[0m\u001b[0mt\u001b[0m\u001b[1;33m)\u001b[0m\u001b[1;33m!=\u001b[0m\u001b[1;36m0\u001b[0m\u001b[1;33m)\u001b[0m\u001b[1;33m:\u001b[0m\u001b[1;33m\u001b[0m\u001b[1;33m\u001b[0m\u001b[0m\n",
      "\u001b[1;31mKeyError\u001b[0m: '装修'"
     ],
     "ename": "KeyError",
     "evalue": "'装修'",
     "output_type": "error"
    }
   ],
   "source": [
    "from lxml import etree\n",
    "import json\n",
    "\n",
    "total = 2\n",
    "page = 14\n",
    "info_list = []\n",
    "for page in range(page,page+1):\n",
    "    file_name = r\"E:\\pycharm files\\爬虫\\房天下二手房定价模型\\data\\详情页\\page\"+str(page)+\".txt\"\n",
    "    with open(file_name,\"r\") as f:\n",
    "        html_str = f.read()\n",
    "    result = etree.HTML(html_str)\n",
    "    for j in range(len(xml_code1)):\n",
    "        print(j)\n",
    "        xml_code = xml_code1[j]\n",
    "        house_type = xml_code['装修']\n",
    "        t = result.xpath(house_type)\n",
    "        if(len(t)!=0):\n",
    "            for k,v in xml_code.items():\n",
    "                t = str(result.xpath(v)[0]).strip()\n",
    "                print(f'{k}: {t}')   \n",
    "            break\n",
    "        \n",
    "    print('\\n')\n",
    "    # li = result.xpath(\"/html/body/div[4]/div[4]/div[3]/dl\")\n",
    "    # len_li = len(li)\n",
    "    # print(f\"第{page}页: {len_li}条数据\")\n",
    "    # for idx in range(0,len_li):\n",
    "    #     base_xml = r\"/html/body/div[4]/div[4]/div[3]/dl[\"+ str(idx) +\"]/dd[1]/h4/a/@href\"\n",
    "    #     r = result.xpath(base_xml)\n",
    "    #     try:\n",
    "    #         r = r[0]\n",
    "    #         id = r[9:20]\n",
    "    #         target_url = \"https://wuxi.esf.fang.com/chushou/\"+id+\".htm\"\n",
    "    #         # print(f\"{page}-{idx}: {target_url}\")\n",
    "    #     except Exception as e:\n",
    "    #         print(e)\n",
    "\n",
    "# info_filename = r\"E:\\pycharm files\\爬虫\\房天下二手房定价模型\\data\\info.txt\"\n",
    "# with open(info_filename,\"w\") as f:\n",
    "#     json_str = json.dumps(info_list)\n",
    "#     f.write(json_str)\n",
    "#     \n",
    "    \n",
    "print(\"over\")"
   ],
   "metadata": {
    "collapsed": false,
    "pycharm": {
     "name": "#%%\n",
     "is_executing": false
    }
   }
  },
  {
   "cell_type": "code",
   "execution_count": 56,
   "outputs": [],
   "source": [
    "xml_code1 = [{\n",
    "    \"链接\":\"/html/head/meta[3]/@content\",\n",
    "},\n",
    "    {\n",
    "    \"房源信息\":\"/html/body/div[4]/div[2]/div[1]/div[2]/div[2]/text()\",\n",
    "},{\n",
    "    \"小区信息\":\"/html/body/div[4]/div[2]/div[1]/div[4]/div[2]/div[2]\",\n",
    "}]"
   ],
   "metadata": {
    "collapsed": false,
    "pycharm": {
     "name": "#%%\n",
     "is_executing": false
    }
   }
  },
  {
   "cell_type": "code",
   "execution_count": 57,
   "outputs": [
    {
     "name": "stdout",
     "text": [
      "链接:172859405\n",
      "\n",
      "                        \n",
      "                            \n",
      "                                \n",
      "                            \n",
      "                            \n",
      "                            \n",
      "                                \n",
      "                            \n",
      "                            \n",
      "                                \n",
      "                            \n",
      "                            \n",
      "                                \n",
      "                            \n",
      "                            \n",
      "                                \n",
      "                            \n",
      "                        \n",
      "                        \n",
      "                    \n",
      "                        \n",
      "\n",
      "                    \n",
      "房源信息 ===============\n"
     ],
     "output_type": "stream"
    },
    {
     "traceback": [
      "\u001b[1;31m---------------------------------------------------------------------------\u001b[0m",
      "\u001b[1;31mTypeError\u001b[0m                                 Traceback (most recent call last)",
      "\u001b[1;32m~\\AppData\\Local\\Temp/ipykernel_24216/3431104648.py\u001b[0m in \u001b[0;36m<module>\u001b[1;34m\u001b[0m\n\u001b[0;32m     27\u001b[0m         \u001b[0mprint\u001b[0m\u001b[1;33m(\u001b[0m\u001b[0ma\u001b[0m\u001b[1;33m)\u001b[0m\u001b[1;33m\u001b[0m\u001b[1;33m\u001b[0m\u001b[0m\n\u001b[0;32m     28\u001b[0m         \u001b[0mprint\u001b[0m\u001b[1;33m(\u001b[0m\u001b[0mk\u001b[0m\u001b[1;33m,\u001b[0m\u001b[1;34m\"===============\"\u001b[0m\u001b[1;33m)\u001b[0m\u001b[1;33m\u001b[0m\u001b[1;33m\u001b[0m\u001b[0m\n\u001b[1;32m---> 29\u001b[1;33m         \u001b[0mtext\u001b[0m \u001b[1;33m=\u001b[0m \u001b[0metree\u001b[0m\u001b[1;33m.\u001b[0m\u001b[0mtostring\u001b[0m\u001b[1;33m(\u001b[0m\u001b[0mt\u001b[0m \u001b[1;33m,\u001b[0m\u001b[0mencoding\u001b[0m\u001b[1;33m=\u001b[0m\u001b[1;34m'utf-8'\u001b[0m\u001b[1;33m,\u001b[0m \u001b[0mmethod\u001b[0m\u001b[1;33m=\u001b[0m\u001b[1;34m'html'\u001b[0m\u001b[1;33m)\u001b[0m\u001b[1;33m.\u001b[0m\u001b[0mdecode\u001b[0m\u001b[1;33m(\u001b[0m\u001b[1;34m'utf-8'\u001b[0m\u001b[1;33m)\u001b[0m\u001b[1;33m\u001b[0m\u001b[1;33m\u001b[0m\u001b[0m\n\u001b[0m\u001b[0;32m     30\u001b[0m         \u001b[1;31m# print(text)\u001b[0m\u001b[1;33m\u001b[0m\u001b[1;33m\u001b[0m\u001b[0m\n\u001b[0;32m     31\u001b[0m         \u001b[0mmatches\u001b[0m \u001b[1;33m=\u001b[0m \u001b[0mre\u001b[0m\u001b[1;33m.\u001b[0m\u001b[0mfindall\u001b[0m\u001b[1;33m(\u001b[0m\u001b[0mpattern1\u001b[0m\u001b[1;33m,\u001b[0m \u001b[0mtext\u001b[0m\u001b[1;33m)\u001b[0m\u001b[1;33m\u001b[0m\u001b[1;33m\u001b[0m\u001b[0m\n",
      "\u001b[1;32msrc/lxml/etree.pyx\u001b[0m in \u001b[0;36mlxml.etree.tostring\u001b[1;34m()\u001b[0m\n",
      "\u001b[1;31mTypeError\u001b[0m: Type 'list' cannot be serialized."
     ],
     "ename": "TypeError",
     "evalue": "Type 'list' cannot be serialized.",
     "output_type": "error"
    }
   ],
   "source": [
    "from lxml import etree\n",
    "import json\n",
    "import re\n",
    "\n",
    "total = 2\n",
    "page = 13\n",
    "info_list = []\n",
    "pattern1 = re.compile(r'<span class=\"lab\">(.*?)<\\/span>\\s*<span class=\"rcont\">([\\s\\S]*?)<\\/span>')\n",
    "pattern2 = re.compile(r'<span class=\"lab\">(.*?)<\\/span>\\s*<span class=\"rcont \">([\\s\\S]*?)<\\/span>')\n",
    "pattern3 = re.compile(r'AGT_(.*?).html')\n",
    "for page in range(page,page+1):\n",
    "    file_name = r\"E:\\pycharm files\\爬虫\\房天下二手房定价模型\\data\\详情页\\page\"+str(page)+\".txt\"\n",
    "    with open(file_name,\"r\") as f:\n",
    "        html_str = f.read()\n",
    "    result = etree.HTML(html_str)\n",
    "    code = xml_code1[0]\n",
    "    for k,v in code.items():\n",
    "        t = str(result.xpath(v)[0])\n",
    "        match = pattern3.findall(t)[0]\n",
    "        print(f\"{k}:{match}\")\n",
    "    \n",
    "    \n",
    "    code = xml_code1[1]\n",
    "    for k,v in code.items():\n",
    "        t = result.xpath(v)\n",
    "        a = ''.join(t)\n",
    "        print(a)\n",
    "        print(k,\"===============\")\n",
    "        text = etree.tostring(t ,encoding='utf-8', method='html').decode('utf-8')\n",
    "        # print(text)\n",
    "        matches = re.findall(pattern1, text)\n",
    "        for match in matches:\n",
    "            key = match[0].strip()\n",
    "            value = re.sub(r'<[^>]+>', '', match[1]).strip()\n",
    "            print(f\"{key}:{value}\")\n",
    "    \n",
    "    code = xml_code1[2]\n",
    "    for k,v in code.items():\n",
    "        t = result.xpath(v)[0]\n",
    "        print(k,\"=====================\")\n",
    "        text = etree.tostring(t ,encoding='utf-8', method='html').decode('utf-8')\n",
    "        # print(text)\n",
    "        matches = re.findall(pattern2, text)\n",
    "        for match in matches:\n",
    "            key = match[0].strip()\n",
    "            value = re.sub(r'<[^>]+>', '', match[1]).strip()\n",
    "            print(f\"{key}:{value}\")\n",
    "\n",
    "    print('\\n')\n",
    "    \n",
    "print(\"over\")\n"
   ],
   "metadata": {
    "collapsed": false,
    "pycharm": {
     "name": "#%%\n",
     "is_executing": false
    }
   }
  },
  {
   "cell_type": "code",
   "execution_count": 75,
   "outputs": [
    {
     "name": "stdout",
     "text": [
      "\n",
      "    Title\n",
      "    Paragraph 1\n",
      "    Paragraph 2\n",
      "\n"
     ],
     "output_type": "stream"
    }
   ],
   "source": [
    "from lxml import etree\n",
    "\n",
    "# 假设html为HTML字符串\n",
    "html = '''\n",
    "<html>\n",
    "<body>\n",
    "<div>\n",
    "    <h1>Title</h1>\n",
    "    <p>Paragraph 1</p>\n",
    "    <p>Paragraph 2</p>\n",
    "</div>\n",
    "</body>\n",
    "</html>\n",
    "'''\n",
    "\n",
    "# 将HTML字符串解析为Element对象\n",
    "root = etree.HTML(html)\n",
    "\n",
    "# 使用xpath表达式提取<div>标签的内容\n",
    "result = root.xpath('//div')\n",
    "\n",
    "# 获取标签内的纯文本内容\n",
    "content = ''.join(result[0].itertext())\n",
    "\n",
    "print(content)"
   ],
   "metadata": {
    "collapsed": false,
    "pycharm": {
     "name": "#%%\n",
     "is_executing": false
    }
   }
  },
  {
   "cell_type": "code",
   "execution_count": 73,
   "outputs": [
    {
     "name": "stdout",
     "text": [
      "<Element h1 at 0x25e91de6780>\n",
      "<Element p at 0x25e91cac340>\n",
      "<Element p at 0x25e91d1f5c0>\n"
     ],
     "output_type": "stream"
    }
   ],
   "source": [
    "html = '''\n",
    "<html>\n",
    "<body>\n",
    "<div>\n",
    "    <h1>Title</h1>\n",
    "    <p>Paragraph 1</p>\n",
    "    <p>Paragraph 2</p>\n",
    "</div>\n",
    "</body>\n",
    "</html>\n",
    "'''\n",
    "\n",
    "# 将HTML字符串解析为Element对象\n",
    "root = etree.HTML(html)\n",
    "\n",
    "# 使用xpath表达式提取<div>标签的内容\n",
    "result = root.xpath('//div')\n",
    "\n",
    "# 获取标签内的纯文本内容\n",
    "content = ''\n",
    "for element in result[0]:\n",
    "    print(element)\n",
    "    content += etree.tostring(element, encoding='utf-8', method='html').decode('utf-8')\n",
    "\n",
    "# print(content)"
   ],
   "metadata": {
    "collapsed": false,
    "pycharm": {
     "name": "#%%\n",
     "is_executing": false
    }
   }
  },
  {
   "cell_type": "code",
   "execution_count": 77,
   "outputs": [
    {
     "name": "stdout",
     "text": [
      "{'建筑年代': '2009年', '有无电梯': '有', '产权性质': '商品房', '住宅类别': '普通住宅', '建筑结构': '平层', '建筑类别': '板楼', '挂牌时间': '2023-07-26'}\n"
     ],
     "output_type": "stream"
    }
   ],
   "source": [
    "import re\n",
    "\n",
    "text = '''\n",
    "<div class=\"text-item clearfix\">\n",
    "    <span class=\"lab\">建筑年代</span>\n",
    "    <span class=\"rcont\">2009年</span>\n",
    "</div>\n",
    "                            \n",
    "<div class=\"text-item clearfix\">\n",
    "    <span class=\"lab\">有无电梯</span>\n",
    "    <span class=\"rcont\">有 </span>\n",
    "</div>\n",
    "                            \n",
    "<div class=\"text-item clearfix\">\n",
    "    <span class=\"lab\">产权性质</span>\n",
    "    <span class=\"rcont\">\n",
    "        \n",
    "        商品房\n",
    "        \n",
    "    </span>\n",
    "</div>                       \n",
    "                            \n",
    "<div class=\"text-item clearfix\">\n",
    "    <span class=\"lab\">住宅类别</span>\n",
    "    <span class=\"rcont\">\n",
    "        \n",
    "        <a href=\"https://baike.fang.com/item/普通住宅/2049571\" target=\"_blank\"  class=\"link_rk\">普通住宅</a>\n",
    "        \n",
    "    </span>\n",
    "</div>\n",
    "                                            \n",
    "<div class=\"text-item clearfix\">\n",
    "    <span class=\"lab\">建筑结构</span>\n",
    "    <span class=\"rcont\">\n",
    "    \n",
    "        <a href=\"https://baike.fang.com/item/平层/12851737\"  target=\"_blank\" class=\"link_rk\">平层</a>\n",
    "    \n",
    "    </span>\n",
    "</div>                    \n",
    "                            \n",
    "<div class=\"text-item clearfix\">\n",
    "    <span class=\"lab\">建筑类别</span>\n",
    "    <span class=\"rcont\">\n",
    "    \n",
    "        <a href=\"https://baike.fang.com/item/板楼/1536095\"  target=\"_blank\" class=\"link_rk\">板楼</a>\n",
    "    \n",
    "    </span>\n",
    "</div>\n",
    "\n",
    "<div class=\"text-item clearfix\">\n",
    "    <span class=\"lab\">挂牌时间</span>\n",
    "    <span class=\"rcont\">\n",
    "        2023-07-26\n",
    "    </span>\n",
    "</div>\n",
    "'''\n",
    "result = {}\n",
    "\n",
    "pattern = re.compile(r'<span class=\"lab\">(.*?)<\\/span>\\s*<span class=\"rcont\">([\\s\\S]*?)<\\/span>')\n",
    "matches = re.findall(pattern, text)\n",
    "for match in matches:\n",
    "    # print(match[1].strip())\n",
    "    key = match[0].strip()\n",
    "    value = re.sub(r'<[^>]+>', '', match[1]).strip()\n",
    "    result[key] = value\n",
    "\n",
    "print(result)  # 输出: {'产权性质': '商品房', '住宅类别': '普通住宅'}\n"
   ],
   "metadata": {
    "collapsed": false,
    "pycharm": {
     "name": "#%%\n",
     "is_executing": false
    }
   }
  },
  {
   "cell_type": "code",
   "execution_count": null,
   "outputs": [],
   "source": [
    "\n"
   ],
   "metadata": {
    "collapsed": false,
    "pycharm": {
     "name": "#%%\n"
    }
   }
  }
 ],
 "metadata": {
  "kernelspec": {
   "name": "pycharm-3829732f",
   "language": "python",
   "display_name": "PyCharm (Datamining)"
  },
  "language_info": {
   "codemirror_mode": {
    "name": "ipython",
    "version": 2
   },
   "file_extension": ".py",
   "mimetype": "text/x-python",
   "name": "python",
   "nbconvert_exporter": "python",
   "pygments_lexer": "ipython2",
   "version": "2.7.6"
  },
  "pycharm": {
   "stem_cell": {
    "cell_type": "raw",
    "source": [],
    "metadata": {
     "collapsed": false
    }
   }
  }
 },
 "nbformat": 4,
 "nbformat_minor": 0
}