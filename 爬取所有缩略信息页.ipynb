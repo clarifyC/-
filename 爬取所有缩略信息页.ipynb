{
 "cells": [
  {
   "cell_type": "markdown",
   "metadata": {
    "collapsed": true,
    "pycharm": {
     "is_executing": false,
     "name": "#%% md\n"
    }
   },
   "source": [
    "爬取所有缩略信息页面，并将获得的html字符串保存到文件\n",
    "\n"
   ]
  },
  {
   "cell_type": "code",
   "execution_count": 3,
   "outputs": [],
   "source": [
    "\n",
    "\n"
   ],
   "metadata": {
    "collapsed": false,
    "pycharm": {
     "name": "#%%\n",
     "is_executing": false
    }
   }
  },
  {
   "cell_type": "code",
   "execution_count": 3,
   "outputs": [
    {
     "name": "stdout",
     "text": [
      "保存第1页\n",
      "保存第2页\n",
      "保存第3页\n",
      "保存第4页\n",
      "保存第5页\n",
      "over\n"
     ],
     "output_type": "stream"
    }
   ],
   "source": [
    "# 爬虫 缩略信息页\n",
    "import time\n",
    "import requests\n",
    "def getHTML(url,headers):\n",
    "    resp = requests.get(url,headers=headers)\n",
    "    html = resp.text\n",
    "    return html\n",
    "\n",
    "total = 5\n",
    "base_url = \"https://wuxi.esf.fang.com/house/i3\"\n",
    "headers = {\n",
    "    \"Referer\":\"http://search.fang.com/\",\n",
    "    \"User-Agent\":\"Mozilla/5.0 (Windows NT 10.0; Win64; x64) AppleWebKit/537.36 (KHTML, like Gecko) Chrome/115.0.0.0 Safari/537.36 Edg/115.0.1901.183\",\n",
    "    \"Cookie\":\"global_cookie=f4z9z063jq34o28vxq52eephp1cljskp536; __utmc=147393320; csrfToken=P76IEfS5nfQwdr-NqoD9J7P5; city=wuxi; g_sourcepage=esf_fy%5Elb_pc; __utma=147393320.564282534.1688734407.1690616400.1690621484.7; __utmz=147393320.1690621484.7.7.utmcsr=wuxi.esf.fang.com|utmccn=(referral)|utmcmd=referral|utmcct=/house/i31/; __utmt_t0=1; __utmt_t1=1; __utmt_t2=1; unique_cookie=U_142g6osfbe451l5026qi7z4sm18lknpcm91*63; __utmb=147393320.9.10.1690621484\"\n",
    "}\n",
    "for page in range(1,total+1):\n",
    "    url = base_url+str(page)+\"/\"\n",
    "    html_str = getHTML(url,headers)\n",
    "    file_name = r\"E:\\pycharm files\\爬虫\\房天下二手房定价模型\\data\\page\"+str(page)+\".txt\"    \n",
    "    with open(file_name ,\"w\") as f:\n",
    "        f.write(html_str)\n",
    "    print(f\"保存第{page}页\")\n",
    "    time.sleep(0.1)\n",
    "\n",
    "print(\"over\")\n"
   ],
   "metadata": {
    "collapsed": false,
    "pycharm": {
     "name": "#%%\n",
     "is_executing": false
    }
   }
  },
  {
   "cell_type": "markdown",
   "source": [],
   "metadata": {
    "collapsed": false,
    "pycharm": {
     "name": "#%% md\n"
    }
   }
  },
  {
   "cell_type": "code",
   "execution_count": 4,
   "outputs": [],
   "source": [
    "def create_json(id,url):\n",
    "    dic = {\n",
    "            \"id\":id,\n",
    "           \"name\":\"小区名称\",\n",
    "           \"url\":url,\n",
    "           \"price\":{\"per\":\"每平方单价\",\n",
    "                \"total\":\"总价\",\n",
    "                \"unit\":\"价格单位\"\n",
    "            },\n",
    "           \"location\":{\n",
    "               \"city\":\"城市\",\n",
    "               \"area\":\"区域\",\n",
    "               \"detail\":\"详细地址\",\n",
    "               \"llitude\":\"经纬度\",\n",
    "               \"advantage\":{\n",
    "                   \"subway\":\"地铁\"\n",
    "               }\n",
    "            },\n",
    "           \"house_info\":{\n",
    "               \"square\":{\n",
    "                   \"target\":\"target\",\n",
    "                    \"min\":\"min\",\n",
    "                    \"max\":\"max\"\n",
    "                },\n",
    "               \"type\":\"3室2厅\",\n",
    "               \"floor\":{\n",
    "                   \"target\":\"出售楼层\",\n",
    "                   \"total\":\"总楼层\"\n",
    "               },\n",
    "               \"adornment\":\"装修\",\n",
    "               \"orientation\":\"朝向\"\n",
    "               \"\"\n",
    "           },\n",
    "        \"resource_info\":{\n",
    "            \"age\":\"建筑年代\",\n",
    "            \"elevator\":\"有无电梯\",\n",
    "            \"right\":\"产权性质\",\n",
    "            \"house_category\":\"住宅类别\",\n",
    "            \"structure\":\"建筑结构\",\n",
    "            \"build_category\":\"建筑类别\",\n",
    "            \"time\":\"挂牌时间\"\n",
    "        },\n",
    "        \"cell_info\":{\n",
    "            \"refer\":\"参考均价\",\n",
    "            \"tenement\":\"物业类型\",\n",
    "            \"fare\":\"物业费用\",\n",
    "            \"years\":\"产权年限\",\n",
    "            \"green\":\"绿化率\",\n",
    "            \"plot\":\"容积率\",\n",
    "            \"vehicles\":\"人车分流\",\n",
    "            \"build_total\":\"总栋数\",\n",
    "            \"house_total\":\"总户数\"\n",
    "        },\n",
    "        \"others\":{\n",
    "            \"core\":\"核心卖点\",\n",
    "            \"mental\":\"业主心态\",\n",
    "            \"commission\":\"税费分析\",\n",
    "            \"setup\":\"小区配套\",\n",
    "            \"service\":\"服务介绍\"}\n",
    "    \n",
    "    }\n",
    "    return dic"
   ],
   "metadata": {
    "collapsed": false,
    "pycharm": {
     "name": "#%%\n",
     "is_executing": false
    }
   }
  },
  {
   "cell_type": "code",
   "execution_count": 5,
   "outputs": [],
   "source": [
    "def create_json1(id,title,url):\n",
    "    dic = {\n",
    "            \"id\":id,\n",
    "           \"title\":title,\n",
    "           \"url\":url\n",
    "    }\n",
    "    return dic"
   ],
   "metadata": {
    "collapsed": false,
    "pycharm": {
     "name": "#%%\n",
     "is_executing": false
    }
   }
  },
  {
   "cell_type": "code",
   "execution_count": 6,
   "outputs": [
    {
     "data": {
      "text/plain": "dict"
     },
     "metadata": {},
     "output_type": "execute_result",
     "execution_count": 6
    }
   ],
   "source": [
    "def init_xml_code(idx):\n",
    "    xml_code ={\n",
    "        \"url1\":\"/html/body/div[4]/div[4]/div[3]/dl[*]/dd[1]/h4/a/@href\",\n",
    "        \"标题\":\"/html/body/div[4]/div[4]/div[3]/dl[*]/dd[1]/h4/a/span/text()\",\n",
    "        \"总价\":\"/html/body/div[4]/div[4]/div[3]/dl[*]/dd[2]/span[1]/b/text()\",\n",
    "        \"均价\":\"/html/body/div[4]/div[4]/div[3]/dl[*]/dd[2]/span[2]/text()\",\n",
    "                # /html/body/div[4]/div[4]/div[4]/dl[2]/dd[1]/p[1]/text()[1]\n",
    "        \"户型\":\"/html/body/div[4]/div[4]/div[3]/dl[*]/dd[1]/p[1]/text()[1]\",\n",
    "        \"面积\":\"/html/body/div[4]/div[4]/div[3]/dl[*]/dd[1]/p[1]/text()[2]\",\n",
    "        \"楼层\":\"/html/body/div[4]/div[4]/div[3]/dl[*]/dd[1]/p[1]/a/text()\",\n",
    "        \"总楼层\":\"/html/body/div[4]/div[4]/div[3]/dl[*]/dd[1]/p[1]/text()[4]\",\n",
    "        \"朝向\":\"/html/body/div[4]/div[4]/div[3]/dl[*]/dd[1]/p[1]/text()[5]\",\n",
    "        \"建筑年代\":\"/html/body/div[4]/div[4]/div[3]/dl[*]/dd[1]/p[1]/text()[6]\",\n",
    "        \"小区\":\"/html/body/div[4]/div[4]/div[3]/dl[*]/dd[1]/p[2]/a/text()\",\n",
    "        \"地址\":\"/html/body/div[4]/div[4]/div[3]/dl[*]/dd[1]/p[2]/span/text()\",\n",
    "        \"优势1\":\"/html/body/div[4]/div[4]/div[3]/dl[*]/dd[1]/p[3]/a/text()\",\n",
    "        \"优势2\":\"/html/body/div[4]/div[4]/div[3]/dl[*]/dd[1]/p[3]/span[1]/text()\",\n",
    "        \"优势3\":\"/html/body/div[4]/div[4]/div[3]/dl[*]/dd[1]/p[3]/span[2]/text()\"\n",
    "    }\n",
    "    for k,v in xml_code.items():\n",
    "        xml_code[k] = xml_code[k].replace('*',str(idx))\n",
    "    return xml_code\n",
    "type(init_xml_code(2))"
   ],
   "metadata": {
    "collapsed": false,
    "pycharm": {
     "name": "#%%\n",
     "is_executing": false
    }
   }
  },
  {
   "cell_type": "code",
   "execution_count": 12,
   "outputs": [
    {
     "name": "stdout",
     "text": [
      "第2页: 60条数据\n",
      "\n",
      "\n",
      "第3页: 60条数据\n",
      "\n",
      "\n",
      "第4页: 60条数据\n",
      "\n",
      "\n",
      "第5页: 60条数据\n",
      "\n",
      "\n",
      "第6页: 60条数据\n",
      "\n",
      "\n",
      "第7页: 60条数据\n",
      "\n",
      "\n",
      "第8页: 60条数据\n",
      "\n",
      "\n",
      "第9页: 60条数据\n",
      "\n",
      "\n",
      "第10页: 60条数据\n",
      "\n",
      "\n",
      "第11页: 60条数据\n",
      "\n",
      "\n",
      "第12页: 60条数据\n",
      "\n",
      "\n",
      "第13页: 60条数据\n",
      "\n",
      "\n",
      "第14页: 60条数据\n",
      "\n",
      "\n",
      "第15页: 60条数据\n",
      "\n",
      "\n",
      "第16页: 60条数据\n",
      "\n",
      "\n",
      "第17页: 60条数据\n",
      "\n",
      "\n",
      "第18页: 60条数据\n",
      "\n",
      "\n",
      "第19页: 60条数据\n",
      "\n",
      "\n",
      "第20页: 60条数据\n",
      "\n",
      "\n",
      "第21页: 60条数据\n",
      "\n",
      "\n",
      "第22页: 60条数据\n",
      "\n",
      "\n",
      "第23页: 60条数据\n",
      "\n",
      "\n",
      "第24页: 60条数据\n",
      "\n",
      "\n",
      "第25页: 60条数据\n",
      "\n",
      "\n",
      "第26页: 60条数据\n",
      "\n",
      "\n",
      "第27页: 60条数据\n",
      "\n",
      "\n",
      "第28页: 60条数据\n",
      "\n",
      "\n",
      "第29页: 60条数据\n",
      "\n",
      "\n",
      "第30页: 60条数据\n",
      "\n",
      "\n",
      "第31页: 60条数据\n",
      "\n",
      "\n",
      "第32页: 60条数据\n",
      "\n",
      "\n",
      "第33页: 60条数据\n",
      "\n",
      "\n",
      "第34页: 60条数据\n",
      "\n",
      "\n",
      "第35页: 60条数据\n",
      "\n",
      "\n",
      "第36页: 60条数据\n",
      "\n",
      "\n",
      "第37页: 60条数据\n",
      "\n",
      "\n",
      "第38页: 60条数据\n",
      "\n",
      "\n",
      "第39页: 60条数据\n",
      "\n",
      "\n",
      "第40页: 60条数据\n",
      "\n",
      "\n",
      "第41页: 60条数据\n",
      "\n",
      "\n",
      "第42页: 60条数据\n",
      "\n",
      "\n",
      "第43页: 60条数据\n",
      "\n",
      "\n",
      "第44页: 60条数据\n",
      "\n",
      "\n",
      "第45页: 60条数据\n",
      "\n",
      "\n",
      "第46页: 60条数据\n",
      "\n",
      "\n",
      "第47页: 60条数据\n",
      "\n",
      "\n",
      "第48页: 60条数据\n",
      "\n",
      "\n",
      "第49页: 60条数据\n",
      "\n",
      "\n",
      "第50页: 60条数据\n",
      "\n",
      "\n",
      "第51页: 60条数据\n",
      "\n",
      "\n",
      "第52页: 60条数据\n",
      "\n",
      "\n",
      "第53页: 60条数据\n",
      "\n",
      "\n",
      "第54页: 60条数据\n",
      "\n",
      "\n",
      "第55页: 60条数据\n",
      "\n",
      "\n",
      "第56页: 60条数据\n",
      "\n",
      "\n",
      "第57页: 60条数据\n",
      "\n",
      "\n",
      "第58页: 60条数据\n",
      "\n",
      "\n",
      "第59页: 60条数据\n",
      "\n",
      "\n",
      "第60页: 60条数据\n",
      "\n",
      "\n",
      "第61页: 60条数据\n",
      "\n",
      "\n",
      "第62页: 60条数据\n",
      "\n",
      "\n",
      "第63页: 60条数据\n",
      "\n",
      "\n",
      "第64页: 60条数据\n",
      "\n",
      "\n",
      "第65页: 60条数据\n",
      "\n",
      "\n",
      "第66页: 60条数据\n",
      "\n",
      "\n",
      "第67页: 60条数据\n",
      "\n",
      "\n",
      "第68页: 60条数据\n",
      "\n",
      "\n",
      "第69页: 60条数据\n",
      "\n",
      "\n",
      "第70页: 60条数据\n",
      "\n",
      "\n",
      "第71页: 60条数据\n",
      "\n",
      "\n",
      "第72页: 60条数据\n",
      "\n",
      "\n",
      "第73页: 60条数据\n",
      "\n",
      "\n",
      "第74页: 60条数据\n",
      "\n",
      "\n",
      "第75页: 60条数据\n",
      "\n",
      "\n",
      "第76页: 60条数据\n",
      "\n",
      "\n",
      "第77页: 60条数据\n",
      "\n",
      "\n",
      "第78页: 60条数据\n",
      "\n",
      "\n",
      "第79页: 60条数据\n",
      "\n",
      "\n",
      "第80页: 60条数据\n",
      "\n",
      "\n",
      "第81页: 60条数据\n",
      "\n",
      "\n",
      "第82页: 60条数据\n",
      "\n",
      "\n",
      "第83页: 60条数据\n",
      "\n",
      "\n",
      "第84页: 60条数据\n",
      "\n",
      "\n",
      "第85页: 60条数据\n",
      "\n",
      "\n",
      "第86页: 60条数据\n",
      "\n",
      "\n",
      "第87页: 60条数据\n",
      "\n",
      "\n",
      "第88页: 60条数据\n",
      "\n",
      "\n",
      "第89页: 60条数据\n",
      "\n",
      "\n",
      "第90页: 60条数据\n",
      "\n",
      "\n",
      "第91页: 60条数据\n",
      "\n",
      "\n",
      "第92页: 60条数据\n",
      "\n",
      "\n",
      "第93页: 60条数据\n",
      "\n",
      "\n",
      "第94页: 60条数据\n",
      "\n",
      "\n",
      "第95页: 60条数据\n",
      "\n",
      "\n",
      "第96页: 60条数据\n",
      "\n",
      "\n",
      "第97页: 60条数据\n",
      "\n",
      "\n",
      "第98页: 60条数据\n",
      "\n",
      "\n",
      "第99页: 60条数据\n",
      "\n",
      "\n",
      "第100页: 60条数据\n",
      "\n",
      "\n",
      "over\n"
     ],
     "output_type": "stream"
    }
   ],
   "source": [
    "# 数据清洗: 从缩略信息中提取出id和url\n",
    "from lxml import etree\n",
    "import json\n",
    "\n",
    "total = 101\n",
    "info_list = []\n",
    "flag = 0\n",
    "for page in range(2,total):\n",
    "    file_name = r\"E:\\pycharm files\\爬虫\\房天下二手房定价模型\\data\\缩略页\\page\"+str(page)+\".txt\"\n",
    "    with open(file_name,\"r\") as f:\n",
    "        html_str = f.read()\n",
    "    result = etree.HTML(html_str)\n",
    "    li = result.xpath(\"/html/body/div[4]/div[4]/div[3]/dl\")\n",
    "    len_li = len(li)\n",
    "    print(f\"第{page}页: {len_li}条数据\")\n",
    "    for idx in range(0,len_li):\n",
    "        flag = 0\n",
    "        xml_code = init_xml_code(idx)\n",
    "        dic = dict()\n",
    "        for k,v in xml_code.items():\n",
    "            try:\n",
    "                r = str(result.xpath(v)[0]).strip()\n",
    "                dic[k] = r\n",
    "            except Exception as e:\n",
    "                dic[k] = []\n",
    "                if(k==\"url1\"):\n",
    "                    flag = 1\n",
    "            # print(f\"{k}: {dic[k]}\")\n",
    "        if flag==0:\n",
    "            info_list.append(dic)\n",
    "    print(\"\\n\")\n",
    "                \n",
    "\n",
    "info_filename = r\"E:\\pycharm files\\爬虫\\房天下二手房定价模型\\data\\sketchy_info.json\"\n",
    "with open(info_filename,\"w\") as f:\n",
    "    json_str = json.dumps(info_list)\n",
    "    f.write(json_str)\n",
    "#     \n",
    "    \n",
    "print(\"over\")\n"
   ],
   "metadata": {
    "collapsed": false,
    "pycharm": {
     "name": "#%%\n",
     "is_executing": false
    }
   }
  },
  {
   "cell_type": "code",
   "execution_count": 1,
   "outputs": [],
   "source": [],
   "metadata": {
    "collapsed": false,
    "pycharm": {
     "name": "#%%\n",
     "is_executing": false
    }
   }
  },
  {
   "cell_type": "markdown",
   "source": [
    "id:小区编号\n",
    "name:小区名称\n",
    "url:链接地址\n",
    "price:{per:每平方单价,total:总价,unit:价格单位}价格\n",
    "location:{city:城市,area:区域,detail:详细地址,llitude:经纬度,advantage:优势{subway:地铁}}地址\n",
    "house_info:房屋信息{square:面积{target,min,max},type:3室2厅,floor:楼层{target:出售楼层,total:总楼层},adornment:装修,orientation:朝向}\n",
    "resource_info:房源信息{age:建筑年代,elevator:有无电梯,right:产权性质,house_category:住宅类别,structure:建筑结构,build_category:建筑类别,time:挂牌时间}\n",
    "cell_info:小区信息{refer:参考均价,tenement:物业类型,green:绿化率,plot:容积率,vehicles:人车分流,build_total总栋数,house_total:总户数}\n",
    "others:其他{core:核心卖点,mental:业主心态,commission:税费分析,setup:小区配套,service:服务介绍}"
   ],
   "metadata": {
    "collapsed": false,
    "pycharm": {
     "name": "#%% md\n"
    }
   }
  },
  {
   "cell_type": "code",
   "source": [],
   "metadata": {
    "collapsed": false,
    "pycharm": {
     "name": "#%% \n",
     "is_executing": false
    }
   },
   "execution_count": 3,
   "outputs": []
  },
  {
   "cell_type": "code",
   "execution_count": 8,
   "outputs": [
    {
     "name": "stdout",
     "text": [
      "{'id': '3_172883474', 'name': '小区名称', 'url': 'https://wuxi.esf.fang.com/chushou/3_172883474.htm', 'price': {'per': '每平方单价', 'total': '总价', 'unit': '价格单位'}, 'location': {'city': '城市', 'area': '区域', 'detail': '详细地址', 'llitude': '经纬度', 'advantage': {'subway': '地铁'}}, 'house_info': {'square': {'target': 'target', 'min': 'min', 'max': 'max'}, 'type': '3室2厅', 'floor': {'target': '出售楼层', 'total': '总楼层'}, 'adornment': '装修', 'orientation': '朝向'}, 'resource_info': {'age': '建筑年代', 'elevator': '有无电梯', 'right': '产权性质', 'house_category': '住宅类别', 'structure': '建筑结构', 'build_category': '建筑类别', 'time': '挂牌时间'}, 'cell_info': {'refer': '参考均价', 'tenement': '物业类型', 'fare': '物业费用', 'years': '产权年限', 'green': '绿化率', 'plot': '容积率', 'vehicles': '人车分流', 'build_total': '总栋数', 'house_total': '总户数'}, 'others': {'core': '核心卖点', 'mental': '业主心态', 'commission': '税费分析', 'setup': '小区配套', 'service': '服务介绍'}}\n"
     ],
     "output_type": "stream"
    }
   ],
   "source": [
    "import json\n",
    "\n",
    "j_str = json.dumps(dic)\n",
    "j = json.loads(j_str)\n",
    "print(j)\n",
    "j[\"name\"]\n",
    "\n",
    "info_list = []"
   ],
   "metadata": {
    "collapsed": false,
    "pycharm": {
     "name": "#%%\n",
     "is_executing": false
    }
   }
  },
  {
   "cell_type": "code",
   "execution_count": 84,
   "outputs": [],
   "source": [
    "import requests\n",
    "\n",
    "base_url = \"https://wuxi.esf.fang.com/chushou/3_172846038.htm\"\n",
    "headers = {\n",
    "    \"Referer\":\"http://search.fang.com/\",\n",
    "    \"User-Agent\":\"Mozilla/5.0 (Windows NT 10.0; Win64; x64) AppleWebKit/537.36 (KHTML, like Gecko) Chrome/115.0.0.0 Safari/537.36 Edg/115.0.1901.183\",\n",
    "    \"Cookie\":\"global_cookie=f4z9z063jq34o28vxq52eephp1cljskp536; __utmc=147393320; csrfToken=P76IEfS5nfQwdr-NqoD9J7P5; city=wuxi; g_sourcepage=esf_fy%5Elb_pc; __utma=147393320.564282534.1688734407.1690616400.1690621484.7; __utmz=147393320.1690621484.7.7.utmcsr=wuxi.esf.fang.com|utmccn=(referral)|utmcmd=referral|utmcct=/house/i31/; __utmt_t0=1; __utmt_t1=1; __utmt_t2=1; unique_cookie=U_142g6osfbe451l5026qi7z4sm18lknpcm91*63; __utmb=147393320.9.10.1690621484\"\n",
    "}\n",
    "resp = requests.get(url,headers=headers)\n",
    "html_str = resp.text"
   ],
   "metadata": {
    "collapsed": false,
    "pycharm": {
     "name": "#%%\n",
     "is_executing": false
    }
   }
  },
  {
   "cell_type": "code",
   "execution_count": 86,
   "outputs": [],
   "source": [
    "# print(html_str)"
   ],
   "metadata": {
    "collapsed": false,
    "pycharm": {
     "name": "#%%\n",
     "is_executing": false
    }
   }
  },
  {
   "cell_type": "code",
   "execution_count": null,
   "outputs": [],
   "source": [
    "xml_code = {\n",
    "    \"户型\":\"/html/body/div[4]/div[1]/div[4]/div[3]/div[1]/div[1]\",\n",
    "    \"建筑面积\":\"/html/body/div[4]/div[1]/div[4]/div[3]/div[2]/div[1]\",\n",
    "    \"单价\":\"/html/body/div[4]/div[1]/div[4]/div[3]/div[3]/div[1]\",\n",
    "    \"朝向\":\"/html/body/div[4]/div[1]/div[4]/div[4]/div[1]/div[1]\",\n",
    "    \"楼层\":\"/html/body/div[4]/div[1]/div[4]/div[4]/div[2]/div[1]/a\",\n",
    "    \"总楼层\":\"/html/body/div[4]/div[1]/div[4]/div[4]/div[2]/div[2]\",\n",
    "    \"装修\":\"/html/body/div[4]/div[1]/div[4]/div[4]/div[3]/div[1]/a\",\n",
    "    \"小区\":\"/html/body/div[4]/div[1]/div[4]/div[5]/div[1]/div[2]/a[1]\",\n",
    "    \"区域\":\"/html/body/div[4]/div[1]/div[4]/div[5]/div[2]/div[2]/a[1]\",\n",
    "    \"建筑年度\":\"/html/body/div[4]/div[2]/div[1]/div[2]/div[2]/div[1]/span[2]\",\n",
    "    \"有无电梯\":\"/html/body/div[4]/div[2]/div[1]/div[2]/div[2]/div[2]/span[2]\",\n",
    "    \"产权性质\":\"/html/body/div[4]/div[2]/div[1]/div[2]/div[2]/div[3]/span[2]/a\",\n",
    "    \"住宅类型\":\"/html/body/div[4]/div[2]/div[1]/div[2]/div[2]/div[4]/span[2]/a\",\n",
    "    \"建筑结构\":\"/html/body/div[4]/div[2]/div[1]/div[2]/div[2]/div[5]/span[2]/a\",\n",
    "    \"建筑类别\":\"/html/body/div[4]/div[2]/div[1]/div[2]/div[2]/div[6]/span[2]/a\",\n",
    "    \"挂牌日期\":\"/html/body/div[4]/div[2]/div[1]/div[2]/div[2]/div[7]/span[2]\",\n",
    "    \"参考均价\":\"/html/body/div[4]/div[2]/div[1]/div[4]/div[2]/div[1]/div[1]/span[2]/i\",\n",
    "    \"物业类型\":\"/html/body/div[4]/div[2]/div[1]/div[4]/div[2]/div[2]/div[1]/span[2]\",\n",
    "    \"物业费用\":\"/html/body/div[4]/div[2]/div[1]/div[4]/div[2]/div[2]/div[2]/span[2]\",\n",
    "    \"产权年限\":\"/html/body/div[4]/div[2]/div[1]/div[4]/div[2]/div[2]/div[4]/span[2]\",\n",
    "    \"\":\"\",\n",
    "    \"\":\"\",\n",
    "    \"\":\"\",\n",
    "    \"\":\"\",\n",
    "    \"\":\"\",\n",
    "}\n"
   ],
   "metadata": {
    "collapsed": false,
    "pycharm": {
     "name": "#%%\n"
    }
   }
  }
 ],
 "metadata": {
  "kernelspec": {
   "name": "pycharm-3829732f",
   "language": "python",
   "display_name": "PyCharm (Datamining)"
  },
  "language_info": {
   "codemirror_mode": {
    "name": "ipython",
    "version": 2
   },
   "file_extension": ".py",
   "mimetype": "text/x-python",
   "name": "python",
   "nbconvert_exporter": "python",
   "pygments_lexer": "ipython2",
   "version": "2.7.6"
  },
  "pycharm": {
   "stem_cell": {
    "cell_type": "raw",
    "source": [],
    "metadata": {
     "collapsed": false
    }
   }
  }
 },
 "nbformat": 4,
 "nbformat_minor": 0
}