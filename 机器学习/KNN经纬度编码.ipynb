{
 "cells": [
  {
   "cell_type": "code",
   "execution_count": 29,
   "metadata": {
    "collapsed": true,
    "pycharm": {
     "is_executing": false
    }
   },
   "outputs": [],
   "source": [
    "\n",
    "import pandas as pd\n",
    "info_filename1 = r\"E:\\pycharm files\\housing_pricing_model\\data\\jw.csv\"\n",
    "info_filename2 = r\"E:\\pycharm files\\housing_pricing_model\\data\\clean_data.csv\"\n",
    "df_jw = pd.read_csv(info_filename1)\n",
    "df_data = pd.read_csv(info_filename2,encoding=\"gbk\")"
   ]
  },
  {
   "cell_type": "code",
   "execution_count": null,
   "outputs": [],
   "source": [],
   "metadata": {
    "collapsed": false,
    "pycharm": {
     "name": "#%%\n"
    }
   }
  },
  {
   "cell_type": "code",
   "execution_count": 30,
   "outputs": [],
   "source": [
    "df_price = df_data.loc[:,[\"单价\"]]"
   ],
   "metadata": {
    "collapsed": false,
    "pycharm": {
     "name": "#%%\n",
     "is_executing": false
    }
   }
  },
  {
   "cell_type": "code",
   "execution_count": 31,
   "outputs": [],
   "source": [
    "df_combine = pd.concat([df_price,df_jw],axis=1)"
   ],
   "metadata": {
    "collapsed": false,
    "pycharm": {
     "name": "#%%\n",
     "is_executing": false
    }
   }
  },
  {
   "cell_type": "code",
   "execution_count": 32,
   "outputs": [
    {
     "name": "stdout",
     "text": [
      "y_size:(2975, 1)，tpye:<class 'numpy.ndarray'>\n",
      "X_size:(2975, 2)，tpye:<class 'numpy.ndarray'>\n"
     ],
     "output_type": "stream"
    }
   ],
   "source": [
    "\n",
    "y = df_combine.iloc[:,0].to_numpy().reshape(-1,1)\n",
    "X = df_combine.iloc[:,1:3].to_numpy()\n",
    "print(f\"y_size:{y.shape}，tpye:{type(y)}\")\n",
    "print(f\"X_size:{X.shape}，tpye:{type(X)}\")\n",
    "\n"
   ],
   "metadata": {
    "collapsed": false,
    "pycharm": {
     "name": "#%%\n",
     "is_executing": false
    }
   }
  },
  {
   "cell_type": "code",
   "execution_count": 83,
   "outputs": [],
   "source": [
    "\n",
    "\n",
    "from sklearn.model_selection import train_test_split\n",
    "\n",
    "X_train, X_test, y_train, y_test = train_test_split(X, y,test_size=0.2)"
   ],
   "metadata": {
    "collapsed": false,
    "pycharm": {
     "name": "#%%\n",
     "is_executing": false
    }
   }
  },
  {
   "cell_type": "code",
   "execution_count": 119,
   "outputs": [],
   "source": [
    "\n",
    "import numpy as np\n",
    "from sklearn.neighbors import NearestNeighbors\n",
    "\n",
    "\n",
    "def NN(k,X_train,X_test,y_train,y_test):\n",
    "    # 使用NearestNeighbors找到每个X_test样本的K个最近邻\n",
    "    # k = 4  # 选择K的值\n",
    "    nbrs = NearestNeighbors(n_neighbors=k, algorithm='auto').fit(X_train)\n",
    "    distances, indices = nbrs.kneighbors(X_test)\n",
    "    \n",
    "    y_predict = np.zeros((len(y_test),1))\n",
    "    # 打印每个X_test样本的K个最近邻的索引和距离\n",
    "    for i in range(len(y_test)):\n",
    "        idx = indices[i]\n",
    "        # print(f\"样本{i}的K个最近邻索引：\", indices[i])\n",
    "        # print(f\"样本{i}的K个最近邻距离：\", distances[i])\n",
    "        # print(y_train[idx])\n",
    "        # print(y_train[idx].mean())\n",
    "        # print(y_test[i])\n",
    "        y_predict[i,0] = y_train[idx].mean()\n",
    "    return y_predict\n",
    "    "
   ],
   "metadata": {
    "collapsed": false,
    "pycharm": {
     "name": "#%%\n",
     "is_executing": false
    }
   }
  },
  {
   "cell_type": "code",
   "execution_count": 137,
   "outputs": [
    {
     "name": "stdout",
     "text": [
      "\n",
      "错误率：0.3704201680672269\n"
     ],
     "output_type": "stream"
    }
   ],
   "source": [
    "k=7\n",
    "y_predict = NN(k,X,X,y,y)\n",
    "y_error = abs(y_predict-y)\n",
    "idx_error = y_error>2000\n",
    "print()\n",
    "print(f'错误率：{idx_error.sum()/len(y)}')"
   ],
   "metadata": {
    "collapsed": false,
    "pycharm": {
     "name": "#%%\n",
     "is_executing": false
    }
   }
  },
  {
   "cell_type": "code",
   "execution_count": 138,
   "outputs": [],
   "source": [
    "import pandas as pd\n",
    "\n",
    "df_out = pd.DataFrame(y_predict,columns=[\"KNN经纬度目标编码\"])\n",
    "file_name = r\"E:\\pycharm files\\housing_pricing_model\\data\\knnjw.csv\"\n",
    "df_out.to_csv(file_name,index=False)"
   ],
   "metadata": {
    "collapsed": false,
    "pycharm": {
     "name": "#%%\n",
     "is_executing": false
    }
   }
  },
  {
   "cell_type": "code",
   "execution_count": null,
   "outputs": [],
   "source": [
    "def mapfunc(x):\n",
    "    if x<10000:\n",
    "        return 1\n",
    "    elif x>=10000 and x<15000:\n",
    "        return 2\n",
    "    elif x>=15000 and x<20000:\n",
    "        return 3\n",
    "    elif x>=20000 and x<25000:\n",
    "        return 4\n",
    "    elif x>=25000 and x<30000:\n",
    "        return 5\n",
    "    else:\n",
    "        return 6\n",
    "    \n",
    "y_cla_pred = np.array(list(map(mapfunc,y_predict))).reshape(-1,1)\n",
    "y_cla_true = np.array(list(map(mapfunc,y_test))).reshape(-1,1)\n",
    "y_cla_error = abs(y_cla_pred-y_cla_true)"
   ],
   "metadata": {
    "collapsed": false,
    "pycharm": {
     "name": "#%%\n"
    }
   }
  },
  {
   "cell_type": "code",
   "execution_count": 122,
   "outputs": [
    {
     "name": "stdout",
     "text": [
      "准确率：0.6369747899159663\n"
     ],
     "output_type": "stream"
    }
   ],
   "source": [
    "import sklearn.metrics as metrics\n",
    "metrics.mean_squared_error(y_predict,y_test)/len(y_test)\n",
    "accuracy_score = metrics.accuracy_score(y_cla_pred,y_cla_true)\n",
    "print(f\"准确率：{accuracy_score}\")"
   ],
   "metadata": {
    "collapsed": false,
    "pycharm": {
     "name": "#%%\n",
     "is_executing": false
    }
   }
  },
  {
   "cell_type": "code",
   "execution_count": null,
   "outputs": [],
   "source": [
    "\n"
   ],
   "metadata": {
    "collapsed": false,
    "pycharm": {
     "name": "#%%\n"
    }
   }
  }
 ],
 "metadata": {
  "kernelspec": {
   "name": "pycharm-3829732f",
   "language": "python",
   "display_name": "PyCharm (Datamining)"
  },
  "language_info": {
   "codemirror_mode": {
    "name": "ipython",
    "version": 2
   },
   "file_extension": ".py",
   "mimetype": "text/x-python",
   "name": "python",
   "nbconvert_exporter": "python",
   "pygments_lexer": "ipython2",
   "version": "2.7.6"
  },
  "pycharm": {
   "stem_cell": {
    "cell_type": "raw",
    "source": [],
    "metadata": {
     "collapsed": false
    }
   }
  }
 },
 "nbformat": 4,
 "nbformat_minor": 0
}