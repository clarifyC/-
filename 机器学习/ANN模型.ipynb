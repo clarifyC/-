{
 "cells": [
  {
   "cell_type": "code",
   "execution_count": 73,
   "metadata": {
    "collapsed": true,
    "pycharm": {
     "is_executing": false
    }
   },
   "outputs": [],
   "source": [
    "import pandas as pd\n",
    "info_filename1 = r\"E:\\pycharm files\\housing_pricing_model\\data\\train_data.csv\"\n",
    "info_filename2 = r\"E:\\pycharm files\\housing_pricing_model\\data\\jw.csv\"\n",
    "info_filename3 = r\"E:\\pycharm files\\housing_pricing_model\\data\\knnjw.csv\"\n",
    "df_data = pd.read_csv(info_filename1,encoding=\"gbk\")\n",
    "df_jw = pd.read_csv(info_filename2,encoding=\"utf-8\")\n",
    "df_knnjw = pd.read_csv(info_filename3,encoding=\"utf-8\")\n",
    "df_data = df_data.iloc[:,1:53]\n",
    "df = pd.concat([df_data,df_knnjw],axis=1)"
   ]
  },
  {
   "cell_type": "code",
   "execution_count": 74,
   "outputs": [],
   "source": [
    "i = len(df.columns)\n",
    "df_X = df.iloc[:,1:i]\n",
    "df_y = df.iloc[:,[0]]"
   ],
   "metadata": {
    "collapsed": false,
    "pycharm": {
     "name": "#%%\n",
     "is_executing": false
    }
   }
  },
  {
   "cell_type": "code",
   "execution_count": 88,
   "outputs": [],
   "source": [
    "import numpy as np\n",
    "from sklearn.preprocessing import StandardScaler\n",
    "from sklearn.preprocessing import MinMaxScaler #用这个来标准化y，更加符合数据分布\n",
    "scalerX = StandardScaler()\n",
    "scalery = MinMaxScaler()\n",
    "# scaled_data = (scalery - np.min(scalery)) / (np.max(scalery) - np.min(scalery))\n",
    "\n",
    "df_scaledX = pd.DataFrame(scalerX.fit_transform(df_X), columns=df_X.columns)\n",
    "df_scaledy = pd.DataFrame(scalery.fit_transform(df_y), columns=df_y.columns)\n",
    "\n",
    "df_scaledy = df_scaledy *0.98+0.01\n",
    "df_scaledX = df_scaledX*0.98+0.01\n",
    "\n",
    "\n",
    "def scalerXY(df_X,df_y):\n",
    "    scalerX = StandardScaler()\n",
    "    scalery = MinMaxScaler()\n",
    "    \n",
    "    df_scaledX = pd.DataFrame(scalerX.fit_transform(df_X), columns=df_X.columns)\n",
    "    df_scaledy = pd.DataFrame(scalery.fit_transform(df_y), columns=df_y.columns)\n",
    "    \n",
    "    df_scaledy = df_scaledy *0.98+0.01\n",
    "    df_scaledX = df_scaledX*0.98+0.01\n",
    "    \n",
    "    return (scalerX,scalery,df_scaledX,df_scaledy)"
   ],
   "metadata": {
    "collapsed": false,
    "pycharm": {
     "name": "#%%\n",
     "is_executing": false
    }
   }
  },
  {
   "cell_type": "code",
   "execution_count": 89,
   "outputs": [
    {
     "name": "stdout",
     "text": [
      "y_size:(2975, 1)，tpye:<class 'numpy.ndarray'>\n",
      "X_size:(2975, 52)，tpye:<class 'numpy.ndarray'>\n"
     ],
     "output_type": "stream"
    }
   ],
   "source": [
    "y = df_scaledy.to_numpy().reshape(-1,1)\n",
    "X = df_scaledX.to_numpy()\n",
    "print(f\"y_size:{y.shape}，tpye:{type(y)}\")\n",
    "print(f\"X_size:{X.shape}，tpye:{type(X)}\")"
   ],
   "metadata": {
    "collapsed": false,
    "pycharm": {
     "name": "#%%\n",
     "is_executing": false
    }
   }
  },
  {
   "cell_type": "code",
   "execution_count": 90,
   "outputs": [],
   "source": [
    "from sklearn.model_selection import train_test_split\n",
    "\n",
    "X_train, X_test, y_train, y_test = train_test_split(X, y,test_size=0.2)"
   ],
   "metadata": {
    "collapsed": false,
    "pycharm": {
     "name": "#%%\n",
     "is_executing": false
    }
   }
  },
  {
   "cell_type": "code",
   "execution_count": 91,
   "outputs": [
    {
     "name": "stdout",
     "text": [
      "第5000次迭代 loss=0.20933736159757066\n",
      "第10000次迭代 loss=0.12478253478193668\n",
      "第15000次迭代 loss=0.3393113440170293\n",
      "第20000次迭代 loss=0.23892993032780607\n",
      "第25000次迭代 loss=0.16571053352538503\n",
      "第30000次迭代 loss=0.20372048522541447\n",
      "第35000次迭代 loss=0.2501417727089029\n",
      "第40000次迭代 loss=0.20335738830054922\n",
      "第45000次迭代 loss=0.16832135147469654\n",
      "第50000次迭代 loss=0.20276809721778125\n",
      "第55000次迭代 loss=0.4449642895511988\n",
      "第60000次迭代 loss=0.19413898845365946\n",
      "第65000次迭代 loss=0.16571655999748391\n",
      "第70000次迭代 loss=0.4393371216351455\n",
      "第75000次迭代 loss=0.19497381793953336\n",
      "第80000次迭代 loss=0.4173261428174758\n",
      "第85000次迭代 loss=0.5607581823731967\n",
      "第90000次迭代 loss=0.16257571029441817\n",
      "第95000次迭代 loss=0.19460718159854812\n",
      "第100000次迭代 loss=0.25585752783102295\n",
      "第105000次迭代 loss=0.21117200405476244\n",
      "第110000次迭代 loss=0.15143187427221094\n",
      "第115000次迭代 loss=0.2882091315526308\n",
      "第120000次迭代 loss=0.18540072210148847\n",
      "第125000次迭代 loss=0.21141631201514585\n",
      "第130000次迭代 loss=0.2980918320965099\n",
      "第135000次迭代 loss=0.004751858188230583\n",
      "第140000次迭代 loss=0.005654615544747065\n",
      "第145000次迭代 loss=0.003713390442135447\n",
      "第150000次迭代 loss=0.0035337402113540346\n",
      "第155000次迭代 loss=0.0022357808640721235\n",
      "第160000次迭代 loss=0.004831387328405464\n",
      "第165000次迭代 loss=0.05351902290517941\n",
      "第170000次迭代 loss=0.008024528629425383\n",
      "第175000次迭代 loss=0.001265308442080948\n",
      "第180000次迭代 loss=0.0023396128374830612\n",
      "第185000次迭代 loss=0.0006244781606968141\n",
      "第190000次迭代 loss=0.0009080196138461425\n",
      "第195000次迭代 loss=0.0044782017319723475\n",
      "第200000次迭代 loss=0.0206265870504266\n",
      "第205000次迭代 loss=0.0037277351407669188\n",
      "第210000次迭代 loss=0.005793187320693453\n",
      "第215000次迭代 loss=0.003992555247482729\n",
      "第220000次迭代 loss=0.0023116777947414886\n",
      "第225000次迭代 loss=0.006884656145827804\n",
      "第230000次迭代 loss=0.007888840105065405\n",
      "第235000次迭代 loss=0.006885169137432822\n",
      "第240000次迭代 loss=0.008506619999210834\n",
      "第245000次迭代 loss=0.006465198988457898\n",
      "第250000次迭代 loss=0.0008197012181210853\n",
      "第255000次迭代 loss=0.002026183517569687\n",
      "第260000次迭代 loss=0.0013941931415770844\n",
      "第265000次迭代 loss=0.0009369186209858443\n",
      "第270000次迭代 loss=0.000998500372034763\n",
      "第275000次迭代 loss=0.005639858737130483\n",
      "第280000次迭代 loss=0.010416053584424295\n",
      "第285000次迭代 loss=0.003639830537245083\n",
      "第290000次迭代 loss=0.0006946962009863223\n",
      "第295000次迭代 loss=0.0023144687415186495\n",
      "第300000次迭代 loss=0.0024675451591125597\n",
      "第305000次迭代 loss=0.003647588217107205\n",
      "第310000次迭代 loss=0.0013242531188997488\n",
      "第315000次迭代 loss=0.0024372133284833604\n",
      "第320000次迭代 loss=0.0031143178729669163\n",
      "第325000次迭代 loss=0.000741855147592453\n",
      "第330000次迭代 loss=0.001541030178483303\n",
      "第335000次迭代 loss=0.0013506603518705445\n",
      "第340000次迭代 loss=0.0010158199893404228\n",
      "第345000次迭代 loss=0.0025484717162010803\n",
      "第350000次迭代 loss=0.0006579330613376039\n",
      "第355000次迭代 loss=0.006773885915123627\n",
      "第360000次迭代 loss=0.004533995027108714\n",
      "第365000次迭代 loss=0.003129250088548036\n",
      "第370000次迭代 loss=0.0026961708503328245\n",
      "第375000次迭代 loss=0.004059109728445505\n",
      "第380000次迭代 loss=0.0014733030720108574\n",
      "第385000次迭代 loss=0.001054763498044078\n",
      "第390000次迭代 loss=0.006280009310045097\n",
      "第395000次迭代 loss=0.0016363700689482341\n",
      "loss=0.8742531123030475\n",
      "595\n",
      "205\n"
     ],
     "output_type": "stream"
    }
   ],
   "source": [
    "import 机器学习.util.ANN as ANN\n",
    "ann = ANN.ANN(layer_number=4,\n",
    "              layer_neuron=[52,120,110,1],\n",
    "              learning_rate=0.17,\n",
    "              batch_size=6,\n",
    "              epochs=1000)\n",
    "\n",
    "ann_param = ann.fit(X_train,y_train)\n",
    "print(f\"loss={ann_param[2]}\")\n",
    "\n",
    "\n",
    "\n",
    "y_hat = ann.transform(X_test)\n",
    "y_test1 = (y_test-0.01)/0.98\n",
    "y_hat1 = (y_hat-0.01)/0.98\n",
    "df_ytest = scalery.inverse_transform(y_test1)\n",
    "df_yhat = scalery.inverse_transform(y_hat1)\n",
    "\n",
    "y_error = abs(df_ytest - df_yhat)\n",
    "print(len(y_error))\n",
    "idx = y_error>2000\n",
    "print(idx.sum())\n",
    "# yy = pd.DataFrame([y_hat,y_test])"
   ],
   "metadata": {
    "collapsed": false,
    "pycharm": {
     "name": "#%%\n",
     "is_executing": false
    }
   }
  },
  {
   "cell_type": "code",
   "execution_count": 92,
   "outputs": [
    {
     "name": "stdout",
     "text": [
      "595\n",
      "205\n",
      "131\n",
      "93\n"
     ],
     "output_type": "stream"
    }
   ],
   "source": [
    "y_hat = ann.transform(X_test)\n",
    "y_test1 = (y_test-0.01)/0.98\n",
    "y_hat1 = (y_hat-0.01)/0.98\n",
    "df_ytest = scalery.inverse_transform(y_test1)\n",
    "df_yhat = scalery.inverse_transform(y_hat1)\n",
    "\n",
    "y_error = abs(df_ytest - df_yhat)\n",
    "print(len(y_error))\n",
    "idx = y_error>2000\n",
    "print(idx.sum())\n",
    "idx = y_error>3000\n",
    "print(idx.sum())\n",
    "idx = y_error>4000\n",
    "print(idx.sum())\n"
   ],
   "metadata": {
    "collapsed": false,
    "pycharm": {
     "name": "#%%\n",
     "is_executing": false
    }
   }
  },
  {
   "cell_type": "code",
   "execution_count": 58,
   "outputs": [
    {
     "name": "stderr",
     "text": [
      "D:\\Anaconda3_2\\lib\\site-packages\\sklearn\\utils\\validation.py:63: DataConversionWarning: A column-vector y was passed when a 1d array was expected. Please change the shape of y to (n_samples, ), for example using ravel().\n",
      "  return f(*args, **kwargs)\n"
     ],
     "output_type": "stream"
    },
    {
     "name": "stdout",
     "text": [
      "Mean Squared Error: 0.011790029325552296\n"
     ],
     "output_type": "stream"
    }
   ],
   "source": [
    "from sklearn.neural_network import MLPRegressor\n",
    "from sklearn.metrics import accuracy_score, mean_squared_error\n",
    "\n",
    "\n",
    "\n",
    "\n",
    "# 创建并训练MLP回归器\n",
    "reg = MLPRegressor(hidden_layer_sizes=(110, 100),learning_rate_init=0.17, max_iter=10000, random_state=42)\n",
    "reg.fit(X_train, y_train)\n",
    "\n",
    "# 在测试集上进行预测\n",
    "y_pred = reg.predict(X_test).reshape(-1,1)\n",
    "y_error = abs(y_test - y_pred)\n",
    "# 计算均方误差\n",
    "mse = mean_squared_error(y_test, y_pred)\n",
    "print(\"Mean Squared Error:\", mse)"
   ],
   "metadata": {
    "collapsed": false,
    "pycharm": {
     "name": "#%%\n",
     "is_executing": false
    }
   }
  },
  {
   "cell_type": "code",
   "execution_count": 59,
   "outputs": [
    {
     "name": "stdout",
     "text": [
      "595\n",
      "433\n"
     ],
     "output_type": "stream"
    }
   ],
   "source": [
    "y_test1 = (y_test-0.01)/0.98\n",
    "y_hat1 = (y_pred-0.01)/0.98\n",
    "df_ytest = scalery.inverse_transform(y_test1)\n",
    "df_yhat = scalery.inverse_transform(y_hat1)\n",
    "\n",
    "y_error = abs(df_ytest - df_yhat)\n",
    "print(len(y_error))\n",
    "idx = y_error>2000\n",
    "print(idx.sum())"
   ],
   "metadata": {
    "collapsed": false,
    "pycharm": {
     "name": "#%%\n",
     "is_executing": false
    }
   }
  },
  {
   "cell_type": "code",
   "execution_count": null,
   "outputs": [],
   "source": [
    "\n"
   ],
   "metadata": {
    "collapsed": false,
    "pycharm": {
     "name": "#%%\n"
    }
   }
  }
 ],
 "metadata": {
  "kernelspec": {
   "name": "pycharm-3829732f",
   "language": "python",
   "display_name": "PyCharm (Datamining)"
  },
  "language_info": {
   "codemirror_mode": {
    "name": "ipython",
    "version": 2
   },
   "file_extension": ".py",
   "mimetype": "text/x-python",
   "name": "python",
   "nbconvert_exporter": "python",
   "pygments_lexer": "ipython2",
   "version": "2.7.6"
  },
  "pycharm": {
   "stem_cell": {
    "cell_type": "raw",
    "source": [],
    "metadata": {
     "collapsed": false
    }
   }
  }
 },
 "nbformat": 4,
 "nbformat_minor": 0
}