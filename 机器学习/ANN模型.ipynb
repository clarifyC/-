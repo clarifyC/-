{
 "cells": [
  {
   "cell_type": "code",
   "execution_count": 19,
   "metadata": {
    "collapsed": true,
    "pycharm": {
     "is_executing": false
    }
   },
   "outputs": [],
   "source": [
    "\n",
    "\n",
    "import pandas as pd\n",
    "info_filename1 = r\"E:\\pycharm files\\housing_pricing_model\\data\\train_data.csv\"\n",
    "info_filename2 = r\"E:\\pycharm files\\housing_pricing_model\\data\\jw.csv\"\n",
    "df_data = pd.read_csv(info_filename1,encoding=\"gbk\")\n",
    "df_jw = pd.read_csv(info_filename2,encoding=\"utf-8\")\n",
    "df_data = df_data.iloc[:,1:53]\n",
    "df = pd.concat([df_data,df_jw],axis=1)"
   ]
  },
  {
   "cell_type": "code",
   "execution_count": 20,
   "outputs": [],
   "source": [
    "df_X = df.iloc[:,1:54]\n",
    "df_y = df.iloc[:,[0]]"
   ],
   "metadata": {
    "collapsed": false,
    "pycharm": {
     "name": "#%%\n",
     "is_executing": false
    }
   }
  },
  {
   "cell_type": "code",
   "execution_count": 125,
   "outputs": [],
   "source": [
    "from sklearn.preprocessing import StandardScaler\n",
    "from sklearn.preprocessing import MinMaxScaler\n",
    "scalerX = StandardScaler()\n",
    "scalery = MinMaxScaler()\n",
    "\n",
    "df_scaledX = pd.DataFrame(scalerX.fit_transform(df_X), columns=df_X.columns)\n",
    "df_scaledy = pd.DataFrame(scalery.fit_transform(df_y), columns=df_y.columns)\n",
    "\n",
    "df_scaledy = df_scaledy *0.98+0.01\n",
    "df_scaledX = df_scaledX*0.98+0.01"
   ],
   "metadata": {
    "collapsed": false,
    "pycharm": {
     "name": "#%%\n",
     "is_executing": false
    }
   }
  },
  {
   "cell_type": "code",
   "execution_count": 126,
   "outputs": [
    {
     "name": "stdout",
     "text": [
      "y_size:(2975, 1)，tpye:<class 'numpy.ndarray'>\n",
      "X_size:(2975, 53)，tpye:<class 'numpy.ndarray'>\n"
     ],
     "output_type": "stream"
    }
   ],
   "source": [
    "y = df_scaledy.to_numpy().reshape(-1,1)\n",
    "X = df_scaledX.to_numpy()\n",
    "print(f\"y_size:{y.shape}，tpye:{type(y)}\")\n",
    "print(f\"X_size:{X.shape}，tpye:{type(X)}\")"
   ],
   "metadata": {
    "collapsed": false,
    "pycharm": {
     "name": "#%%\n",
     "is_executing": false
    }
   }
  },
  {
   "cell_type": "code",
   "execution_count": 127,
   "outputs": [],
   "source": [
    "from sklearn.model_selection import train_test_split\n",
    "\n",
    "X_train, X_test, y_train, y_test = train_test_split(X, y,test_size=0.2)"
   ],
   "metadata": {
    "collapsed": false,
    "pycharm": {
     "name": "#%%\n",
     "is_executing": false
    }
   }
  },
  {
   "cell_type": "code",
   "execution_count": 149,
   "outputs": [
    {
     "name": "stdout",
     "text": [
      "第5000次迭代 loss=0.1627992357083243\n",
      "第10000次迭代 loss=0.1594152294232415\n",
      "第15000次迭代 loss=0.26855275749973095\n",
      "第20000次迭代 loss=0.23805085455919778\n",
      "第25000次迭代 loss=0.19048276004133693\n",
      "第30000次迭代 loss=0.016822230962322476\n",
      "第35000次迭代 loss=0.010106592056150474\n",
      "第40000次迭代 loss=0.007725432811469625\n",
      "第45000次迭代 loss=0.014933802607665619\n",
      "第50000次迭代 loss=0.011349102782345364\n",
      "第55000次迭代 loss=0.012385691813425944\n",
      "第60000次迭代 loss=0.007215418176826952\n",
      "第65000次迭代 loss=0.013476086676019506\n",
      "第70000次迭代 loss=0.014148834677179166\n",
      "第75000次迭代 loss=0.0038001932591117636\n",
      "第80000次迭代 loss=0.029533091029150534\n",
      "第85000次迭代 loss=0.008102855986650864\n",
      "第90000次迭代 loss=0.00846443661512533\n",
      "第95000次迭代 loss=0.01362717253952486\n",
      "第100000次迭代 loss=0.0027034999031391818\n",
      "第105000次迭代 loss=0.007395978597902787\n",
      "第110000次迭代 loss=0.003900880914617335\n",
      "第115000次迭代 loss=0.009663794898213873\n",
      "第120000次迭代 loss=0.005958375037547512\n",
      "第125000次迭代 loss=0.019497224625525358\n",
      "第130000次迭代 loss=0.0027343943215987765\n",
      "第135000次迭代 loss=0.006282338424275952\n",
      "第140000次迭代 loss=0.005211302730476343\n",
      "第145000次迭代 loss=0.005862285235387514\n",
      "第150000次迭代 loss=0.0028884883857948\n",
      "第155000次迭代 loss=0.0064511962911256975\n",
      "第160000次迭代 loss=0.012988556815546315\n",
      "第165000次迭代 loss=0.00851100660587133\n",
      "第170000次迭代 loss=0.005089663850693134\n",
      "第175000次迭代 loss=0.000962148315708534\n",
      "第180000次迭代 loss=0.004987015586103408\n",
      "第185000次迭代 loss=0.002139479761102319\n",
      "第190000次迭代 loss=0.0015261718817423991\n",
      "第195000次迭代 loss=0.004259488894989158\n",
      "第200000次迭代 loss=0.0008092419407599428\n",
      "第205000次迭代 loss=0.020875686046031808\n",
      "第210000次迭代 loss=0.002764795551235477\n",
      "第215000次迭代 loss=0.004109979881001565\n",
      "第220000次迭代 loss=0.0002451517666924188\n",
      "第225000次迭代 loss=0.004937243413226717\n",
      "第230000次迭代 loss=0.0026784445047773903\n",
      "第235000次迭代 loss=0.006911223134447601\n",
      "第240000次迭代 loss=0.0010266590006726291\n",
      "第245000次迭代 loss=0.00771816844169168\n",
      "第250000次迭代 loss=0.002161219999204237\n",
      "第255000次迭代 loss=0.011616619214162738\n",
      "第260000次迭代 loss=0.002322688704610486\n",
      "第265000次迭代 loss=0.004469596247044434\n",
      "第270000次迭代 loss=0.0019212562851093867\n",
      "第275000次迭代 loss=0.0017691578014852288\n",
      "第280000次迭代 loss=0.00340830778365385\n",
      "第285000次迭代 loss=0.0016768083762012521\n",
      "第290000次迭代 loss=0.000449999855958142\n",
      "第295000次迭代 loss=0.002194179617770603\n",
      "第300000次迭代 loss=0.0009555009684863155\n",
      "第305000次迭代 loss=0.0020845384376985475\n",
      "第310000次迭代 loss=0.0011742239945616356\n",
      "第315000次迭代 loss=0.0025867353635697548\n",
      "第320000次迭代 loss=0.001940451141036866\n",
      "第325000次迭代 loss=0.00474457292910639\n",
      "第330000次迭代 loss=0.0013688960570639526\n",
      "第335000次迭代 loss=0.0008235367603686636\n",
      "第340000次迭代 loss=0.0016880805723780336\n",
      "第345000次迭代 loss=0.0007677462437925517\n",
      "第350000次迭代 loss=0.0018449611098089584\n",
      "第355000次迭代 loss=0.00047794225189750326\n",
      "第360000次迭代 loss=0.006907620070327358\n",
      "第365000次迭代 loss=0.0009932195730981781\n",
      "第370000次迭代 loss=0.01166137802823854\n",
      "第375000次迭代 loss=0.002787857330089109\n",
      "第380000次迭代 loss=0.0013135594090973152\n",
      "第385000次迭代 loss=0.0023161265217413484\n",
      "第390000次迭代 loss=0.0022749816351872463\n",
      "第395000次迭代 loss=0.001122359638172311\n",
      "loss=0.6910937163046622\n",
      "595\n",
      "274\n"
     ],
     "output_type": "stream"
    }
   ],
   "source": [
    "import 机器学习.util.ANN as ANN\n",
    "ann = ANN.ANN(layer_number=4,\n",
    "              layer_neuron=[53,110,100,1],\n",
    "              learning_rate=0.17,\n",
    "              batch_size=6,\n",
    "              epochs=1000)\n",
    "\n",
    "ann_param = ann.fit(X_train,y_train)\n",
    "print(f\"loss={ann_param[2]}\")\n",
    "\n",
    "\n",
    "\n",
    "y_hat = ann.transform(X_test)\n",
    "y_test1 = (y_test-0.01)/0.98\n",
    "y_hat1 = (y_hat-0.01)/0.98\n",
    "df_ytest = scalery.inverse_transform(y_test1)\n",
    "df_yhat = scalery.inverse_transform(y_hat1)\n",
    "\n",
    "y_error = abs(df_ytest - df_yhat)\n",
    "print(len(y_error))\n",
    "idx = y_error>2000\n",
    "print(idx.sum())\n",
    "# yy = pd.DataFrame([y_hat,y_test])"
   ],
   "metadata": {
    "collapsed": false,
    "pycharm": {
     "name": "#%%\n",
     "is_executing": false
    }
   }
  },
  {
   "cell_type": "code",
   "execution_count": 150,
   "outputs": [
    {
     "name": "stdout",
     "text": [
      "595\n",
      "274\n",
      "193\n",
      "125\n"
     ],
     "output_type": "stream"
    }
   ],
   "source": [
    "y_hat = ann.transform(X_test)\n",
    "y_test1 = (y_test-0.01)/0.98\n",
    "y_hat1 = (y_hat-0.01)/0.98\n",
    "df_ytest = scalery.inverse_transform(y_test1)\n",
    "df_yhat = scalery.inverse_transform(y_hat1)\n",
    "\n",
    "y_error = abs(df_ytest - df_yhat)\n",
    "print(len(y_error))\n",
    "idx = y_error>2000\n",
    "print(idx.sum())\n",
    "idx = y_error>3000\n",
    "print(idx.sum())\n",
    "idx = y_error>4000\n",
    "print(idx.sum())"
   ],
   "metadata": {
    "collapsed": false,
    "pycharm": {
     "name": "#%%\n",
     "is_executing": false
    }
   }
  },
  {
   "cell_type": "code",
   "execution_count": null,
   "outputs": [],
   "source": [],
   "metadata": {
    "collapsed": false,
    "pycharm": {
     "name": "#%%\n"
    }
   }
  }
 ],
 "metadata": {
  "kernelspec": {
   "name": "pycharm-3829732f",
   "language": "python",
   "display_name": "PyCharm (Datamining)"
  },
  "language_info": {
   "codemirror_mode": {
    "name": "ipython",
    "version": 2
   },
   "file_extension": ".py",
   "mimetype": "text/x-python",
   "name": "python",
   "nbconvert_exporter": "python",
   "pygments_lexer": "ipython2",
   "version": "2.7.6"
  },
  "pycharm": {
   "stem_cell": {
    "cell_type": "raw",
    "source": [],
    "metadata": {
     "collapsed": false
    }
   }
  }
 },
 "nbformat": 4,
 "nbformat_minor": 0
}