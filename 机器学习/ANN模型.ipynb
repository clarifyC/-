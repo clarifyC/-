{
 "cells": [
  {
   "cell_type": "code",
   "execution_count": 1,
   "metadata": {
    "collapsed": true,
    "pycharm": {
     "is_executing": false
    }
   },
   "outputs": [],
   "source": [
    "import pandas as pd\n",
    "info_filename1 = r\"E:\\pycharm files\\housing_pricing_model\\data\\train_data.csv\"\n",
    "info_filename2 = r\"E:\\pycharm files\\housing_pricing_model\\data\\jw.csv\"\n",
    "info_filename3 = r\"E:\\pycharm files\\housing_pricing_model\\data\\knnjw.csv\"\n",
    "df_data = pd.read_csv(info_filename1,encoding=\"gbk\")\n",
    "df_jw = pd.read_csv(info_filename2,encoding=\"utf-8\")\n",
    "df_knnjw = pd.read_csv(info_filename3,encoding=\"utf-8\")\n",
    "df_data = df_data.iloc[:,1:53]\n",
    "df = pd.concat([df_data,df_knnjw],axis=1)"
   ]
  },
  {
   "cell_type": "code",
   "execution_count": 2,
   "outputs": [],
   "source": [
    "i = len(df.columns)\n",
    "df_X = df.iloc[:,1:i]\n",
    "df_y = df.iloc[:,[0]]"
   ],
   "metadata": {
    "collapsed": false,
    "pycharm": {
     "name": "#%%\n",
     "is_executing": false
    }
   }
  },
  {
   "cell_type": "code",
   "execution_count": 3,
   "outputs": [],
   "source": [
    "import numpy as np\n",
    "from sklearn.preprocessing import StandardScaler\n",
    "from sklearn.preprocessing import MinMaxScaler #用这个来标准化y，更加符合数据分布\n",
    "scalerX = StandardScaler()\n",
    "scalery = MinMaxScaler()\n",
    "# scaled_data = (scalery - np.min(scalery)) / (np.max(scalery) - np.min(scalery))\n",
    "\n",
    "df_scaledX = pd.DataFrame(scalerX.fit_transform(df_X), columns=df_X.columns)\n",
    "df_scaledy = pd.DataFrame(scalery.fit_transform(df_y), columns=df_y.columns)\n",
    "\n",
    "df_scaledy = df_scaledy *0.98+0.01\n",
    "df_scaledX = df_scaledX*0.98+0.01\n",
    "\n",
    "\n",
    "def scalerXY(df_X,df_y):\n",
    "    scalerX = StandardScaler()\n",
    "    scalery = MinMaxScaler()\n",
    "    \n",
    "    df_scaledX = pd.DataFrame(scalerX.fit_transform(df_X), columns=df_X.columns)\n",
    "    df_scaledy = pd.DataFrame(scalery.fit_transform(df_y), columns=df_y.columns)\n",
    "    \n",
    "    df_scaledy = df_scaledy *0.98+0.01\n",
    "    df_scaledX = df_scaledX*0.98+0.01\n",
    "    \n",
    "    return (scalerX,scalery,df_scaledX,df_scaledy)"
   ],
   "metadata": {
    "collapsed": false,
    "pycharm": {
     "name": "#%%\n",
     "is_executing": false
    }
   }
  },
  {
   "cell_type": "code",
   "execution_count": 4,
   "outputs": [
    {
     "name": "stdout",
     "text": [
      "y_size:(2975, 1)，tpye:<class 'numpy.ndarray'>\n",
      "X_size:(2975, 52)，tpye:<class 'numpy.ndarray'>\n"
     ],
     "output_type": "stream"
    }
   ],
   "source": [
    "y = df_scaledy.to_numpy().reshape(-1,1)\n",
    "X = df_scaledX.to_numpy()\n",
    "print(f\"y_size:{y.shape}，tpye:{type(y)}\")\n",
    "print(f\"X_size:{X.shape}，tpye:{type(X)}\")"
   ],
   "metadata": {
    "collapsed": false,
    "pycharm": {
     "name": "#%%\n",
     "is_executing": false
    }
   }
  },
  {
   "cell_type": "code",
   "execution_count": 5,
   "outputs": [],
   "source": [
    "from sklearn.model_selection import train_test_split\n",
    "\n",
    "X_train, X_test, y_train, y_test = train_test_split(X, y,test_size=0.2)"
   ],
   "metadata": {
    "collapsed": false,
    "pycharm": {
     "name": "#%%\n",
     "is_executing": false
    }
   }
  },
  {
   "cell_type": "code",
   "execution_count": 6,
   "outputs": [
    {
     "name": "stdout",
     "text": [
      "第0次epoch loss=0.04000285558150087\n",
      "第100次epoch loss=0.001652838831940943\n",
      "第200次epoch loss=0.0011968241080528993\n",
      "第300次epoch loss=0.0014118004785682798\n",
      "第400次epoch loss=0.0007379046760345423\n",
      "learning_rate = 0.085\n",
      "第500次epoch loss=0.0007107162843978774\n",
      "learning_rate = 0.0425\n",
      "第600次epoch loss=0.0005907050154876802\n",
      "learning_rate = 0.02125\n",
      "第700次epoch loss=0.0005607800346782099\n",
      "learning_rate = 0.010625\n",
      "第800次epoch loss=0.0005469500020712372\n",
      "learning_rate = 0.0053125\n",
      "第900次epoch loss=0.0005431797970046627\n",
      "learning_rate = 0.00265625\n",
      "loss=1.2853019427365682\n",
      "595\n",
      "226\n"
     ],
     "output_type": "stream"
    }
   ],
   "source": [
    "import 机器学习.util.ANN as ANN\n",
    "ann = ANN.ANN(layer_number=4,\n",
    "              layer_neuron=[52,120,110,1],\n",
    "              learning_rate=0.17,\n",
    "              batch_size=6,\n",
    "              epochs=1000)\n",
    "\n",
    "ann_param = ann.fit(X_train,y_train)\n",
    "print(f\"loss={ann_param[2]}\")\n",
    "\n",
    "\n",
    "\n",
    "y_hat = ann.transform(X_test)\n",
    "y_test1 = (y_test-0.01)/0.98\n",
    "y_hat1 = (y_hat-0.01)/0.98\n",
    "df_ytest = scalery.inverse_transform(y_test1)\n",
    "df_yhat = scalery.inverse_transform(y_hat1)\n",
    "\n",
    "y_error = abs(df_ytest - df_yhat)\n",
    "print(len(y_error))\n",
    "idx = y_error>2000\n",
    "print(idx.sum())\n",
    "# yy = pd.DataFrame([y_hat,y_test])"
   ],
   "metadata": {
    "collapsed": false,
    "pycharm": {
     "name": "#%%\n",
     "is_executing": false
    }
   }
  },
  {
   "cell_type": "code",
   "execution_count": 7,
   "outputs": [
    {
     "name": "stdout",
     "text": [
      "595\n",
      "226\n",
      "133\n",
      "76\n"
     ],
     "output_type": "stream"
    }
   ],
   "source": [
    "y_hat = ann.transform(X_test)\n",
    "y_test1 = (y_test-0.01)/0.98\n",
    "y_hat1 = (y_hat-0.01)/0.98\n",
    "df_ytest = scalery.inverse_transform(y_test1)\n",
    "df_yhat = scalery.inverse_transform(y_hat1)\n",
    "\n",
    "y_error = abs(df_ytest - df_yhat)\n",
    "print(len(y_error))\n",
    "idx = y_error>2000\n",
    "print(idx.sum())\n",
    "idx = y_error>3000\n",
    "print(idx.sum())\n",
    "idx = y_error>4000\n",
    "print(idx.sum())\n"
   ],
   "metadata": {
    "collapsed": false,
    "pycharm": {
     "name": "#%%\n",
     "is_executing": false
    }
   }
  },
  {
   "cell_type": "code",
   "execution_count": 8,
   "outputs": [
    {
     "name": "stderr",
     "text": [
      "D:\\Anaconda3_2\\lib\\site-packages\\sklearn\\utils\\validation.py:63: DataConversionWarning: A column-vector y was passed when a 1d array was expected. Please change the shape of y to (n_samples, ), for example using ravel().\n",
      "  return f(*args, **kwargs)\n"
     ],
     "output_type": "stream"
    },
    {
     "name": "stdout",
     "text": [
      "Mean Squared Error: 0.012690971482041444\n"
     ],
     "output_type": "stream"
    }
   ],
   "source": [
    "from sklearn.neural_network import MLPRegressor\n",
    "from sklearn.metrics import accuracy_score, mean_squared_error\n",
    "\n",
    "\n",
    "\n",
    "\n",
    "# 创建并训练MLP回归器\n",
    "reg = MLPRegressor(hidden_layer_sizes=(110, 100),learning_rate_init=0.17, max_iter=10000, random_state=42)\n",
    "reg.fit(X_train, y_train)\n",
    "\n",
    "# 在测试集上进行预测\n",
    "y_pred = reg.predict(X_test).reshape(-1,1)\n",
    "y_error = abs(y_test - y_pred)\n",
    "# 计算均方误差\n",
    "mse = mean_squared_error(y_test, y_pred)\n",
    "print(\"Mean Squared Error:\", mse)"
   ],
   "metadata": {
    "collapsed": false,
    "pycharm": {
     "name": "#%%\n",
     "is_executing": false
    }
   }
  },
  {
   "cell_type": "code",
   "execution_count": 9,
   "outputs": [
    {
     "name": "stdout",
     "text": [
      "595\n",
      "421\n"
     ],
     "output_type": "stream"
    }
   ],
   "source": [
    "y_test1 = (y_test-0.01)/0.98\n",
    "y_hat1 = (y_pred-0.01)/0.98\n",
    "df_ytest = scalery.inverse_transform(y_test1)\n",
    "df_yhat = scalery.inverse_transform(y_hat1)\n",
    "\n",
    "y_error = abs(df_ytest - df_yhat)\n",
    "print(len(y_error))\n",
    "idx = y_error>2000\n",
    "print(idx.sum())"
   ],
   "metadata": {
    "collapsed": false,
    "pycharm": {
     "name": "#%%\n",
     "is_executing": false
    }
   }
  },
  {
   "cell_type": "code",
   "execution_count": null,
   "outputs": [],
   "source": [
    "\n"
   ],
   "metadata": {
    "collapsed": false,
    "pycharm": {
     "name": "#%%\n"
    }
   }
  }
 ],
 "metadata": {
  "kernelspec": {
   "name": "pycharm-3829732f",
   "language": "python",
   "display_name": "PyCharm (Datamining)"
  },
  "language_info": {
   "codemirror_mode": {
    "name": "ipython",
    "version": 2
   },
   "file_extension": ".py",
   "mimetype": "text/x-python",
   "name": "python",
   "nbconvert_exporter": "python",
   "pygments_lexer": "ipython2",
   "version": "2.7.6"
  },
  "pycharm": {
   "stem_cell": {
    "cell_type": "raw",
    "source": [],
    "metadata": {
     "collapsed": false
    }
   }
  }
 },
 "nbformat": 4,
 "nbformat_minor": 0
}