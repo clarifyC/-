{
 "cells": [
  {
   "cell_type": "code",
   "execution_count": 2,
   "metadata": {
    "collapsed": true,
    "pycharm": {
     "is_executing": false
    }
   },
   "outputs": [],
   "source": [
    "'''\n",
    "测试\n",
    "pandas的json读取\n",
    "'''\n",
    "import pandas as pd\n",
    "info_filename = r\"E:\\pycharm files\\爬虫\\房天下二手房定价模型\\data\\data3000.json\"\n",
    "df = pd.read_json(info_filename)"
   ]
  },
  {
   "cell_type": "code",
   "execution_count": 3,
   "outputs": [
    {
     "name": "stdout",
     "text": [
      "{'住宅', '别墅'}\n",
      "0\n",
      "住宅    2975\n",
      "别墅      10\n",
      "Name: 物业类型, dtype: int64\n",
      "2975\n"
     ],
     "output_type": "stream"
    }
   ],
   "source": [
    "'''\n",
    "查看物业类型属性\n",
    "提取物业类型为住宅的数据\n",
    "'''\n",
    "\n",
    "print(set(df['物业类型']))\n",
    "print(df['物业类型'].isna().sum())\n",
    "print(df['物业类型'].value_counts())\n",
    "idx = df['物业类型']=='住宅'\n",
    "df1 = df.loc[idx,:]\n",
    "df1.reset_index(inplace=True)\n",
    "print(len(df1))"
   ],
   "metadata": {
    "collapsed": false,
    "pycharm": {
     "name": "#%%\n",
     "is_executing": false
    }
   }
  },
  {
   "cell_type": "code",
   "execution_count": 4,
   "outputs": [
    {
     "name": "stdout",
     "text": [
      "<class 'pandas.core.frame.DataFrame'>\n",
      "RangeIndex: 2975 entries, 0 to 2974\n",
      "Data columns (total 50 columns):\n",
      " #   Column      Non-Null Count  Dtype  \n",
      "---  ------      --------------  -----  \n",
      " 0   index       2975 non-null   int64  \n",
      " 1   url         2975 non-null   object \n",
      " 2   标题          2975 non-null   object \n",
      " 3   地址          2975 non-null   object \n",
      " 4   优势1         2975 non-null   object \n",
      " 5   优势2         2975 non-null   object \n",
      " 6   优势3         2975 non-null   object \n",
      " 7   总价          2975 non-null   float64\n",
      " 8   户型          2975 non-null   object \n",
      " 9   建筑面积        2975 non-null   object \n",
      " 10  单价          2975 non-null   object \n",
      " 11  朝向          2975 non-null   object \n",
      " 12  装修          2975 non-null   object \n",
      " 13  楼层层次        2975 non-null   object \n",
      " 14  总楼层         2975 non-null   float64\n",
      " 15  ID          2975 non-null   int64  \n",
      " 16  小区          2975 non-null   object \n",
      " 17  区域          2975 non-null   object \n",
      " 18  有无电梯        2975 non-null   object \n",
      " 19  产权性质        2960 non-null   object \n",
      " 20  住宅类别        1228 non-null   object \n",
      " 21  建筑结构        1226 non-null   object \n",
      " 22  建筑类别        1228 non-null   object \n",
      " 23  挂牌时间        2975 non-null   object \n",
      " 24  参考均价        2975 non-null   object \n",
      " 25  同比去年        2975 non-null   object \n",
      " 26  环比上月        2975 non-null   object \n",
      " 27  挂牌房源        2574 non-null   object \n",
      " 28  物业类型        2975 non-null   object \n",
      " 29  物业费用        2886 non-null   object \n",
      " 30  建筑类型        2965 non-null   object \n",
      " 31  建筑年代        2975 non-null   object \n",
      " 32  绿  化  率     2958 non-null   object \n",
      " 33  容  积  率     2958 non-null   float64\n",
      " 34  人车分流        2975 non-null   object \n",
      " 35  总楼栋数        2975 non-null   int64  \n",
      " 36  总  户  数     2974 non-null   float64\n",
      " 37  产权年限        1650 non-null   object \n",
      " 38  进门朝向        0 non-null      object \n",
      " 39  地上层数（共4层）   0 non-null      object \n",
      " 40  装修程度        0 non-null      object \n",
      " 41  建筑形式        0 non-null      object \n",
      " 42  厅结构         0 non-null      object \n",
      " 43  车库数量        0 non-null      float64\n",
      " 44  车位数量        0 non-null      object \n",
      " 45  地上层数（共3层）   0 non-null      object \n",
      " 46  花园面积        0 non-null      object \n",
      " 47  地下室面积       0 non-null      object \n",
      " 48  地上层数（共1层）   0 non-null      object \n",
      " 49  地上层数（共33层）  0 non-null      object \n",
      "dtypes: float64(5), int64(3), object(42)\n",
      "memory usage: 1.1+ MB\n"
     ],
     "output_type": "stream"
    }
   ],
   "source": [
    "# 查看多少属性后是别墅属性，删除别墅属性\n",
    "import numpy as np\n",
    "\n",
    "df1.info()\n",
    "df1 = df1.iloc[:,0:38]"
   ],
   "metadata": {
    "collapsed": false,
    "pycharm": {
     "name": "#%%\n",
     "is_executing": false
    }
   }
  },
  {
   "cell_type": "code",
   "execution_count": 5,
   "outputs": [],
   "source": [
    "'''\n",
    "处理户型属性：\n",
    "将四室两厅两卫 拆分为 卧室4 客厅2 卫生间2\n",
    "'''\n",
    "import re\n",
    "record_size = len(df1)\n",
    "zeros_array = np.zeros((record_size,3))\n",
    "# 户型df\n",
    "df_houseType = pd.DataFrame(zeros_array,columns=['卧室','客厅','卫生间'])\n",
    "\n",
    "# map函数\n",
    "def split_houseType(x):\n",
    "    numbers = re.findall(r'\\d+', x)\n",
    "    if(numbers==[]):\n",
    "        return [0,0,0]\n",
    "    return numbers\n",
    "\n",
    "series_houseType = df1[\"户型\"].map(lambda x:split_houseType(x))\n",
    "for i in range(record_size):\n",
    "    df_houseType.iloc[i,0] = int(series_houseType[i][0])\n",
    "    df_houseType.iloc[i,1] = int(series_houseType[i][1])\n",
    "    df_houseType.iloc[i,2] = int(series_houseType[i][2])\n",
    "\n",
    "df2 = pd.concat([df1,df_houseType],axis=1)"
   ],
   "metadata": {
    "collapsed": false,
    "pycharm": {
     "name": "#%%\n",
     "is_executing": false
    }
   }
  },
  {
   "cell_type": "code",
   "execution_count": 6,
   "outputs": [
    {
     "name": "stdout",
     "text": [
      "17\n",
      "17\n",
      "89\n",
      "1325\n",
      "0\n",
      "0\n"
     ],
     "output_type": "stream"
    }
   ],
   "source": [
    "# value_counts()`：计算Series中每个值的出现次数。\n",
    "print(df2['容  积  率'].isna().sum())\n",
    "print(df2['绿  化  率'].isna().sum())\n",
    "print(df2['物业费用'].isna().sum())\n",
    "print(df2['产权年限'].isna().sum())\n",
    "print(df2['人车分流'].isna().sum())\n",
    "print(df2['建筑年代'].isna().sum())"
   ],
   "metadata": {
    "collapsed": false,
    "pycharm": {
     "name": "#%%\n",
     "is_executing": false
    }
   }
  },
  {
   "cell_type": "code",
   "execution_count": 7,
   "outputs": [],
   "source": [
    "'''\n",
    "容积率 总户数 平均值填充\n",
    "'''\n",
    "df2['容  积  率'].fillna(round(df2['容  积  率'].mean(),2),inplace=True)\n",
    "df2['总  户  数'].fillna(round(df2['总  户  数'].mean(),2),inplace=True)"
   ],
   "metadata": {
    "collapsed": false,
    "pycharm": {
     "name": "#%%\n",
     "is_executing": false
    }
   }
  },
  {
   "cell_type": "code",
   "execution_count": 8,
   "outputs": [],
   "source": [
    "# 产权年限 提取数字\n",
    "df2['产权年限'] = df2['产权年限'].fillna('70')\n",
    "df2['产权年限'] = df2['产权年限'].map(lambda x:int(x[0:2]))"
   ],
   "metadata": {
    "collapsed": false,
    "pycharm": {
     "name": "#%%\n",
     "is_executing": false
    }
   }
  },
  {
   "cell_type": "code",
   "execution_count": 9,
   "outputs": [],
   "source": [
    "# 人车分流 转为0-1\n",
    "dic_map = {'无':0,'有':1}\n",
    "df2['人车分流'] = df2['人车分流'].map(dic_map)"
   ],
   "metadata": {
    "collapsed": false,
    "pycharm": {
     "name": "#%%\n",
     "is_executing": false
    }
   }
  },
  {
   "cell_type": "code",
   "execution_count": 10,
   "outputs": [
    {
     "name": "stdout",
     "text": [
      "929\n"
     ],
     "output_type": "stream"
    }
   ],
   "source": [
    "'''\n",
    "将 绿化率 属性上的nan值填充为30%，再转为数值属性\n",
    "'''\n",
    "def clean_green(x):\n",
    "    numbers = re.findall(r'\\d+', x)\n",
    "    return int(numbers[0])\n",
    "print(df2['绿  化  率'].value_counts()[0])\n",
    "idx_nan = df2['绿  化  率'].isna()\n",
    "df2['绿  化  率'] = df2['绿  化  率'].fillna(\"30%\")\n",
    "df2['绿  化  率'] = df2['绿  化  率'].map(lambda x:clean_green(x))"
   ],
   "metadata": {
    "collapsed": false,
    "pycharm": {
     "name": "#%%\n",
     "is_executing": false
    }
   }
  },
  {
   "cell_type": "code",
   "execution_count": 11,
   "outputs": [],
   "source": [
    "# 将 建筑年代 转为数值类型\n",
    "def clean_buildYear(x):\n",
    "    numbers = re.findall(r'\\d+', x)\n",
    "    return int(numbers[0])\n",
    "df2['建筑年代'] = df2['建筑年代'].map(lambda x:clean_buildYear(x))"
   ],
   "metadata": {
    "collapsed": false,
    "pycharm": {
     "name": "#%%\n",
     "is_executing": false
    }
   }
  },
  {
   "cell_type": "code",
   "execution_count": 12,
   "outputs": [
    {
     "data": {
      "text/plain": "板楼         2373\n板塔结合        242\n板楼,塔楼       173\n塔楼          166\n板楼,板塔结合      19\n塔楼,塔板结合       2\nName: 建筑类型, dtype: int64"
     },
     "metadata": {},
     "output_type": "execute_result",
     "execution_count": 12
    }
   ],
   "source": [
    "# 将 建筑类型 进行one-hot编码\n",
    "# print(df2['建筑类型'].isna().sum())\n",
    "padding_value = df2['建筑类型'].value_counts().index[0]\n",
    "df2['建筑类型'].fillna(padding_value,inplace=True)\n",
    "df2['建筑类型'].value_counts()"
   ],
   "metadata": {
    "collapsed": false,
    "pycharm": {
     "name": "#%%\n",
     "is_executing": false
    }
   }
  },
  {
   "cell_type": "code",
   "execution_count": 13,
   "outputs": [],
   "source": [
    "# 将 物业费用 转为数值类型\n",
    "def clean_fare(x):\n",
    "    # print(x)\n",
    "    if(pd.notna(x)):\n",
    "        numbers = re.findall(r\"\\d+\\.?\\d*\", x)\n",
    "        if len(numbers)>1:\n",
    "            return (float(numbers[0])+float(numbers[1]))/2\n",
    "        return float(numbers[0])\n",
    "    else:\n",
    "        return 0\n",
    "\n",
    "idx_nan = df2['物业费用'].isna()\n",
    "num_notnan = sum(~idx_nan)\n",
    "df2['物业费用'] = df2['物业费用'].map(lambda x:clean_fare(x))\n",
    "df2.loc[idx_nan,\"物业费用\"] = (df2.loc[~idx_nan,\"物业费用\"].median())"
   ],
   "metadata": {
    "collapsed": false,
    "pycharm": {
     "name": "#%%\n",
     "is_executing": false
    }
   }
  },
  {
   "cell_type": "code",
   "execution_count": 14,
   "outputs": [],
   "source": [
    "'''\n",
    "清洗 参考价格，将属性值为暂无的记录用平均参考价格填充\n",
    "'''\n",
    "def clean_aveprice(x):\n",
    "    if x=='暂无':\n",
    "        return np.nan\n",
    "    numbers = re.findall(r'\\d+', x)\n",
    "    return int(numbers[0])\n",
    "df2['参考均价'] = df2['参考均价'].map(lambda x:clean_aveprice(x))\n",
    "\n",
    "df2['参考均价'].fillna(round(df2['参考均价'].mean()),inplace=True)"
   ],
   "metadata": {
    "collapsed": false,
    "pycharm": {
     "name": "#%%\n",
     "is_executing": false
    }
   }
  },
  {
   "cell_type": "code",
   "execution_count": 15,
   "outputs": [],
   "source": [
    "'''\n",
    "将挂牌时间 处理为Timestamp\n",
    "'''\n",
    "df2['挂牌时间'] = df2['挂牌时间'].map(lambda x:pd.Timestamp(x).timestamp()/(60*60*24))"
   ],
   "metadata": {
    "collapsed": false,
    "pycharm": {
     "name": "#%%\n",
     "is_executing": false
    }
   }
  },
  {
   "cell_type": "code",
   "execution_count": 16,
   "outputs": [],
   "source": [
    "'''\n",
    "将 楼层层次 装修 朝向 区域 转为 one-hot编码\n",
    "'''\n",
    "df3 = pd.get_dummies(df2, prefix_sep=\"_\", columns=['区域','楼层层次','装修','朝向'])"
   ],
   "metadata": {
    "collapsed": false,
    "pycharm": {
     "name": "#%%\n",
     "is_executing": false
    }
   }
  },
  {
   "cell_type": "code",
   "execution_count": 16,
   "outputs": [],
   "source": [],
   "metadata": {
    "collapsed": false,
    "pycharm": {
     "name": "#%%\n",
     "is_executing": false
    }
   }
  },
  {
   "cell_type": "code",
   "execution_count": 17,
   "outputs": [],
   "source": [
    "'''\n",
    "清洗 单价\n",
    "'''\n",
    "\n",
    "def clean_price(x):\n",
    "    numbers = re.findall(r'\\d+', x)\n",
    "    return int(numbers[0])\n",
    "df3['单价'] = df3['单价'].map(lambda x:clean_price(x))"
   ],
   "metadata": {
    "collapsed": false,
    "pycharm": {
     "name": "#%%\n",
     "is_executing": false
    }
   }
  },
  {
   "cell_type": "code",
   "execution_count": 18,
   "outputs": [],
   "source": [
    "'''\n",
    "清洗 建筑面积\n",
    "'''\n",
    "def clean_square(x):\n",
    "    numbers = re.findall(r'\\d+', x)\n",
    "    return int(numbers[0])\n",
    "df3['建筑面积'] = df3['建筑面积'].map(lambda x:clean_square(x))"
   ],
   "metadata": {
    "collapsed": false,
    "pycharm": {
     "name": "#%%\n",
     "is_executing": false
    }
   }
  },
  {
   "cell_type": "code",
   "execution_count": 19,
   "outputs": [],
   "source": [
    "'''\n",
    "清洗 有无电梯\n",
    "'''\n",
    "dic_map = {\"有\":1,\"无\":0}\n",
    "df3['有无电梯'] = df3['有无电梯'].map(dic_map)"
   ],
   "metadata": {
    "collapsed": false,
    "pycharm": {
     "name": "#%%\n",
     "is_executing": false
    }
   }
  },
  {
   "cell_type": "code",
   "execution_count": 20,
   "outputs": [],
   "source": [
    "'''\n",
    "将 产权性质 nan处填充 个人产权\n",
    "并one-hot编码\n",
    "'''\n",
    "df3['产权性质'].fillna(\"个人产权\",inplace=True)\n",
    "df4 = pd.get_dummies(df3, prefix_sep=\"_\", columns=['产权性质'])"
   ],
   "metadata": {
    "collapsed": false,
    "pycharm": {
     "name": "#%%\n",
     "is_executing": false
    }
   }
  },
  {
   "cell_type": "code",
   "execution_count": 20,
   "outputs": [],
   "source": [],
   "metadata": {
    "collapsed": false,
    "pycharm": {
     "name": "#%%\n",
     "is_executing": false
    }
   }
  },
  {
   "cell_type": "code",
   "execution_count": 21,
   "outputs": [],
   "source": [
    "def clean_buildType(x):\n",
    "    if len(x)>2:\n",
    "        return '板塔结合'\n",
    "    else:\n",
    "        return x\n",
    "df4['建筑类型'] = df4['建筑类型'].map(lambda x:clean_buildType(x))\n",
    "df5 = pd.get_dummies(df4, prefix_sep=\"_\", columns=['建筑类型'])"
   ],
   "metadata": {
    "collapsed": false,
    "pycharm": {
     "name": "#%%\n",
     "is_executing": false
    }
   }
  },
  {
   "cell_type": "code",
   "execution_count": 22,
   "outputs": [],
   "source": [
    "'''\n",
    "将优势1 转为one-hot编码\n",
    "'''\n",
    "df5['优势1'] = df5['优势1'].map(lambda x:str(x))\n",
    "df6 = pd.get_dummies(df5, prefix_sep=\"_\", columns=['优势1'])"
   ],
   "metadata": {
    "collapsed": false,
    "pycharm": {
     "name": "#%%\n",
     "is_executing": false
    }
   }
  },
  {
   "cell_type": "code",
   "execution_count": 23,
   "outputs": [],
   "source": [
    "'''\n",
    "优质教育 one—hot\n",
    "'''\n",
    "idx = df6['优势2']==\"优质教育\"\n",
    "zeros_array = np.zeros((len(df6),1))\n",
    "df_edu = pd.DataFrame(zeros_array,columns=[\"优质教育\"])\n",
    "df_edu.loc[idx,:] = 1\n",
    "df7 = pd.concat([df6,df_edu],axis=1)\n"
   ],
   "metadata": {
    "collapsed": false,
    "pycharm": {
     "name": "#%%\n",
     "is_executing": false
    }
   }
  },
  {
   "cell_type": "code",
   "execution_count": 24,
   "outputs": [],
   "source": [
    "'''\n",
    "附件地铁 one-hot\n",
    "'''\n",
    "idx = (df7['优势2']==\"优质教育\")\n",
    "df7.loc[idx,\"优势2\"] = \"[]\"\n",
    "idx = ~(df7['优势2']==\"[]\")\n",
    "df7.loc[idx,\"优势3\"] = df7.loc[idx,\"优势2\"] \n",
    "df7['优势3'] = df7['优势3'].map(lambda x:str(x))\n",
    "idx = ~(df7['优势3']==\"[]\")\n",
    "df7.loc[:,\"附件地铁\"] = np.zeros((len(df7),1))\n",
    "df7.loc[idx,\"附件地铁\"] = 1"
   ],
   "metadata": {
    "collapsed": false,
    "pycharm": {
     "name": "#%%\n",
     "is_executing": false
    }
   }
  },
  {
   "cell_type": "code",
   "execution_count": 25,
   "outputs": [],
   "source": [
    "array_nan = np.full((len(df2),3),np.nan)\n",
    "df_address = pd.DataFrame(array_nan,columns=[\"小区\",\"地址\",'url'])\n",
    "for i in range(len(df2)):\n",
    "    df_address.loc[i,\"小区\"] = \"江苏省无锡市\"+df2.loc[i,'区域'] + df2.loc[i,'小区']\n",
    "    df_address.loc[i,\"地址\"] = \"江苏省无锡市\"+df2.loc[i,'区域'] + df2.loc[i,'地址']\n",
    "    df_address.loc[i,\"url\"] = df2.loc[i,'url']\n",
    "df_address.to_csv(r\"E:\\pycharm files\\housing_pricing_model\\data\\经纬度信息.csv\",index=False,encoding='utf-8')"
   ],
   "metadata": {
    "collapsed": false,
    "pycharm": {
     "name": "#%%\n",
     "is_executing": false
    }
   }
  },
  {
   "cell_type": "code",
   "execution_count": 26,
   "outputs": [
    {
     "data": {
      "text/plain": "'1111111111'"
     },
     "metadata": {},
     "output_type": "execute_result",
     "execution_count": 26
    }
   ],
   "source": [
    "\"1\"*10"
   ],
   "metadata": {
    "collapsed": false,
    "pycharm": {
     "name": "#%%\n",
     "is_executing": false
    }
   }
  },
  {
   "cell_type": "code",
   "execution_count": 26,
   "outputs": [],
   "source": [],
   "metadata": {
    "collapsed": false,
    "pycharm": {
     "name": "#%%\n",
     "is_executing": false
    }
   }
  },
  {
   "cell_type": "code",
   "execution_count": 27,
   "outputs": [
    {
     "name": "stdout",
     "text": [
      "[9, 10, 11, 14, 18, 24, 25, 26, 27, 28, 29, 30, 31, 32, 33, 34, 35, 36, 37, 38, 39, 40, 41, 42, 43, 44, 45, 46, 47, 48, 49, 50, 51, 52, 53, 54, 55, 56, 57, 58, 59, 60, 61, 62, 63, 64, 65, 66, 67, 68, 69, 70]\n"
     ],
     "output_type": "stream"
    }
   ],
   "source": [
    "idx_keep = [9,10,11,14,18,24,25,26,27,28,29,30,31]\n",
    "idx_keep.extend(list(range(32,71)))\n",
    "print(idx_keep)"
   ],
   "metadata": {
    "collapsed": false,
    "pycharm": {
     "name": "#%%\n",
     "is_executing": false
    }
   }
  },
  {
   "cell_type": "code",
   "execution_count": 28,
   "outputs": [],
   "source": [
    "'''\n",
    "\n",
    "'''\n",
    "df5.to_csv(r\"E:\\pycharm files\\housing_pricing_model\\data\\clean_data.csv\",encoding='gbk')\n",
    "df6 = df5.iloc[:,idx_keep]\n",
    "move_column = '单价'\n",
    "new_columns  = [move_column] + [col for col in df6.columns if col != move_column]\n",
    "df6 = df6[new_columns]\n",
    "df6.to_csv(r\"E:\\pycharm files\\housing_pricing_model\\data\\train_data.csv\",encoding='gbk')"
   ],
   "metadata": {
    "collapsed": false,
    "pycharm": {
     "name": "#%%\n",
     "is_executing": false
    }
   }
  },
  {
   "cell_type": "code",
   "execution_count": 28,
   "outputs": [],
   "source": [
    "\n",
    "\n"
   ],
   "metadata": {
    "collapsed": false,
    "pycharm": {
     "name": "#%%\n",
     "is_executing": false
    }
   }
  },
  {
   "cell_type": "code",
   "execution_count": 29,
   "outputs": [
    {
     "name": "stdout",
     "text": [
      "<class 'pandas.core.frame.DataFrame'>\n",
      "RangeIndex: 2975 entries, 0 to 2974\n",
      "Data columns (total 52 columns):\n",
      " #   Column      Non-Null Count  Dtype  \n",
      "---  ------      --------------  -----  \n",
      " 0   单价          2975 non-null   int64  \n",
      " 1   建筑面积        2975 non-null   int64  \n",
      " 2   总楼层         2975 non-null   float64\n",
      " 3   有无电梯        2975 non-null   int64  \n",
      " 4   挂牌时间        2975 non-null   float64\n",
      " 5   物业费用        2975 non-null   float64\n",
      " 6   建筑年代        2975 non-null   int64  \n",
      " 7   绿  化  率     2975 non-null   int64  \n",
      " 8   容  积  率     2975 non-null   float64\n",
      " 9   人车分流        2975 non-null   int64  \n",
      " 10  总楼栋数        2975 non-null   int64  \n",
      " 11  总  户  数     2975 non-null   float64\n",
      " 12  产权年限        2975 non-null   int64  \n",
      " 13  卧室          2975 non-null   float64\n",
      " 14  客厅          2975 non-null   float64\n",
      " 15  卫生间         2975 non-null   float64\n",
      " 16  区域_北塘区      2975 non-null   uint8  \n",
      " 17  区域_南长区      2975 non-null   uint8  \n",
      " 18  区域_崇安区      2975 non-null   uint8  \n",
      " 19  区域_惠山区      2975 non-null   uint8  \n",
      " 20  区域_新区       2975 non-null   uint8  \n",
      " 21  区域_新吴区      2975 non-null   uint8  \n",
      " 22  区域_梁溪区      2975 non-null   uint8  \n",
      " 23  区域_江阴市      2975 non-null   uint8  \n",
      " 24  区域_滨湖区      2975 non-null   uint8  \n",
      " 25  区域_经开区      2975 non-null   uint8  \n",
      " 26  区域_锡山区      2975 non-null   uint8  \n",
      " 27  楼层层次_中层     2975 non-null   uint8  \n",
      " 28  楼层层次_低层     2975 non-null   uint8  \n",
      " 29  楼层层次_底层     2975 non-null   uint8  \n",
      " 30  楼层层次_顶层     2975 non-null   uint8  \n",
      " 31  楼层层次_高层     2975 non-null   uint8  \n",
      " 32  装修_暂无       2975 non-null   uint8  \n",
      " 33  装修_毛坯       2975 non-null   uint8  \n",
      " 34  装修_简装修      2975 non-null   uint8  \n",
      " 35  装修_精装修      2975 non-null   uint8  \n",
      " 36  装修_豪华装修     2975 non-null   uint8  \n",
      " 37  朝向_东        2975 non-null   uint8  \n",
      " 38  朝向_东北       2975 non-null   uint8  \n",
      " 39  朝向_东南       2975 non-null   uint8  \n",
      " 40  朝向_北        2975 non-null   uint8  \n",
      " 41  朝向_南        2975 non-null   uint8  \n",
      " 42  朝向_南北       2975 non-null   uint8  \n",
      " 43  朝向_西        2975 non-null   uint8  \n",
      " 44  朝向_西北       2975 non-null   uint8  \n",
      " 45  朝向_西南       2975 non-null   uint8  \n",
      " 46  产权性质_个人产权   2975 non-null   uint8  \n",
      " 47  产权性质_商品房    2975 non-null   uint8  \n",
      " 48  产权性质_经济适用房  2975 non-null   uint8  \n",
      " 49  建筑类型_塔楼     2975 non-null   uint8  \n",
      " 50  建筑类型_板塔结合   2975 non-null   uint8  \n",
      " 51  建筑类型_板楼     2975 non-null   uint8  \n",
      "dtypes: float64(8), int64(8), uint8(36)\n",
      "memory usage: 476.6 KB\n"
     ],
     "output_type": "stream"
    }
   ],
   "source": [
    "df6.info()"
   ],
   "metadata": {
    "collapsed": false,
    "pycharm": {
     "name": "#%%\n",
     "is_executing": false
    }
   }
  },
  {
   "cell_type": "code",
   "execution_count": 30,
   "outputs": [],
   "source": [
    "'''\n",
    "标准化数据\n",
    "'''\n",
    "\n",
    "from sklearn.preprocessing import StandardScaler\n",
    "scaler = StandardScaler()\n",
    "scaler1= StandardScaler()\n",
    "df_scaled = pd.DataFrame(scaler.fit_transform(df6), columns=df6.columns)\n",
    "\n",
    "df_scaled = df_scaled*0.98+0.01\n",
    "# df_inverse0 = (df_scaled-0.01)/0.98\n",
    "# df_inverse = scaler.inverse_transform(df_inverse0)\n",
    "\n",
    "df_y = pd.DataFrame(df6['单价'],columns=['单价'])\n",
    "df_yscalar = scaler1.fit_transform(df_y)*0.98+0.01\n",
    "\n",
    "df_yinverse0 = (df_yscalar-0.01)/0.98\n",
    "df_yinverse = scaler1.inverse_transform(df_yinverse0[0:5,:])"
   ],
   "metadata": {
    "collapsed": false,
    "pycharm": {
     "name": "#%%\n",
     "is_executing": false
    }
   }
  },
  {
   "cell_type": "code",
   "execution_count": 31,
   "outputs": [
    {
     "name": "stdout",
     "text": [
      "y_size:(2975, 1)，tpye:<class 'numpy.ndarray'>\n",
      "X_size:(2975, 50)，tpye:<class 'numpy.ndarray'>\n"
     ],
     "output_type": "stream"
    }
   ],
   "source": [
    "move_column = '单价'\n",
    "new_columns  = [move_column] + [col for col in df6.columns if col != move_column]\n",
    "df7 = df_scaled[new_columns]\n",
    "\n",
    "y = df7.iloc[:,0].to_numpy().reshape(-1,1)\n",
    "X = df7.iloc[:,1:-1].to_numpy()\n",
    "print(f\"y_size:{y.shape}，tpye:{type(y)}\")\n",
    "print(f\"X_size:{X.shape}，tpye:{type(X)}\")"
   ],
   "metadata": {
    "collapsed": false,
    "pycharm": {
     "name": "#%%\n",
     "is_executing": false
    }
   }
  },
  {
   "cell_type": "code",
   "execution_count": 32,
   "outputs": [
    {
     "name": "stdout",
     "text": [
      "<class 'pandas.core.frame.DataFrame'>\n",
      "RangeIndex: 2975 entries, 0 to 2974\n",
      "Data columns (total 52 columns):\n",
      " #   Column      Non-Null Count  Dtype  \n",
      "---  ------      --------------  -----  \n",
      " 0   单价          2975 non-null   float64\n",
      " 1   建筑面积        2975 non-null   float64\n",
      " 2   总楼层         2975 non-null   float64\n",
      " 3   有无电梯        2975 non-null   float64\n",
      " 4   挂牌时间        2975 non-null   float64\n",
      " 5   物业费用        2975 non-null   float64\n",
      " 6   建筑年代        2975 non-null   float64\n",
      " 7   绿  化  率     2975 non-null   float64\n",
      " 8   容  积  率     2975 non-null   float64\n",
      " 9   人车分流        2975 non-null   float64\n",
      " 10  总楼栋数        2975 non-null   float64\n",
      " 11  总  户  数     2975 non-null   float64\n",
      " 12  产权年限        2975 non-null   float64\n",
      " 13  卧室          2975 non-null   float64\n",
      " 14  客厅          2975 non-null   float64\n",
      " 15  卫生间         2975 non-null   float64\n",
      " 16  区域_北塘区      2975 non-null   float64\n",
      " 17  区域_南长区      2975 non-null   float64\n",
      " 18  区域_崇安区      2975 non-null   float64\n",
      " 19  区域_惠山区      2975 non-null   float64\n",
      " 20  区域_新区       2975 non-null   float64\n",
      " 21  区域_新吴区      2975 non-null   float64\n",
      " 22  区域_梁溪区      2975 non-null   float64\n",
      " 23  区域_江阴市      2975 non-null   float64\n",
      " 24  区域_滨湖区      2975 non-null   float64\n",
      " 25  区域_经开区      2975 non-null   float64\n",
      " 26  区域_锡山区      2975 non-null   float64\n",
      " 27  楼层层次_中层     2975 non-null   float64\n",
      " 28  楼层层次_低层     2975 non-null   float64\n",
      " 29  楼层层次_底层     2975 non-null   float64\n",
      " 30  楼层层次_顶层     2975 non-null   float64\n",
      " 31  楼层层次_高层     2975 non-null   float64\n",
      " 32  装修_暂无       2975 non-null   float64\n",
      " 33  装修_毛坯       2975 non-null   float64\n",
      " 34  装修_简装修      2975 non-null   float64\n",
      " 35  装修_精装修      2975 non-null   float64\n",
      " 36  装修_豪华装修     2975 non-null   float64\n",
      " 37  朝向_东        2975 non-null   float64\n",
      " 38  朝向_东北       2975 non-null   float64\n",
      " 39  朝向_东南       2975 non-null   float64\n",
      " 40  朝向_北        2975 non-null   float64\n",
      " 41  朝向_南        2975 non-null   float64\n",
      " 42  朝向_南北       2975 non-null   float64\n",
      " 43  朝向_西        2975 non-null   float64\n",
      " 44  朝向_西北       2975 non-null   float64\n",
      " 45  朝向_西南       2975 non-null   float64\n",
      " 46  产权性质_个人产权   2975 non-null   float64\n",
      " 47  产权性质_商品房    2975 non-null   float64\n",
      " 48  产权性质_经济适用房  2975 non-null   float64\n",
      " 49  建筑类型_塔楼     2975 non-null   float64\n",
      " 50  建筑类型_板塔结合   2975 non-null   float64\n",
      " 51  建筑类型_板楼     2975 non-null   float64\n",
      "dtypes: float64(52)\n",
      "memory usage: 1.2 MB\n"
     ],
     "output_type": "stream"
    }
   ],
   "source": [
    "df7.info()\n",
    "\n",
    "df7.to_csv(r'E:\\pycharm files\\housing_pricing_model\\data\\scalar.csv',encoding='gbk')"
   ],
   "metadata": {
    "collapsed": false,
    "pycharm": {
     "name": "#%%\n",
     "is_executing": false
    }
   }
  },
  {
   "cell_type": "code",
   "execution_count": 33,
   "outputs": [],
   "source": [
    "from sklearn.model_selection import train_test_split\n",
    "\n",
    "X_train, X_test, y_train, y_test = train_test_split(X, y,test_size=0.2)"
   ],
   "metadata": {
    "collapsed": false,
    "pycharm": {
     "name": "#%%\n",
     "is_executing": false
    }
   }
  },
  {
   "cell_type": "code",
   "execution_count": 34,
   "outputs": [
    {
     "name": "stdout",
     "text": [
      "第5000次迭代 loss=10.746249897508239\n",
      "第10000次迭代 loss=1.5841800622507751\n",
      "第15000次迭代 loss=0.6753455966114168\n",
      "第20000次迭代 loss=2.2401121722122763\n",
      "第25000次迭代 loss=2.515805008416986\n",
      "第30000次迭代 loss=1.0653793537692255\n",
      "第35000次迭代 loss=1.6507625275291482\n",
      "第40000次迭代 loss=1.0623592300290148\n",
      "第45000次迭代 loss=0.22844205926901467\n",
      "第50000次迭代 loss=2.1751785245675186\n",
      "第55000次迭代 loss=2.8483978999577104\n",
      "第60000次迭代 loss=1.4210498083804888\n",
      "第65000次迭代 loss=1.0414207415849135\n",
      "第70000次迭代 loss=0.935821011601464\n",
      "第75000次迭代 loss=14.356712521631554\n",
      "第80000次迭代 loss=0.7921253427578878\n",
      "第85000次迭代 loss=0.2823964581531258\n",
      "第90000次迭代 loss=2.0012497971120693\n",
      "第95000次迭代 loss=0.43299783928553426\n",
      "loss=834.8766802497555\n"
     ],
     "output_type": "stream"
    }
   ],
   "source": [
    "import 机器学习.util.ANN as ANN\n",
    "ann = ANN.ANN(layer_number=4,\n",
    "              layer_neuron=[50,60,50,1],\n",
    "              learning_rate=0.01,\n",
    "              batch_size=5,\n",
    "              epochs=200)\n",
    "\n",
    "ann_param = ann.fit(X_train,y_train)\n",
    "print(f\"loss={ann_param[2]}\")"
   ],
   "metadata": {
    "collapsed": false,
    "pycharm": {
     "name": "#%%\n",
     "is_executing": false
    }
   }
  },
  {
   "cell_type": "code",
   "execution_count": 40,
   "outputs": [
    {
     "name": "stdout",
     "text": [
      "595\n",
      "386\n"
     ],
     "output_type": "stream"
    }
   ],
   "source": [
    "y_hat = ann.transform(X_test)\n",
    "y_test1 = (y_test-0.01)/0.98\n",
    "y_hat1 = (y_hat-0.01)/0.98\n",
    "df_ytest = scaler1.inverse_transform(y_test1)\n",
    "df_yhat = scaler1.inverse_transform(y_hat1)\n",
    "\n",
    "y_error = abs(df_ytest - df_yhat)\n",
    "print(len(y_error))\n",
    "idx = y_error>2000\n",
    "print(idx.sum())\n",
    "# yy = pd.DataFrame([y_hat,y_test])"
   ],
   "metadata": {
    "collapsed": false,
    "pycharm": {
     "name": "#%%\n",
     "is_executing": false
    }
   }
  },
  {
   "cell_type": "code",
   "execution_count": 36,
   "outputs": [],
   "source": [
    "# pd.concat([df_ytest,df_yhat])\n",
    "xy_test = np.hstack([y_error,df_ytest,df_yhat])"
   ],
   "metadata": {
    "collapsed": false,
    "pycharm": {
     "name": "#%%\n",
     "is_executing": false
    }
   }
  },
  {
   "cell_type": "code",
   "execution_count": 37,
   "outputs": [
    {
     "name": "stdout",
     "text": [
      "准确率为：1.0\n"
     ],
     "output_type": "stream"
    }
   ],
   "source": [
    "import numpy as np\n",
    "y_pred = np.argmax(y_hat,axis=1)\n",
    "y_true = np.argmax(y_test,axis=1)\n",
    "y_perf = (y_pred - y_true).astype('bool')\n",
    "error_num = sum(y_perf)\n",
    "test_num = X_test.shape[0]\n",
    "print(f\"准确率为：{1-error_num/test_num}\")"
   ],
   "metadata": {
    "collapsed": false,
    "pycharm": {
     "name": "#%%\n",
     "is_executing": false
    }
   }
  },
  {
   "cell_type": "code",
   "execution_count": 38,
   "outputs": [
    {
     "name": "stdout",
     "text": [
      "     A    B    C\n",
      "0  0.0  0.0  0.0\n",
      "1  0.5  0.5  0.5\n",
      "2  1.0  1.0  1.0\n"
     ],
     "output_type": "stream"
    }
   ],
   "source": [
    "import pandas as pd\n",
    "from sklearn.preprocessing import MinMaxScaler\n",
    "\n",
    "# 创建一个示例 DataFrame\n",
    "data = {'A': [1, 2, 3],\n",
    "        'B': [4, 5, 6],\n",
    "        'C': [7, 8, 9]}\n",
    "df = pd.DataFrame(data)\n",
    "\n",
    "# 使用 StandardScaler 对每一列进行标准化\n",
    "scaler = MinMaxScaler()\n",
    "df_scaled = pd.DataFrame(scaler.fit_transform(df), columns=df.columns)\n",
    "\n",
    "print(df_scaled)"
   ],
   "metadata": {
    "collapsed": false,
    "pycharm": {
     "name": "#%%\n",
     "is_executing": false
    }
   }
  },
  {
   "cell_type": "code",
   "execution_count": 39,
   "outputs": [
    {
     "data": {
      "text/plain": "<AxesSubplot:xlabel='容  积  率', ylabel='单价'>"
     },
     "metadata": {},
     "output_type": "execute_result",
     "execution_count": 39
    },
    {
     "name": "stderr",
     "text": [
      "D:\\Anaconda3_2\\lib\\site-packages\\matplotlib\\backends\\backend_agg.py:240: RuntimeWarning: Glyph 23481 missing from current font.\n",
      "  font.set_text(s, 0.0, flags=flags)\n",
      "D:\\Anaconda3_2\\lib\\site-packages\\matplotlib\\backends\\backend_agg.py:240: RuntimeWarning: Glyph 31215 missing from current font.\n",
      "  font.set_text(s, 0.0, flags=flags)\n",
      "D:\\Anaconda3_2\\lib\\site-packages\\matplotlib\\backends\\backend_agg.py:240: RuntimeWarning: Glyph 29575 missing from current font.\n",
      "  font.set_text(s, 0.0, flags=flags)\n",
      "D:\\Anaconda3_2\\lib\\site-packages\\matplotlib\\backends\\backend_agg.py:240: RuntimeWarning: Glyph 21333 missing from current font.\n",
      "  font.set_text(s, 0.0, flags=flags)\n",
      "D:\\Anaconda3_2\\lib\\site-packages\\matplotlib\\backends\\backend_agg.py:240: RuntimeWarning: Glyph 20215 missing from current font.\n",
      "  font.set_text(s, 0.0, flags=flags)\n",
      "D:\\Anaconda3_2\\lib\\site-packages\\matplotlib\\backends\\backend_agg.py:203: RuntimeWarning: Glyph 23481 missing from current font.\n",
      "  font.set_text(s, 0, flags=flags)\n",
      "D:\\Anaconda3_2\\lib\\site-packages\\matplotlib\\backends\\backend_agg.py:203: RuntimeWarning: Glyph 31215 missing from current font.\n",
      "  font.set_text(s, 0, flags=flags)\n",
      "D:\\Anaconda3_2\\lib\\site-packages\\matplotlib\\backends\\backend_agg.py:203: RuntimeWarning: Glyph 29575 missing from current font.\n",
      "  font.set_text(s, 0, flags=flags)\n",
      "D:\\Anaconda3_2\\lib\\site-packages\\matplotlib\\backends\\backend_agg.py:203: RuntimeWarning: Glyph 21333 missing from current font.\n",
      "  font.set_text(s, 0, flags=flags)\n",
      "D:\\Anaconda3_2\\lib\\site-packages\\matplotlib\\backends\\backend_agg.py:203: RuntimeWarning: Glyph 20215 missing from current font.\n",
      "  font.set_text(s, 0, flags=flags)\n"
     ],
     "output_type": "stream"
    },
    {
     "data": {
      "text/plain": "<Figure size 432x288 with 1 Axes>",
      "image/png": "[encoded data removed]"
     },
     "metadata": {
      "needs_background": "light"
     },
     "output_type": "display_data"
    }
   ],
   "source": [
    "df7.plot.scatter(x='容  积  率',y='单价')"
   ],
   "metadata": {
    "collapsed": false,
    "pycharm": {
     "name": "#%%\n",
     "is_executing": false
    }
   }
  },
  {
   "cell_type": "code",
   "execution_count": null,
   "outputs": [],
   "source": [
    "\n"
   ],
   "metadata": {
    "collapsed": false,
    "pycharm": {
     "name": "#%%\n"
    }
   }
  }
 ],
 "metadata": {
  "kernelspec": {
   "name": "pycharm-3829732f",
   "language": "python",
   "display_name": "PyCharm (Datamining)"
  },
  "language_info": {
   "codemirror_mode": {
    "name": "ipython",
    "version": 2
   },
   "file_extension": ".py",
   "mimetype": "text/x-python",
   "name": "python",
   "nbconvert_exporter": "python",
   "pygments_lexer": "ipython2",
   "version": "2.7.6"
  },
  "pycharm": {
   "stem_cell": {
    "cell_type": "raw",
    "source": [],
    "metadata": {
     "collapsed": false
    }
   }
  }
 },
 "nbformat": 4,
 "nbformat_minor": 0
}