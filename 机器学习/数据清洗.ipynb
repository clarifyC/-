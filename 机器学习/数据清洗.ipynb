{
 "cells": [
  {
   "cell_type": "code",
   "execution_count": 1,
   "metadata": {
    "collapsed": true,
    "pycharm": {
     "is_executing": false
    }
   },
   "outputs": [],
   "source": [
    "'''\n",
    "测试\n",
    "pandas的json读取\n",
    "'''\n",
    "import pandas as pd\n",
    "info_filename = r\"E:\\pycharm files\\爬虫\\房天下二手房定价模型\\data\\data3000.json\"\n",
    "df = pd.read_json(info_filename)"
   ]
  },
  {
   "cell_type": "code",
   "execution_count": 2,
   "outputs": [
    {
     "name": "stdout",
     "text": [
      "{'住宅', '别墅'}\n",
      "0\n",
      "住宅    2975\n",
      "别墅      10\n",
      "Name: 物业类型, dtype: int64\n",
      "2975\n"
     ],
     "output_type": "stream"
    }
   ],
   "source": [
    "'''\n",
    "查看物业类型属性\n",
    "提取物业类型为住宅的数据\n",
    "'''\n",
    "\n",
    "print(set(df['物业类型']))\n",
    "print(df['物业类型'].isna().sum())\n",
    "print(df['物业类型'].value_counts())\n",
    "idx = df['物业类型']=='住宅'\n",
    "df1 = df.loc[idx,:]\n",
    "df1.reset_index(inplace=True)\n",
    "print(len(df1))"
   ],
   "metadata": {
    "collapsed": false,
    "pycharm": {
     "name": "#%%\n",
     "is_executing": false
    }
   }
  },
  {
   "cell_type": "code",
   "execution_count": 3,
   "outputs": [
    {
     "name": "stdout",
     "text": [
      "<class 'pandas.core.frame.DataFrame'>\n",
      "RangeIndex: 2975 entries, 0 to 2974\n",
      "Data columns (total 50 columns):\n",
      " #   Column      Non-Null Count  Dtype  \n",
      "---  ------      --------------  -----  \n",
      " 0   index       2975 non-null   int64  \n",
      " 1   url         2975 non-null   object \n",
      " 2   标题          2975 non-null   object \n",
      " 3   地址          2975 non-null   object \n",
      " 4   优势1         2975 non-null   object \n",
      " 5   优势2         2975 non-null   object \n",
      " 6   优势3         2975 non-null   object \n",
      " 7   总价          2975 non-null   float64\n",
      " 8   户型          2975 non-null   object \n",
      " 9   建筑面积        2975 non-null   object \n",
      " 10  单价          2975 non-null   object \n",
      " 11  朝向          2975 non-null   object \n",
      " 12  装修          2975 non-null   object \n",
      " 13  楼层层次        2975 non-null   object \n",
      " 14  总楼层         2975 non-null   float64\n",
      " 15  ID          2975 non-null   int64  \n",
      " 16  小区          2975 non-null   object \n",
      " 17  区域          2975 non-null   object \n",
      " 18  有无电梯        2975 non-null   object \n",
      " 19  产权性质        2960 non-null   object \n",
      " 20  住宅类别        1228 non-null   object \n",
      " 21  建筑结构        1226 non-null   object \n",
      " 22  建筑类别        1228 non-null   object \n",
      " 23  挂牌时间        2975 non-null   object \n",
      " 24  参考均价        2975 non-null   object \n",
      " 25  同比去年        2975 non-null   object \n",
      " 26  环比上月        2975 non-null   object \n",
      " 27  挂牌房源        2574 non-null   object \n",
      " 28  物业类型        2975 non-null   object \n",
      " 29  物业费用        2886 non-null   object \n",
      " 30  建筑类型        2965 non-null   object \n",
      " 31  建筑年代        2975 non-null   object \n",
      " 32  绿  化  率     2958 non-null   object \n",
      " 33  容  积  率     2958 non-null   float64\n",
      " 34  人车分流        2975 non-null   object \n",
      " 35  总楼栋数        2975 non-null   int64  \n",
      " 36  总  户  数     2974 non-null   float64\n",
      " 37  产权年限        1650 non-null   object \n",
      " 38  进门朝向        0 non-null      object \n",
      " 39  地上层数（共4层）   0 non-null      object \n",
      " 40  装修程度        0 non-null      object \n",
      " 41  建筑形式        0 non-null      object \n",
      " 42  厅结构         0 non-null      object \n",
      " 43  车库数量        0 non-null      float64\n",
      " 44  车位数量        0 non-null      object \n",
      " 45  地上层数（共3层）   0 non-null      object \n",
      " 46  花园面积        0 non-null      object \n",
      " 47  地下室面积       0 non-null      object \n",
      " 48  地上层数（共1层）   0 non-null      object \n",
      " 49  地上层数（共33层）  0 non-null      object \n",
      "dtypes: float64(5), int64(3), object(42)\n",
      "memory usage: 1.1+ MB\n"
     ],
     "output_type": "stream"
    }
   ],
   "source": [
    "# 查看多少属性后是别墅属性，删除别墅属性\n",
    "import numpy as np\n",
    "\n",
    "df1.info()\n",
    "df1 = df1.iloc[:,0:38]"
   ],
   "metadata": {
    "collapsed": false,
    "pycharm": {
     "name": "#%%\n",
     "is_executing": false
    }
   }
  },
  {
   "cell_type": "code",
   "execution_count": 4,
   "outputs": [],
   "source": [
    "'''\n",
    "处理户型属性：\n",
    "将四室两厅两卫 拆分为 卧室4 客厅2 卫生间2\n",
    "'''\n",
    "import re\n",
    "record_size = len(df1)\n",
    "zeros_array = np.zeros((record_size,3))\n",
    "# 户型df\n",
    "df_houseType = pd.DataFrame(zeros_array,columns=['卧室','客厅','卫生间'])\n",
    "\n",
    "# map函数\n",
    "def split_houseType(x):\n",
    "    numbers = re.findall(r'\\d+', x)\n",
    "    if(numbers==[]):\n",
    "        return [0,0,0]\n",
    "    return numbers\n",
    "\n",
    "series_houseType = df1[\"户型\"].map(lambda x:split_houseType(x))\n",
    "for i in range(record_size):\n",
    "    df_houseType.iloc[i,0] = int(series_houseType[i][0])\n",
    "    df_houseType.iloc[i,1] = int(series_houseType[i][1])\n",
    "    df_houseType.iloc[i,2] = int(series_houseType[i][2])\n",
    "\n",
    "df2 = pd.concat([df1,df_houseType],axis=1)"
   ],
   "metadata": {
    "collapsed": false,
    "pycharm": {
     "name": "#%%\n",
     "is_executing": false
    }
   }
  },
  {
   "cell_type": "code",
   "execution_count": 5,
   "outputs": [
    {
     "name": "stdout",
     "text": [
      "17\n",
      "17\n",
      "89\n",
      "1325\n",
      "0\n",
      "0\n"
     ],
     "output_type": "stream"
    }
   ],
   "source": [
    "# value_counts()`：计算Series中每个值的出现次数。\n",
    "print(df2['容  积  率'].isna().sum())\n",
    "print(df2['绿  化  率'].isna().sum())\n",
    "print(df2['物业费用'].isna().sum())\n",
    "print(df2['产权年限'].isna().sum())\n",
    "print(df2['人车分流'].isna().sum())\n",
    "print(df2['建筑年代'].isna().sum())"
   ],
   "metadata": {
    "collapsed": false,
    "pycharm": {
     "name": "#%%\n",
     "is_executing": false
    }
   }
  },
  {
   "cell_type": "code",
   "execution_count": 6,
   "outputs": [],
   "source": [
    "'''\n",
    "容积率 总户数 平均值填充\n",
    "'''\n",
    "df2['容  积  率'].fillna(round(df2['容  积  率'].mean(),2),inplace=True)\n",
    "df2['总  户  数'].fillna(round(df2['总  户  数'].mean(),2),inplace=True)"
   ],
   "metadata": {
    "collapsed": false,
    "pycharm": {
     "name": "#%%\n",
     "is_executing": false
    }
   }
  },
  {
   "cell_type": "code",
   "execution_count": 7,
   "outputs": [],
   "source": [
    "# 产权年限 提取数字\n",
    "df2['产权年限'] = df2['产权年限'].fillna('70')\n",
    "df2['产权年限'] = df2['产权年限'].map(lambda x:int(x[0:2]))"
   ],
   "metadata": {
    "collapsed": false,
    "pycharm": {
     "name": "#%%\n",
     "is_executing": false
    }
   }
  },
  {
   "cell_type": "code",
   "execution_count": 8,
   "outputs": [],
   "source": [
    "# 人车分流 转为0-1\n",
    "dic_map = {'无':0,'有':1}\n",
    "df2['人车分流'] = df2['人车分流'].map(dic_map)"
   ],
   "metadata": {
    "collapsed": false,
    "pycharm": {
     "name": "#%%\n",
     "is_executing": false
    }
   }
  },
  {
   "cell_type": "code",
   "execution_count": 9,
   "outputs": [
    {
     "name": "stdout",
     "text": [
      "929\n"
     ],
     "output_type": "stream"
    }
   ],
   "source": [
    "'''\n",
    "将 绿化率 属性上的nan值填充为30%，再转为数值属性\n",
    "'''\n",
    "def clean_green(x):\n",
    "    numbers = re.findall(r'\\d+', x)\n",
    "    return int(numbers[0])\n",
    "print(df2['绿  化  率'].value_counts()[0])\n",
    "idx_nan = df2['绿  化  率'].isna()\n",
    "df2['绿  化  率'] = df2['绿  化  率'].fillna(\"30%\")\n",
    "df2['绿  化  率'] = df2['绿  化  率'].map(lambda x:clean_green(x))"
   ],
   "metadata": {
    "collapsed": false,
    "pycharm": {
     "name": "#%%\n",
     "is_executing": false
    }
   }
  },
  {
   "cell_type": "code",
   "execution_count": 10,
   "outputs": [],
   "source": [
    "# 将 建筑年代 转为数值类型\n",
    "def clean_buildYear(x):\n",
    "    numbers = re.findall(r'\\d+', x)\n",
    "    return int(numbers[0])\n",
    "df2['建筑年代'] = df2['建筑年代'].map(lambda x:clean_buildYear(x))"
   ],
   "metadata": {
    "collapsed": false,
    "pycharm": {
     "name": "#%%\n",
     "is_executing": false
    }
   }
  },
  {
   "cell_type": "code",
   "execution_count": 11,
   "outputs": [
    {
     "data": {
      "text/plain": "板楼         2373\n板塔结合        242\n板楼,塔楼       173\n塔楼          166\n板楼,板塔结合      19\n塔楼,塔板结合       2\nName: 建筑类型, dtype: int64"
     },
     "metadata": {},
     "output_type": "execute_result",
     "execution_count": 11
    }
   ],
   "source": [
    "# 将 建筑类型 进行one-hot编码\n",
    "# print(df2['建筑类型'].isna().sum())\n",
    "padding_value = df2['建筑类型'].value_counts().index[0]\n",
    "df2['建筑类型'].fillna(padding_value,inplace=True)\n",
    "df2['建筑类型'].value_counts()"
   ],
   "metadata": {
    "collapsed": false,
    "pycharm": {
     "name": "#%%\n",
     "is_executing": false
    }
   }
  },
  {
   "cell_type": "code",
   "execution_count": 12,
   "outputs": [],
   "source": [
    "# 将 物业费用 转为数值类型\n",
    "def clean_fare(x):\n",
    "    # print(x)\n",
    "    if(pd.notna(x)):\n",
    "        numbers = re.findall(r\"\\d+\\.?\\d*\", x)\n",
    "        if len(numbers)>1:\n",
    "            return (float(numbers[0])+float(numbers[1]))/2\n",
    "        return float(numbers[0])\n",
    "    else:\n",
    "        return 0\n",
    "\n",
    "idx_nan = df2['物业费用'].isna()\n",
    "num_notnan = sum(~idx_nan)\n",
    "df2['物业费用'] = df2['物业费用'].map(lambda x:clean_fare(x))\n",
    "df2.loc[idx_nan,\"物业费用\"] = (df2.loc[~idx_nan,\"物业费用\"].median())"
   ],
   "metadata": {
    "collapsed": false,
    "pycharm": {
     "name": "#%%\n",
     "is_executing": false
    }
   }
  },
  {
   "cell_type": "code",
   "execution_count": 13,
   "outputs": [],
   "source": [
    "'''\n",
    "清洗 参考价格，将属性值为暂无的记录用平均参考价格填充\n",
    "'''\n",
    "def clean_aveprice(x):\n",
    "    if x=='暂无':\n",
    "        return np.nan\n",
    "    numbers = re.findall(r'\\d+', x)\n",
    "    return int(numbers[0])\n",
    "df2['参考均价'] = df2['参考均价'].map(lambda x:clean_aveprice(x))\n",
    "\n",
    "df2['参考均价'].fillna(round(df2['参考均价'].mean()),inplace=True)"
   ],
   "metadata": {
    "collapsed": false,
    "pycharm": {
     "name": "#%%\n",
     "is_executing": false
    }
   }
  },
  {
   "cell_type": "code",
   "execution_count": 14,
   "outputs": [],
   "source": [
    "'''\n",
    "将挂牌时间 处理为Timestamp\n",
    "'''\n",
    "df2['挂牌时间'] = df2['挂牌时间'].map(lambda x:pd.Timestamp(x).timestamp()/(60*60*24))"
   ],
   "metadata": {
    "collapsed": false,
    "pycharm": {
     "name": "#%%\n",
     "is_executing": false
    }
   }
  },
  {
   "cell_type": "code",
   "execution_count": 15,
   "outputs": [],
   "source": [
    "'''\n",
    "将 楼层层次 装修 朝向 区域 转为 one-hot编码\n",
    "'''\n",
    "df3 = pd.get_dummies(df2, prefix_sep=\"_\", columns=['区域','楼层层次','装修','朝向'])"
   ],
   "metadata": {
    "collapsed": false,
    "pycharm": {
     "name": "#%%\n",
     "is_executing": false
    }
   }
  },
  {
   "cell_type": "code",
   "execution_count": 15,
   "outputs": [],
   "source": [],
   "metadata": {
    "collapsed": false,
    "pycharm": {
     "name": "#%%\n",
     "is_executing": false
    }
   }
  },
  {
   "cell_type": "code",
   "execution_count": 16,
   "outputs": [],
   "source": [
    "'''\n",
    "清洗 单价\n",
    "'''\n",
    "\n",
    "def clean_price(x):\n",
    "    numbers = re.findall(r'\\d+', x)\n",
    "    return int(numbers[0])\n",
    "df3['单价'] = df3['单价'].map(lambda x:clean_price(x))"
   ],
   "metadata": {
    "collapsed": false,
    "pycharm": {
     "name": "#%%\n",
     "is_executing": false
    }
   }
  },
  {
   "cell_type": "code",
   "execution_count": 17,
   "outputs": [],
   "source": [
    "'''\n",
    "清洗 建筑面积\n",
    "'''\n",
    "def clean_square(x):\n",
    "    numbers = re.findall(r'\\d+', x)\n",
    "    return int(numbers[0])\n",
    "df3['建筑面积'] = df3['建筑面积'].map(lambda x:clean_square(x))"
   ],
   "metadata": {
    "collapsed": false,
    "pycharm": {
     "name": "#%%\n",
     "is_executing": false
    }
   }
  },
  {
   "cell_type": "code",
   "execution_count": 18,
   "outputs": [],
   "source": [
    "'''\n",
    "清洗 有无电梯\n",
    "'''\n",
    "dic_map = {\"有\":1,\"无\":0}\n",
    "df3['有无电梯'] = df3['有无电梯'].map(dic_map)"
   ],
   "metadata": {
    "collapsed": false,
    "pycharm": {
     "name": "#%%\n",
     "is_executing": false
    }
   }
  },
  {
   "cell_type": "code",
   "execution_count": 19,
   "outputs": [],
   "source": [
    "'''\n",
    "将 产权性质 nan处填充 个人产权\n",
    "并one-hot编码\n",
    "'''\n",
    "df3['产权性质'].fillna(\"个人产权\",inplace=True)\n",
    "df4 = pd.get_dummies(df3, prefix_sep=\"_\", columns=['产权性质'])"
   ],
   "metadata": {
    "collapsed": false,
    "pycharm": {
     "name": "#%%\n",
     "is_executing": false
    }
   }
  },
  {
   "cell_type": "code",
   "execution_count": 19,
   "outputs": [],
   "source": [],
   "metadata": {
    "collapsed": false,
    "pycharm": {
     "name": "#%%\n",
     "is_executing": false
    }
   }
  },
  {
   "cell_type": "code",
   "execution_count": 20,
   "outputs": [],
   "source": [
    "def clean_buildType(x):\n",
    "    if len(x)>2:\n",
    "        return '板塔结合'\n",
    "    else:\n",
    "        return x\n",
    "df4['建筑类型'] = df4['建筑类型'].map(lambda x:clean_buildType(x))\n",
    "df5 = pd.get_dummies(df4, prefix_sep=\"_\", columns=['建筑类型'])"
   ],
   "metadata": {
    "collapsed": false,
    "pycharm": {
     "name": "#%%\n",
     "is_executing": false
    }
   }
  },
  {
   "cell_type": "code",
   "execution_count": 21,
   "outputs": [
    {
     "name": "stdout",
     "text": [
      "<class 'pandas.core.frame.DataFrame'>\n",
      "RangeIndex: 2975 entries, 0 to 2974\n",
      "Data columns (total 71 columns):\n",
      " #   Column      Non-Null Count  Dtype  \n",
      "---  ------      --------------  -----  \n",
      " 0   index       2975 non-null   int64  \n",
      " 1   url         2975 non-null   object \n",
      " 2   标题          2975 non-null   object \n",
      " 3   地址          2975 non-null   object \n",
      " 4   优势1         2975 non-null   object \n",
      " 5   优势2         2975 non-null   object \n",
      " 6   优势3         2975 non-null   object \n",
      " 7   总价          2975 non-null   float64\n",
      " 8   户型          2975 non-null   object \n",
      " 9   建筑面积        2975 non-null   int64  \n",
      " 10  单价          2975 non-null   int64  \n",
      " 11  总楼层         2975 non-null   float64\n",
      " 12  ID          2975 non-null   int64  \n",
      " 13  小区          2975 non-null   object \n",
      " 14  有无电梯        2975 non-null   int64  \n",
      " 15  住宅类别        1228 non-null   object \n",
      " 16  建筑结构        1226 non-null   object \n",
      " 17  建筑类别        1228 non-null   object \n",
      " 18  挂牌时间        2975 non-null   float64\n",
      " 19  参考均价        2975 non-null   float64\n",
      " 20  同比去年        2975 non-null   object \n",
      " 21  环比上月        2975 non-null   object \n",
      " 22  挂牌房源        2574 non-null   object \n",
      " 23  物业类型        2975 non-null   object \n",
      " 24  物业费用        2975 non-null   float64\n",
      " 25  建筑年代        2975 non-null   int64  \n",
      " 26  绿  化  率     2975 non-null   int64  \n",
      " 27  容  积  率     2975 non-null   float64\n",
      " 28  人车分流        2975 non-null   int64  \n",
      " 29  总楼栋数        2975 non-null   int64  \n",
      " 30  总  户  数     2975 non-null   float64\n",
      " 31  产权年限        2975 non-null   int64  \n",
      " 32  卧室          2975 non-null   float64\n",
      " 33  客厅          2975 non-null   float64\n",
      " 34  卫生间         2975 non-null   float64\n",
      " 35  区域_北塘区      2975 non-null   uint8  \n",
      " 36  区域_南长区      2975 non-null   uint8  \n",
      " 37  区域_崇安区      2975 non-null   uint8  \n",
      " 38  区域_惠山区      2975 non-null   uint8  \n",
      " 39  区域_新区       2975 non-null   uint8  \n",
      " 40  区域_新吴区      2975 non-null   uint8  \n",
      " 41  区域_梁溪区      2975 non-null   uint8  \n",
      " 42  区域_江阴市      2975 non-null   uint8  \n",
      " 43  区域_滨湖区      2975 non-null   uint8  \n",
      " 44  区域_经开区      2975 non-null   uint8  \n",
      " 45  区域_锡山区      2975 non-null   uint8  \n",
      " 46  楼层层次_中层     2975 non-null   uint8  \n",
      " 47  楼层层次_低层     2975 non-null   uint8  \n",
      " 48  楼层层次_底层     2975 non-null   uint8  \n",
      " 49  楼层层次_顶层     2975 non-null   uint8  \n",
      " 50  楼层层次_高层     2975 non-null   uint8  \n",
      " 51  装修_暂无       2975 non-null   uint8  \n",
      " 52  装修_毛坯       2975 non-null   uint8  \n",
      " 53  装修_简装修      2975 non-null   uint8  \n",
      " 54  装修_精装修      2975 non-null   uint8  \n",
      " 55  装修_豪华装修     2975 non-null   uint8  \n",
      " 56  朝向_东        2975 non-null   uint8  \n",
      " 57  朝向_东北       2975 non-null   uint8  \n",
      " 58  朝向_东南       2975 non-null   uint8  \n",
      " 59  朝向_北        2975 non-null   uint8  \n",
      " 60  朝向_南        2975 non-null   uint8  \n",
      " 61  朝向_南北       2975 non-null   uint8  \n",
      " 62  朝向_西        2975 non-null   uint8  \n",
      " 63  朝向_西北       2975 non-null   uint8  \n",
      " 64  朝向_西南       2975 non-null   uint8  \n",
      " 65  产权性质_个人产权   2975 non-null   uint8  \n",
      " 66  产权性质_商品房    2975 non-null   uint8  \n",
      " 67  产权性质_经济适用房  2975 non-null   uint8  \n",
      " 68  建筑类型_塔楼     2975 non-null   uint8  \n",
      " 69  建筑类型_板塔结合   2975 non-null   uint8  \n",
      " 70  建筑类型_板楼     2975 non-null   uint8  \n",
      "dtypes: float64(10), int64(10), object(15), uint8(36)\n",
      "memory usage: 918.2+ KB\n"
     ],
     "output_type": "stream"
    }
   ],
   "source": [
    "df5.info()"
   ],
   "metadata": {
    "collapsed": false,
    "pycharm": {
     "name": "#%%\n",
     "is_executing": false
    }
   }
  },
  {
   "cell_type": "code",
   "execution_count": 22,
   "outputs": [
    {
     "name": "stdout",
     "text": [
      "[9, 10, 11, 14, 18, 24, 25, 26, 27, 28, 29, 30, 31, 32, 33, 34, 35, 36, 37, 38, 39, 40, 41, 42, 43, 44, 45, 46, 47, 48, 49, 50, 51, 52, 53, 54, 55, 56, 57, 58, 59, 60, 61, 62, 63, 64, 65, 66, 67, 68, 69, 70]\n"
     ],
     "output_type": "stream"
    }
   ],
   "source": [
    "idx_keep = [9,10,11,14,18,24,25,26,27,28,29,30,31]\n",
    "idx_keep.extend(list(range(32,71)))\n",
    "print(idx_keep)"
   ],
   "metadata": {
    "collapsed": false,
    "pycharm": {
     "name": "#%%\n",
     "is_executing": false
    }
   }
  },
  {
   "cell_type": "code",
   "execution_count": 66,
   "outputs": [],
   "source": [
    "df5.to_csv(r\"E:\\pycharm files\\housing_pricing_model\\data\\clean_data.csv\",encoding='gbk')\n",
    "df6 = df5.iloc[:,idx_keep]\n",
    "df6.to_csv(r\"E:\\pycharm files\\housing_pricing_model\\data\\train_data.csv\",encoding='gbk')"
   ],
   "metadata": {
    "collapsed": false,
    "pycharm": {
     "name": "#%%\n",
     "is_executing": false
    }
   }
  },
  {
   "cell_type": "code",
   "execution_count": 24,
   "outputs": [
    {
     "name": "stdout",
     "text": [
      "<class 'pandas.core.frame.DataFrame'>\n",
      "RangeIndex: 2975 entries, 0 to 2974\n",
      "Data columns (total 52 columns):\n",
      " #   Column      Non-Null Count  Dtype  \n",
      "---  ------      --------------  -----  \n",
      " 0   建筑面积        2975 non-null   int64  \n",
      " 1   单价          2975 non-null   int64  \n",
      " 2   总楼层         2975 non-null   float64\n",
      " 3   有无电梯        2975 non-null   int64  \n",
      " 4   挂牌时间        2975 non-null   float64\n",
      " 5   物业费用        2975 non-null   float64\n",
      " 6   建筑年代        2975 non-null   int64  \n",
      " 7   绿  化  率     2975 non-null   int64  \n",
      " 8   容  积  率     2975 non-null   float64\n",
      " 9   人车分流        2975 non-null   int64  \n",
      " 10  总楼栋数        2975 non-null   int64  \n",
      " 11  总  户  数     2975 non-null   float64\n",
      " 12  产权年限        2975 non-null   int64  \n",
      " 13  卧室          2975 non-null   float64\n",
      " 14  客厅          2975 non-null   float64\n",
      " 15  卫生间         2975 non-null   float64\n",
      " 16  区域_北塘区      2975 non-null   uint8  \n",
      " 17  区域_南长区      2975 non-null   uint8  \n",
      " 18  区域_崇安区      2975 non-null   uint8  \n",
      " 19  区域_惠山区      2975 non-null   uint8  \n",
      " 20  区域_新区       2975 non-null   uint8  \n",
      " 21  区域_新吴区      2975 non-null   uint8  \n",
      " 22  区域_梁溪区      2975 non-null   uint8  \n",
      " 23  区域_江阴市      2975 non-null   uint8  \n",
      " 24  区域_滨湖区      2975 non-null   uint8  \n",
      " 25  区域_经开区      2975 non-null   uint8  \n",
      " 26  区域_锡山区      2975 non-null   uint8  \n",
      " 27  楼层层次_中层     2975 non-null   uint8  \n",
      " 28  楼层层次_低层     2975 non-null   uint8  \n",
      " 29  楼层层次_底层     2975 non-null   uint8  \n",
      " 30  楼层层次_顶层     2975 non-null   uint8  \n",
      " 31  楼层层次_高层     2975 non-null   uint8  \n",
      " 32  装修_暂无       2975 non-null   uint8  \n",
      " 33  装修_毛坯       2975 non-null   uint8  \n",
      " 34  装修_简装修      2975 non-null   uint8  \n",
      " 35  装修_精装修      2975 non-null   uint8  \n",
      " 36  装修_豪华装修     2975 non-null   uint8  \n",
      " 37  朝向_东        2975 non-null   uint8  \n",
      " 38  朝向_东北       2975 non-null   uint8  \n",
      " 39  朝向_东南       2975 non-null   uint8  \n",
      " 40  朝向_北        2975 non-null   uint8  \n",
      " 41  朝向_南        2975 non-null   uint8  \n",
      " 42  朝向_南北       2975 non-null   uint8  \n",
      " 43  朝向_西        2975 non-null   uint8  \n",
      " 44  朝向_西北       2975 non-null   uint8  \n",
      " 45  朝向_西南       2975 non-null   uint8  \n",
      " 46  产权性质_个人产权   2975 non-null   uint8  \n",
      " 47  产权性质_商品房    2975 non-null   uint8  \n",
      " 48  产权性质_经济适用房  2975 non-null   uint8  \n",
      " 49  建筑类型_塔楼     2975 non-null   uint8  \n",
      " 50  建筑类型_板塔结合   2975 non-null   uint8  \n",
      " 51  建筑类型_板楼     2975 non-null   uint8  \n",
      "dtypes: float64(8), int64(8), uint8(36)\n",
      "memory usage: 476.6 KB\n"
     ],
     "output_type": "stream"
    }
   ],
   "source": [
    "df6.info()"
   ],
   "metadata": {
    "collapsed": false,
    "pycharm": {
     "name": "#%%\n",
     "is_executing": false
    }
   }
  },
  {
   "cell_type": "code",
   "execution_count": 70,
   "outputs": [],
   "source": [
    "'''\n",
    "标准化数据\n",
    "'''\n",
    "\n",
    "from sklearn.preprocessing import StandardScaler\n",
    "scaler = MinMaxScaler()\n",
    "scaler1= MinMaxScaler()\n",
    "df_scaled = pd.DataFrame(scaler.fit_transform(df6), columns=df6.columns)\n",
    "\n",
    "df_scaled = df_scaled*0.98+0.01\n",
    "# df_inverse0 = (df_scaled-0.01)/0.98\n",
    "# df_inverse = scaler.inverse_transform(df_inverse0)\n",
    "\n",
    "df_y = pd.DataFrame(df6['单价'],columns=['单价'])\n",
    "df_yscalar = scaler1.fit_transform(df_y)*0.98+0.01\n",
    "\n",
    "df_yinverse0 = (df_yscalar-0.01)/0.98\n",
    "df_yinverse = scaler1.inverse_transform(df_yinverse0[0:5,:])"
   ],
   "metadata": {
    "collapsed": false,
    "pycharm": {
     "name": "#%%\n",
     "is_executing": false
    }
   }
  },
  {
   "cell_type": "code",
   "execution_count": 71,
   "outputs": [
    {
     "name": "stdout",
     "text": [
      "y_size:(2975, 1)，tpye:<class 'numpy.ndarray'>\n",
      "X_size:(2975, 50)，tpye:<class 'numpy.ndarray'>\n"
     ],
     "output_type": "stream"
    }
   ],
   "source": [
    "move_column = '单价'\n",
    "new_columns  = [move_column] + [col for col in df6.columns if col != move_column]\n",
    "df7 = df_scaled[new_columns]\n",
    "\n",
    "y = df7.iloc[:,0].to_numpy().reshape(-1,1)\n",
    "X = df7.iloc[:,1:-1].to_numpy()\n",
    "print(f\"y_size:{y.shape}，tpye:{type(y)}\")\n",
    "print(f\"X_size:{X.shape}，tpye:{type(X)}\")"
   ],
   "metadata": {
    "collapsed": false,
    "pycharm": {
     "name": "#%%\n",
     "is_executing": false
    }
   }
  },
  {
   "cell_type": "code",
   "execution_count": 72,
   "outputs": [
    {
     "name": "stdout",
     "text": [
      "<class 'pandas.core.frame.DataFrame'>\n",
      "RangeIndex: 2975 entries, 0 to 2974\n",
      "Data columns (total 52 columns):\n",
      " #   Column      Non-Null Count  Dtype  \n",
      "---  ------      --------------  -----  \n",
      " 0   单价          2975 non-null   float64\n",
      " 1   建筑面积        2975 non-null   float64\n",
      " 2   总楼层         2975 non-null   float64\n",
      " 3   有无电梯        2975 non-null   float64\n",
      " 4   挂牌时间        2975 non-null   float64\n",
      " 5   物业费用        2975 non-null   float64\n",
      " 6   建筑年代        2975 non-null   float64\n",
      " 7   绿  化  率     2975 non-null   float64\n",
      " 8   容  积  率     2975 non-null   float64\n",
      " 9   人车分流        2975 non-null   float64\n",
      " 10  总楼栋数        2975 non-null   float64\n",
      " 11  总  户  数     2975 non-null   float64\n",
      " 12  产权年限        2975 non-null   float64\n",
      " 13  卧室          2975 non-null   float64\n",
      " 14  客厅          2975 non-null   float64\n",
      " 15  卫生间         2975 non-null   float64\n",
      " 16  区域_北塘区      2975 non-null   float64\n",
      " 17  区域_南长区      2975 non-null   float64\n",
      " 18  区域_崇安区      2975 non-null   float64\n",
      " 19  区域_惠山区      2975 non-null   float64\n",
      " 20  区域_新区       2975 non-null   float64\n",
      " 21  区域_新吴区      2975 non-null   float64\n",
      " 22  区域_梁溪区      2975 non-null   float64\n",
      " 23  区域_江阴市      2975 non-null   float64\n",
      " 24  区域_滨湖区      2975 non-null   float64\n",
      " 25  区域_经开区      2975 non-null   float64\n",
      " 26  区域_锡山区      2975 non-null   float64\n",
      " 27  楼层层次_中层     2975 non-null   float64\n",
      " 28  楼层层次_低层     2975 non-null   float64\n",
      " 29  楼层层次_底层     2975 non-null   float64\n",
      " 30  楼层层次_顶层     2975 non-null   float64\n",
      " 31  楼层层次_高层     2975 non-null   float64\n",
      " 32  装修_暂无       2975 non-null   float64\n",
      " 33  装修_毛坯       2975 non-null   float64\n",
      " 34  装修_简装修      2975 non-null   float64\n",
      " 35  装修_精装修      2975 non-null   float64\n",
      " 36  装修_豪华装修     2975 non-null   float64\n",
      " 37  朝向_东        2975 non-null   float64\n",
      " 38  朝向_东北       2975 non-null   float64\n",
      " 39  朝向_东南       2975 non-null   float64\n",
      " 40  朝向_北        2975 non-null   float64\n",
      " 41  朝向_南        2975 non-null   float64\n",
      " 42  朝向_南北       2975 non-null   float64\n",
      " 43  朝向_西        2975 non-null   float64\n",
      " 44  朝向_西北       2975 non-null   float64\n",
      " 45  朝向_西南       2975 non-null   float64\n",
      " 46  产权性质_个人产权   2975 non-null   float64\n",
      " 47  产权性质_商品房    2975 non-null   float64\n",
      " 48  产权性质_经济适用房  2975 non-null   float64\n",
      " 49  建筑类型_塔楼     2975 non-null   float64\n",
      " 50  建筑类型_板塔结合   2975 non-null   float64\n",
      " 51  建筑类型_板楼     2975 non-null   float64\n",
      "dtypes: float64(52)\n",
      "memory usage: 1.2 MB\n"
     ],
     "output_type": "stream"
    }
   ],
   "source": [
    "df7.info()\n",
    "\n",
    "df7.to_csv(r'E:\\pycharm files\\housing_pricing_model\\data\\scalar.csv',encoding='gbk')"
   ],
   "metadata": {
    "collapsed": false,
    "pycharm": {
     "name": "#%%\n",
     "is_executing": false
    }
   }
  },
  {
   "cell_type": "code",
   "execution_count": 73,
   "outputs": [],
   "source": [
    "from sklearn.model_selection import train_test_split\n",
    "\n",
    "X_train, X_test, y_train, y_test = train_test_split(X, y,test_size=0.2)"
   ],
   "metadata": {
    "collapsed": false,
    "pycharm": {
     "name": "#%%\n",
     "is_executing": false
    }
   }
  },
  {
   "cell_type": "code",
   "execution_count": 122,
   "outputs": [
    {
     "name": "stdout",
     "text": [
      "第5000次迭代 loss=0.02665883281756388\n",
      "第10000次迭代 loss=0.017218111507973817\n",
      "第15000次迭代 loss=0.03892047800968508\n",
      "第20000次迭代 loss=0.01013103152452038\n",
      "第25000次迭代 loss=0.015995122103393104\n",
      "第30000次迭代 loss=0.09875323308255189\n",
      "第35000次迭代 loss=0.017905715408315582\n",
      "第40000次迭代 loss=0.029640535360069994\n",
      "第45000次迭代 loss=0.013994445219574428\n",
      "第50000次迭代 loss=0.05462412536530264\n",
      "第55000次迭代 loss=0.02117713861630416\n",
      "第60000次迭代 loss=0.03849855504837329\n",
      "第65000次迭代 loss=0.05402841787888149\n",
      "第70000次迭代 loss=0.04052751872037415\n",
      "第75000次迭代 loss=0.031240286152949985\n",
      "第80000次迭代 loss=0.017595000405081475\n",
      "第85000次迭代 loss=0.03530789156493169\n",
      "第90000次迭代 loss=0.010679247779343556\n",
      "第95000次迭代 loss=0.018060865715725506\n",
      "第100000次迭代 loss=0.01984349164171839\n",
      "第105000次迭代 loss=0.0887298132421435\n",
      "第110000次迭代 loss=0.028415961068963613\n",
      "第115000次迭代 loss=0.018213272079752693\n",
      "第120000次迭代 loss=0.029467324833544487\n",
      "第125000次迭代 loss=0.036582812282415236\n",
      "第130000次迭代 loss=0.039746548897423434\n",
      "第135000次迭代 loss=0.01053880826069914\n",
      "第140000次迭代 loss=0.016826090692860722\n",
      "第145000次迭代 loss=0.01675720257067322\n",
      "第150000次迭代 loss=0.028714841511462707\n",
      "第155000次迭代 loss=0.0374847621242119\n",
      "第160000次迭代 loss=0.048657252458647465\n",
      "第165000次迭代 loss=0.03682302977908985\n",
      "第170000次迭代 loss=0.009309081785668583\n",
      "第175000次迭代 loss=0.009664434429116285\n",
      "第180000次迭代 loss=0.01125919721623042\n",
      "第185000次迭代 loss=0.025512421678871168\n",
      "第190000次迭代 loss=0.014646699879771134\n",
      "第195000次迭代 loss=0.03877632105119203\n",
      "第200000次迭代 loss=0.00897946330646862\n",
      "第205000次迭代 loss=0.018492293048159\n",
      "第210000次迭代 loss=0.00964463580839985\n",
      "第215000次迭代 loss=0.00953508708253419\n",
      "第220000次迭代 loss=0.005811650442796688\n",
      "第225000次迭代 loss=0.04269653697309837\n",
      "第230000次迭代 loss=0.028451722468614354\n",
      "第235000次迭代 loss=0.008475412803860473\n",
      "第240000次迭代 loss=0.014469219935021576\n",
      "第245000次迭代 loss=0.008129480464252652\n",
      "第250000次迭代 loss=0.013818707772631039\n",
      "第255000次迭代 loss=0.012223430588458668\n",
      "第260000次迭代 loss=0.00608152302369336\n",
      "第265000次迭代 loss=0.011852777013077496\n",
      "第270000次迭代 loss=0.022381717454139683\n",
      "第275000次迭代 loss=0.021015104345060084\n",
      "第280000次迭代 loss=0.013535934100406745\n",
      "第285000次迭代 loss=0.00938233103433471\n",
      "第290000次迭代 loss=0.016812531858562938\n",
      "第295000次迭代 loss=0.01800592509273684\n",
      "第300000次迭代 loss=0.035299500056257406\n",
      "第305000次迭代 loss=0.08672689226476062\n",
      "第310000次迭代 loss=0.027131926867313555\n",
      "第315000次迭代 loss=0.005599429628615564\n",
      "第320000次迭代 loss=0.013979863525818736\n",
      "第325000次迭代 loss=0.024590884407630218\n",
      "第330000次迭代 loss=0.02324998722721295\n",
      "第335000次迭代 loss=0.008706199199793454\n",
      "第340000次迭代 loss=0.012145661180097484\n",
      "第345000次迭代 loss=0.0543349684025236\n",
      "第350000次迭代 loss=0.02210993138752462\n",
      "第355000次迭代 loss=0.023399035252263563\n",
      "第360000次迭代 loss=0.011571108698146444\n",
      "第365000次迭代 loss=0.018861198467187913\n",
      "第370000次迭代 loss=0.014862516680455655\n",
      "第375000次迭代 loss=0.013561691246506514\n",
      "第380000次迭代 loss=0.0617230920845824\n",
      "第385000次迭代 loss=0.015842074995957148\n",
      "第390000次迭代 loss=0.014388295570451102\n",
      "第395000次迭代 loss=0.02137764454915338\n",
      "第400000次迭代 loss=0.012553795169735992\n",
      "第405000次迭代 loss=0.007441621767215009\n",
      "第410000次迭代 loss=0.04915031064518396\n",
      "第415000次迭代 loss=0.03280102699204133\n",
      "第420000次迭代 loss=0.048232856962117994\n",
      "第425000次迭代 loss=0.015861168451873364\n",
      "第430000次迭代 loss=0.011731339601218149\n",
      "第435000次迭代 loss=0.00853217622013809\n",
      "第440000次迭代 loss=0.020039108485142097\n",
      "第445000次迭代 loss=0.008416228520136411\n",
      "第450000次迭代 loss=0.014131353807462707\n",
      "第455000次迭代 loss=0.008558359996875127\n",
      "第460000次迭代 loss=0.031971191268526634\n",
      "第465000次迭代 loss=0.01650107529121092\n",
      "第470000次迭代 loss=0.02151818229316196\n",
      "第475000次迭代 loss=0.00979562248460226\n",
      "第480000次迭代 loss=0.022584917611725944\n",
      "第485000次迭代 loss=0.0076424460407748425\n",
      "第490000次迭代 loss=0.0064078338085450095\n",
      "第495000次迭代 loss=0.0061458041503996644\n",
      "第500000次迭代 loss=0.004910648204800125\n",
      "第505000次迭代 loss=0.00694216122449165\n",
      "第510000次迭代 loss=0.010260369201143454\n",
      "第515000次迭代 loss=0.013597065584963484\n",
      "第520000次迭代 loss=0.01404717618751566\n",
      "第525000次迭代 loss=0.025921901049055156\n",
      "第530000次迭代 loss=0.016990177941922247\n",
      "第535000次迭代 loss=0.008569422276522494\n",
      "第540000次迭代 loss=0.006458904335300761\n",
      "第545000次迭代 loss=0.012155133826565946\n",
      "第550000次迭代 loss=0.03566203062903029\n",
      "第555000次迭代 loss=0.049406097249267915\n",
      "第560000次迭代 loss=0.018383445199105834\n",
      "第565000次迭代 loss=0.007628119088142514\n",
      "第570000次迭代 loss=0.003747368621021727\n",
      "第575000次迭代 loss=0.01916382300688898\n",
      "第580000次迭代 loss=0.024651226363531953\n",
      "第585000次迭代 loss=0.007536826247731115\n",
      "第590000次迭代 loss=0.006154374664676192\n",
      "第595000次迭代 loss=0.015834014629344157\n",
      "第600000次迭代 loss=0.004378613824343276\n",
      "第605000次迭代 loss=0.008540040365987841\n",
      "第610000次迭代 loss=0.011824404696483257\n",
      "第615000次迭代 loss=0.005398690875948289\n",
      "第620000次迭代 loss=0.011191663330435902\n",
      "第625000次迭代 loss=0.005052494638112687\n",
      "第630000次迭代 loss=0.017859210391986197\n",
      "第635000次迭代 loss=0.007196770848223286\n",
      "第640000次迭代 loss=0.014159599931408053\n",
      "第645000次迭代 loss=0.005913357022414158\n",
      "第650000次迭代 loss=0.014046599297492014\n",
      "第655000次迭代 loss=0.007088471587779572\n",
      "第660000次迭代 loss=0.0055201229512722595\n",
      "第665000次迭代 loss=0.040135683630679646\n",
      "第670000次迭代 loss=0.016395008042696228\n",
      "第675000次迭代 loss=0.014188826822739975\n",
      "第680000次迭代 loss=0.024176439907151393\n",
      "第685000次迭代 loss=0.0052868675126597296\n",
      "第690000次迭代 loss=0.015084007494567401\n",
      "第695000次迭代 loss=0.003926828679371068\n",
      "第700000次迭代 loss=0.006643437067755811\n",
      "第705000次迭代 loss=0.03505803571524789\n",
      "第710000次迭代 loss=0.030362555162262574\n",
      "loss=3.1241156968932504\n"
     ],
     "output_type": "stream"
    }
   ],
   "source": [
    "import 机器学习.util.ANN as ANN\n",
    "ann = ANN.ANN(layer_number=4,\n",
    "              layer_neuron=[50,40,40,1],\n",
    "              learning_rate=0.2,\n",
    "              batch_size=10,\n",
    "              epochs=3000)\n",
    "\n",
    "ann_param = ann.fit(X_train,y_train)\n",
    "print(f\"loss={ann_param[2]}\")"
   ],
   "metadata": {
    "collapsed": false,
    "pycharm": {
     "name": "#%%\n",
     "is_executing": false
    }
   }
  },
  {
   "cell_type": "code",
   "execution_count": 125,
   "outputs": [
    {
     "name": "stdout",
     "text": [
      "595\n",
      "570\n"
     ],
     "output_type": "stream"
    }
   ],
   "source": [
    "y_hat = ann.transform(X_test)\n",
    "y_test1 = (y_test-0.01)/0.98\n",
    "y_hat1 = (y_hat-0.01)/0.98\n",
    "df_ytest = scaler1.inverse_transform(y_test1)\n",
    "df_yhat = scaler1.inverse_transform(y_hat1)\n",
    "\n",
    "y_error = abs(df_ytest - df_yhat)\n",
    "print(len(y_error))\n",
    "idx = y_error>2000\n",
    "print(idx.sum())\n",
    "# yy = pd.DataFrame([y_hat,y_test])"
   ],
   "metadata": {
    "collapsed": false,
    "pycharm": {
     "name": "#%%\n",
     "is_executing": false
    }
   }
  },
  {
   "cell_type": "code",
   "execution_count": 87,
   "outputs": [],
   "source": [
    "# pd.concat([df_ytest,df_yhat])\n",
    "xy_test = np.hstack([y_error,df_ytest,df_yhat])"
   ],
   "metadata": {
    "collapsed": false,
    "pycharm": {
     "name": "#%%\n",
     "is_executing": false
    }
   }
  },
  {
   "cell_type": "code",
   "execution_count": null,
   "outputs": [],
   "source": [
    "import numpy as np\n",
    "y_pred = np.argmax(y_hat,axis=1)\n",
    "y_true = np.argmax(y_test,axis=1)\n",
    "y_perf = (y_pred - y_true).astype('bool')\n",
    "error_num = sum(y_perf)\n",
    "test_num = X_test.shape[0]\n",
    "print(f\"准确率为：{1-error_num/test_num}\")"
   ],
   "metadata": {
    "collapsed": false,
    "pycharm": {
     "name": "#%%\n"
    }
   }
  },
  {
   "cell_type": "code",
   "execution_count": null,
   "outputs": [],
   "source": [
    "import pandas as pd\n",
    "from sklearn.preprocessing import MinMaxScaler\n",
    "\n",
    "# 创建一个示例 DataFrame\n",
    "data = {'A': [1, 2, 3],\n",
    "        'B': [4, 5, 6],\n",
    "        'C': [7, 8, 9]}\n",
    "df = pd.DataFrame(data)\n",
    "\n",
    "# 使用 StandardScaler 对每一列进行标准化\n",
    "scaler = MinMaxScaler()\n",
    "df_scaled = pd.DataFrame(scaler.fit_transform(df), columns=df.columns)\n",
    "\n",
    "print(df_scaled)"
   ],
   "metadata": {
    "collapsed": false,
    "pycharm": {
     "name": "#%%\n",
     "is_executing": false
    }
   }
  },
  {
   "cell_type": "code",
   "execution_count": 69,
   "outputs": [
    {
     "data": {
      "text/plain": "<AxesSubplot:xlabel='容  积  率', ylabel='单价'>"
     },
     "metadata": {},
     "output_type": "execute_result",
     "execution_count": 69
    },
    {
     "name": "stderr",
     "text": [
      "D:\\Anaconda3_2\\lib\\site-packages\\matplotlib\\backends\\backend_agg.py:240: RuntimeWarning: Glyph 23481 missing from current font.\n",
      "  font.set_text(s, 0.0, flags=flags)\n",
      "D:\\Anaconda3_2\\lib\\site-packages\\matplotlib\\backends\\backend_agg.py:240: RuntimeWarning: Glyph 31215 missing from current font.\n",
      "  font.set_text(s, 0.0, flags=flags)\n",
      "D:\\Anaconda3_2\\lib\\site-packages\\matplotlib\\backends\\backend_agg.py:240: RuntimeWarning: Glyph 29575 missing from current font.\n",
      "  font.set_text(s, 0.0, flags=flags)\n",
      "D:\\Anaconda3_2\\lib\\site-packages\\matplotlib\\backends\\backend_agg.py:240: RuntimeWarning: Glyph 21333 missing from current font.\n",
      "  font.set_text(s, 0.0, flags=flags)\n",
      "D:\\Anaconda3_2\\lib\\site-packages\\matplotlib\\backends\\backend_agg.py:240: RuntimeWarning: Glyph 20215 missing from current font.\n",
      "  font.set_text(s, 0.0, flags=flags)\n",
      "D:\\Anaconda3_2\\lib\\site-packages\\matplotlib\\backends\\backend_agg.py:203: RuntimeWarning: Glyph 23481 missing from current font.\n",
      "  font.set_text(s, 0, flags=flags)\n",
      "D:\\Anaconda3_2\\lib\\site-packages\\matplotlib\\backends\\backend_agg.py:203: RuntimeWarning: Glyph 31215 missing from current font.\n",
      "  font.set_text(s, 0, flags=flags)\n",
      "D:\\Anaconda3_2\\lib\\site-packages\\matplotlib\\backends\\backend_agg.py:203: RuntimeWarning: Glyph 29575 missing from current font.\n",
      "  font.set_text(s, 0, flags=flags)\n",
      "D:\\Anaconda3_2\\lib\\site-packages\\matplotlib\\backends\\backend_agg.py:203: RuntimeWarning: Glyph 21333 missing from current font.\n",
      "  font.set_text(s, 0, flags=flags)\n",
      "D:\\Anaconda3_2\\lib\\site-packages\\matplotlib\\backends\\backend_agg.py:203: RuntimeWarning: Glyph 20215 missing from current font.\n",
      "  font.set_text(s, 0, flags=flags)\n"
     ],
     "output_type": "stream"
    },
    {
     "data": {
      "text/plain": "<Figure size 432x288 with 1 Axes>",
      "image/png": "[encoded data removed]"
     },
     "metadata": {
      "needs_background": "light"
     },
     "output_type": "display_data"
    }
   ],
   "source": [
    "df7.plot.scatter(x='容  积  率',y='单价')"
   ],
   "metadata": {
    "collapsed": false,
    "pycharm": {
     "name": "#%%\n",
     "is_executing": false
    }
   }
  },
  {
   "cell_type": "code",
   "execution_count": null,
   "outputs": [],
   "source": [
    "\n"
   ],
   "metadata": {
    "collapsed": false,
    "pycharm": {
     "name": "#%%\n"
    }
   }
  }
 ],
 "metadata": {
  "kernelspec": {
   "name": "pycharm-3829732f",
   "language": "python",
   "display_name": "PyCharm (Datamining)"
  },
  "language_info": {
   "codemirror_mode": {
    "name": "ipython",
    "version": 2
   },
   "file_extension": ".py",
   "mimetype": "text/x-python",
   "name": "python",
   "nbconvert_exporter": "python",
   "pygments_lexer": "ipython2",
   "version": "2.7.6"
  },
  "pycharm": {
   "stem_cell": {
    "cell_type": "raw",
    "source": [],
    "metadata": {
     "collapsed": false
    }
   }
  }
 },
 "nbformat": 4,
 "nbformat_minor": 0
}