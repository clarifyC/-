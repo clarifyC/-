{
 "cells": [
  {
   "cell_type": "code",
   "execution_count": 1,
   "metadata": {
    "collapsed": true,
    "pycharm": {
     "is_executing": false
    }
   },
   "outputs": [],
   "source": [
    "'''\n",
    "测试\n",
    "pandas的json读取\n",
    "'''\n",
    "import pandas as pd\n",
    "info_filename = r\"E:\\pycharm files\\爬虫\\房天下二手房定价模型\\data\\data3000.json\"\n",
    "df = pd.read_json(info_filename)"
   ]
  },
  {
   "cell_type": "code",
   "execution_count": 8,
   "outputs": [
    {
     "name": "stdout",
     "text": [
      "{'别墅', '住宅'}\n"
     ],
     "output_type": "stream"
    }
   ],
   "source": [
    "# 查看物业类型属性\n",
    "print(set(df['物业类型']))\n",
    "\n",
    "df1 = df.iloc[,:]"
   ],
   "metadata": {
    "collapsed": false,
    "pycharm": {
     "name": "#%%\n",
     "is_executing": false
    }
   }
  },
  {
   "cell_type": "code",
   "execution_count": 88,
   "outputs": [
    {
     "name": "stdout",
     "text": [
      "<class 'pandas.core.frame.DataFrame'>\n",
      "RangeIndex: 2985 entries, 0 to 2984\n",
      "Data columns (total 49 columns):\n",
      " #   Column      Non-Null Count  Dtype  \n",
      "---  ------      --------------  -----  \n",
      " 0   url         2985 non-null   object \n",
      " 1   标题          2985 non-null   object \n",
      " 2   地址          2985 non-null   object \n",
      " 3   优势1         2985 non-null   object \n",
      " 4   优势2         2985 non-null   object \n",
      " 5   优势3         2985 non-null   object \n",
      " 6   总价          2985 non-null   float64\n",
      " 7   户型          2985 non-null   object \n",
      " 8   建筑面积        2985 non-null   object \n",
      " 9   单价          2985 non-null   object \n",
      " 10  朝向          2975 non-null   object \n",
      " 11  装修          2975 non-null   object \n",
      " 12  楼层层次        2975 non-null   object \n",
      " 13  总楼层         2975 non-null   float64\n",
      " 14  ID          2985 non-null   int64  \n",
      " 15  小区          2985 non-null   object \n",
      " 16  区域          2985 non-null   object \n",
      " 17  有无电梯        2975 non-null   object \n",
      " 18  产权性质        2960 non-null   object \n",
      " 19  住宅类别        1228 non-null   object \n",
      " 20  建筑结构        1226 non-null   object \n",
      " 21  建筑类别        1228 non-null   object \n",
      " 22  挂牌时间        2985 non-null   object \n",
      " 23  参考均价        2985 non-null   object \n",
      " 24  同比去年        2985 non-null   object \n",
      " 25  环比上月        2985 non-null   object \n",
      " 26  挂牌房源        2584 non-null   object \n",
      " 27  物业类型        2985 non-null   object \n",
      " 28  物业费用        2892 non-null   object \n",
      " 29  建筑类型        2974 non-null   object \n",
      " 30  建筑年代        2985 non-null   object \n",
      " 31  绿  化  率     2964 non-null   object \n",
      " 32  容  积  率     2964 non-null   float64\n",
      " 33  人车分流        2985 non-null   object \n",
      " 34  总楼栋数        2985 non-null   int64  \n",
      " 35  总  户  数     2984 non-null   float64\n",
      " 36  产权年限        1657 non-null   object \n",
      " 37  进门朝向        10 non-null     object \n",
      " 38  地上层数（共4层）   3 non-null      object \n",
      " 39  装修程度        10 non-null     object \n",
      " 40  建筑形式        9 non-null      object \n",
      " 41  厅结构         9 non-null      object \n",
      " 42  车库数量        6 non-null      float64\n",
      " 43  车位数量        6 non-null      object \n",
      " 44  地上层数（共3层）   5 non-null      object \n",
      " 45  花园面积        5 non-null      object \n",
      " 46  地下室面积       5 non-null      object \n",
      " 47  地上层数（共1层）   1 non-null      object \n",
      " 48  地上层数（共33层）  1 non-null      object \n",
      "dtypes: float64(5), int64(2), object(42)\n",
      "memory usage: 1.1+ MB\n"
     ],
     "output_type": "stream"
    }
   ],
   "source": [
    "# 查看多少属性后是别墅属性，删除别墅属性\n",
    "import numpy as np\n",
    "\n",
    "df.info()\n",
    "df1 = df.iloc[:,0:37]"
   ],
   "metadata": {
    "collapsed": false,
    "pycharm": {
     "name": "#%%\n",
     "is_executing": false
    }
   }
  },
  {
   "cell_type": "code",
   "execution_count": 163,
   "outputs": [],
   "source": [
    "'''\n",
    "处理户型属性：\n",
    "将四室两厅两卫 拆分为 卧室4 客厅2 卫生间2\n",
    "'''\n",
    "import re\n",
    "record_size = len(df1)\n",
    "zeros_array = np.zeros((record_size,3))\n",
    "# 户型df\n",
    "df_houseType = pd.DataFrame(zeros_array,columns=['卧室','客厅','卫生间'])\n",
    "\n",
    "# map函数\n",
    "def split_houseType(x):\n",
    "    numbers = re.findall(r'\\d+', x)\n",
    "    if(numbers==[]):\n",
    "        return [0,0,0]\n",
    "    return numbers\n",
    "\n",
    "series_houseType = df1[\"户型\"].map(lambda x:split_houseType(x))\n",
    "for i in range(record_size):\n",
    "    df_houseType.iloc[i,0] = int(series_houseType[i][0])\n",
    "    df_houseType.iloc[i,1] = int(series_houseType[i][1])\n",
    "    df_houseType.iloc[i,2] = int(series_houseType[i][2])\n",
    "\n",
    "df2 = pd.concat([df1,df_houseType],axis=1)"
   ],
   "metadata": {
    "collapsed": false,
    "pycharm": {
     "name": "#%%\n",
     "is_executing": false
    }
   }
  },
  {
   "cell_type": "code",
   "execution_count": 164,
   "outputs": [
    {
     "name": "stdout",
     "text": [
      "21\n",
      "21\n",
      "93\n",
      "1328\n",
      "0\n"
     ],
     "output_type": "stream"
    }
   ],
   "source": [
    "# value_counts()`：计算Series中每个值的出现次数。\n",
    "print(df2['容  积  率'].isna().sum())\n",
    "print(df2['绿  化  率'].isna().sum())\n",
    "print(df2['物业费用'].isna().sum())\n",
    "print(df2['产权年限'].isna().sum())\n",
    "print(df2['人车分流'].isna().sum())\n"
   ],
   "metadata": {
    "collapsed": false,
    "pycharm": {
     "name": "#%%\n",
     "is_executing": false
    }
   }
  },
  {
   "cell_type": "code",
   "execution_count": 165,
   "outputs": [],
   "source": [
    "# 产权年限提取数字\n",
    "df2['产权年限'] = df2['产权年限'].fillna('70')\n",
    "df2['产权年限'] = df2['产权年限'].map(lambda x:int(x[0:2]))"
   ],
   "metadata": {
    "collapsed": false,
    "pycharm": {
     "name": "#%%\n",
     "is_executing": false
    }
   }
  },
  {
   "cell_type": "code",
   "execution_count": 166,
   "outputs": [],
   "source": [
    "# 人车分流转为0-1\n",
    "dic_map = {'无':0,'有':1}\n",
    "df2['人车分流'] = df2['人车分流'].map(dic_map)"
   ],
   "metadata": {
    "collapsed": false,
    "pycharm": {
     "name": "#%%\n",
     "is_executing": false
    }
   }
  },
  {
   "cell_type": "code",
   "execution_count": 167,
   "outputs": [
    {
     "name": "stdout",
     "text": [
      "30%       930\n",
      "35%       349\n",
      "40%       225\n",
      "20%       161\n",
      "45%        98\n",
      "         ... \n",
      "31.2%       1\n",
      "40.1%       1\n",
      "32.17%      1\n",
      "41.8%       1\n",
      "30.2%       1\n",
      "Name: 绿  化  率, Length: 97, dtype: int64\n"
     ],
     "output_type": "stream"
    }
   ],
   "source": [
    "def clean_green(x):\n",
    "    numbers = re.findall(r'\\d+', x)\n",
    "    return int(numbers[0])\n",
    "print(df2['绿  化  率'].value_counts()[0])\n",
    "idx_nan = df2['绿  化  率'].isna()\n",
    "df2['绿  化  率'] = df2['绿  化  率'].fillna(\"30%\")\n",
    "df2['绿  化  率'] = df2['绿  化  率'].map(lambda x:clean_green(x))"
   ],
   "metadata": {
    "collapsed": false,
    "pycharm": {
     "name": "#%%\n",
     "is_executing": false
    }
   }
  },
  {
   "cell_type": "code",
   "execution_count": 176,
   "outputs": [
    {
     "name": "stdout",
     "text": [
      "30\n"
     ],
     "output_type": "stream"
    }
   ],
   "source": [
    "\n",
    "print(df2['绿  化  率'].value_counts().index[0])"
   ],
   "metadata": {
    "collapsed": false,
    "pycharm": {
     "name": "#%%\n",
     "is_executing": false
    }
   }
  }
 ],
 "metadata": {
  "kernelspec": {
   "name": "pycharm-3829732f",
   "language": "python",
   "display_name": "PyCharm (Datamining)"
  },
  "language_info": {
   "codemirror_mode": {
    "name": "ipython",
    "version": 2
   },
   "file_extension": ".py",
   "mimetype": "text/x-python",
   "name": "python",
   "nbconvert_exporter": "python",
   "pygments_lexer": "ipython2",
   "version": "2.7.6"
  },
  "pycharm": {
   "stem_cell": {
    "cell_type": "raw",
    "source": [],
    "metadata": {
     "collapsed": false
    }
   }
  }
 },
 "nbformat": 4,
 "nbformat_minor": 0
}