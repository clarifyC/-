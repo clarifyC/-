{
 "cells": [
  {
   "cell_type": "code",
   "execution_count": 1,
   "metadata": {
    "collapsed": true,
    "pycharm": {
     "is_executing": false
    }
   },
   "outputs": [
    {
     "name": "stdout",
     "text": [
      "------------------------------\n",
      "120.639425,31.221665\n"
     ],
     "output_type": "stream"
    },
    {
     "data": {
      "text/plain": "'120.639425,31.221665'"
     },
     "metadata": {},
     "output_type": "execute_result",
     "execution_count": 1
    }
   ],
   "source": [
    "\n",
    "\n",
    "import pandas as pd\n",
    "import requests\n",
    "import time\n",
    "import csv\n",
    "import json\n",
    " \n",
    "def gaode(addr):\n",
    "        para = {\n",
    "            'key':'5541c94cdee83899dcc0477092eeaf91',  #高德地图开放平台申请的key\n",
    "            'address':addr #传入地址参数\n",
    "        }\n",
    "        url = 'https://restapi.amap.com/v3/geocode/geo?' #高德地图API接口\n",
    "        req = requests.get(url,para)\n",
    "        req = req.json()\n",
    "        print('-' * 30)\n",
    "        m = req['geocodes'][0]['location']\n",
    "        print(m)\n",
    "        return m\n",
    "\n",
    "gaode(addr=\"江苏省苏州市吴江区香漫雅园\")\n"
   ]
  },
  {
   "cell_type": "code",
   "execution_count": 2,
   "outputs": [
    {
     "name": "stdout",
     "text": [
      "------------------------------\n",
      "江苏省苏州市吴江区江陵街道兴吴路1105号香漫雅园\n"
     ],
     "output_type": "stream"
    },
    {
     "data": {
      "text/plain": "'江苏省苏州市吴江区江陵街道兴吴路1105号香漫雅园'"
     },
     "metadata": {},
     "output_type": "execute_result",
     "execution_count": 2
    }
   ],
   "source": [
    "def ngaode(location):\n",
    "        para = {\n",
    "            'key':'5541c94cdee83899dcc0477092eeaf91',  #高德地图开放平台申请的key\n",
    "            'location':location #传入地址参数\n",
    "        }\n",
    "        url = 'https://restapi.amap.com/v3/geocode/regeo?' #高德地图API接口\n",
    "        req = requests.get(url,para)\n",
    "        req = req.json()\n",
    "        print('-' * 30)\n",
    "        m = req['regeocode']['formatted_address']\n",
    "        print(m)\n",
    "        return m\n",
    "\n",
    "ngaode('120.639425,31.221665')"
   ],
   "metadata": {
    "collapsed": false,
    "pycharm": {
     "name": "#%%\n",
     "is_executing": false
    }
   }
  },
  {
   "cell_type": "code",
   "execution_count": 68,
   "outputs": [],
   "source": [
    "import pandas as pd\n",
    "info_filename = r\"E:\\pycharm files\\housing_pricing_model\\data\\经纬度信息.csv\"\n",
    "df = pd.read_csv(info_filename)"
   ],
   "metadata": {
    "collapsed": false,
    "pycharm": {
     "name": "#%%\n",
     "is_executing": false
    }
   }
  },
  {
   "cell_type": "code",
   "execution_count": 69,
   "outputs": [
    {
     "name": "stdout",
     "text": [
      "0          江苏省无锡市锡山区东璟家园\n",
      "1          江苏省无锡市滨湖区凤屿山河\n",
      "2          江苏省无锡市梁溪区广益星苑\n",
      "3         江苏省无锡市梁溪区古运五爱苑\n",
      "4         江苏省无锡市梁溪区宁海里一期\n",
      "              ...       \n",
      "2970       江苏省无锡市梁溪区塔影二村\n",
      "2971    江苏省无锡市北塘区常发欧风新天地\n",
      "2972       江苏省无锡市梁溪区芦村家园\n",
      "2973     江苏省无锡市滨湖区印象湖滨路劲\n",
      "2974      江苏省无锡市梁溪区五河四小区\n",
      "Name: 小区, Length: 2975, dtype: object\n",
      "0                     江苏省无锡市锡山区柏庄-新明西路2号\n",
      "1              江苏省无锡市滨湖区荣巷-渔港路与听涛路交叉口东南侧\n",
      "2               江苏省无锡市梁溪区广益-广益路与江海东路的交叉口\n",
      "3            江苏省无锡市梁溪区清扬版块-化肥桥通阳路与新光路交叉口\n",
      "4       江苏省无锡市梁溪区学前东路-学前东路和江海高架交汇处华东商贸城旁\n",
      "                      ...               \n",
      "2970          江苏省无锡市梁溪区上马墩-上马墩路上(靖海医院附近)\n",
      "2971                 江苏省无锡市北塘区江尖公园-霞美路1号\n",
      "2972                  江苏省无锡市梁溪区中桥-中南路29号\n",
      "2973               江苏省无锡市滨湖区蠡湖新城区-印象湖滨路劲\n",
      "2974                江苏省无锡市梁溪区民丰-五河新村453号\n",
      "Name: 地址, Length: 2975, dtype: object\n"
     ],
     "output_type": "stream"
    }
   ],
   "source": [
    "print(df.loc[:,'小区'])\n",
    "print(df.loc[:,'地址'])"
   ],
   "metadata": {
    "collapsed": false,
    "pycharm": {
     "name": "#%%\n",
     "is_executing": false
    }
   }
  },
  {
   "cell_type": "code",
   "execution_count": 87,
   "outputs": [
    {
     "name": "stdout",
     "text": [
      "江苏省无锡市滨湖区栖庭\n",
      "江苏省无锡市滨湖区体育中心-湖滨路与太湖大道交叉口东北侧\n",
      "https://wuxi.esf.fang.com/chushou/3_172859476.htm\n",
      "------------------------------\n",
      "120.271750,31.470483\n",
      "------------------------------\n",
      "120.291951,31.543339\n"
     ],
     "output_type": "stream"
    }
   ],
   "source": [
    "i = 65\n",
    "print(df.loc[i,'小区'])\n",
    "print(df.loc[i,'地址'])\n",
    "print(df.loc[i,'url'])\n",
    "xiaoqu = df.loc[i,'小区']\n",
    "addr = df.loc[i,'地址']\n",
    "a = gaode(addr=xiaoqu)\n",
    "b = gaode(addr=addr)"
   ],
   "metadata": {
    "collapsed": false,
    "pycharm": {
     "name": "#%%\n",
     "is_executing": false
    }
   }
  },
  {
   "cell_type": "code",
   "execution_count": 88,
   "outputs": [
    {
     "name": "stdout",
     "text": [
      "------------------------------\n",
      "江苏省无锡市滨湖区雪浪街道锦溪道89号山水城电子商务产业园\n",
      "------------------------------\n",
      "江苏省无锡市梁溪区扬名街道金星大厦\n"
     ],
     "output_type": "stream"
    },
    {
     "data": {
      "text/plain": "'江苏省无锡市梁溪区扬名街道金星大厦'"
     },
     "metadata": {},
     "output_type": "execute_result",
     "execution_count": 88
    }
   ],
   "source": [
    "ngaode(a)\n",
    "ngaode(b)\n",
    "# 120.271750,31.470483\n",
    "# "
   ],
   "metadata": {
    "collapsed": false,
    "pycharm": {
     "name": "#%%\n",
     "is_executing": false
    }
   }
  },
  {
   "cell_type": "code",
   "execution_count": 59,
   "outputs": [
    {
     "name": "stdout",
     "text": [
      "------------------------------\n",
      "江苏省无锡市江阴市新桥镇G4221沪武高速\n"
     ],
     "output_type": "stream"
    },
    {
     "data": {
      "text/plain": "'江苏省无锡市江阴市新桥镇G4221沪武高速'"
     },
     "metadata": {},
     "output_type": "execute_result",
     "execution_count": 59
    }
   ],
   "source": [
    "c = '120.49149,31.80803'\n",
    "ngaode(c)\n"
   ],
   "metadata": {
    "collapsed": false,
    "pycharm": {
     "name": "#%%\n",
     "is_executing": false
    }
   }
  },
  {
   "cell_type": "code",
   "execution_count": 77,
   "outputs": [
    {
     "name": "stdout",
     "text": [
      "------------------------------\n",
      "120.299898,31.571118\n",
      "------------------------------\n",
      "江苏省无锡市梁溪区崇安寺街道睦亲坊巷36号和园\n"
     ],
     "output_type": "stream"
    },
    {
     "data": {
      "text/plain": "'江苏省无锡市梁溪区崇安寺街道睦亲坊巷36号和园'"
     },
     "metadata": {},
     "output_type": "execute_result",
     "execution_count": 77
    }
   ],
   "source": [
    "a = gaode(addr='江苏省无锡市梁溪区崇安寺街道学前街和园')\n",
    "ngaode(a)"
   ],
   "metadata": {
    "collapsed": false,
    "pycharm": {
     "name": "#%%\n",
     "is_executing": false
    }
   }
  },
  {
   "cell_type": "code",
   "execution_count": 89,
   "outputs": [
    {
     "name": "stdout",
     "text": [
      "------------------------------\n",
      "120.283808,31.544178\n",
      "------------------------------\n",
      "江苏省无锡市滨湖区河埒街道稻香路太湖新城\n"
     ],
     "output_type": "stream"
    },
    {
     "data": {
      "text/plain": "'江苏省无锡市滨湖区河埒街道稻香路太湖新城'"
     },
     "metadata": {},
     "output_type": "execute_result",
     "execution_count": 89
    }
   ],
   "source": [
    "a = gaode(addr='江苏省无锡市滨湖区湖滨路与稻香路交叉口东南160米')\n",
    "ngaode(a)"
   ],
   "metadata": {
    "collapsed": false,
    "pycharm": {
     "name": "#%%\n",
     "is_executing": false
    }
   }
  },
  {
   "cell_type": "code",
   "execution_count": 94,
   "outputs": [
    {
     "name": "stdout",
     "text": [
      "------------------------------\n",
      "{'status': 211, 'message': 'APP SN校验失败'}\n"
     ],
     "output_type": "stream"
    },
    {
     "data": {
      "text/plain": "{'status': 211, 'message': 'APP SN校验失败'}"
     },
     "metadata": {},
     "output_type": "execute_result",
     "execution_count": 94
    }
   ],
   "source": [
    "\n",
    "\n",
    "import pandas as pd\n",
    "import requests\n",
    "import time\n",
    "import csv\n",
    "import json\n",
    "\n",
    "def baidu(addr):\n",
    "    url = \"http://api.map.baidu.com/geocoding/v3/?\" #百度地图API接口\n",
    "    para = {\n",
    "        \"address\": addr, #传入地址参数\n",
    "        \"output\": \"json\",\n",
    "        \"ak\": \"bQyGdjbdSvTfubDKsEbQ6MPKCbLFfAae\" #百度地图开放平台申请ak\n",
    "    }\n",
    "    req = requests.get(url,para)\n",
    "    req = req.json()\n",
    "    #print(req)\n",
    "    print('-' * 30)\n",
    "    # m = req[\"result\"][\"location\"]\n",
    "    print(req)\n",
    "    # g = f\"{m['lng']},{m['lat']}\"\n",
    "    # print(g)\n",
    "    return req\n",
    "\n",
    "baidu(addr=\"江苏省无锡市滨湖区栖庭|\")"
   ],
   "metadata": {
    "collapsed": false,
    "pycharm": {
     "name": "#%%\n",
     "is_executing": false
    }
   }
  },
  {
   "cell_type": "code",
   "execution_count": null,
   "outputs": [],
   "source": [
    "\n"
   ],
   "metadata": {
    "collapsed": false,
    "pycharm": {
     "name": "#%%\n"
    }
   }
  }
 ],
 "metadata": {
  "kernelspec": {
   "name": "pycharm-3829732f",
   "language": "python",
   "display_name": "PyCharm (Datamining)"
  },
  "language_info": {
   "codemirror_mode": {
    "name": "ipython",
    "version": 2
   },
   "file_extension": ".py",
   "mimetype": "text/x-python",
   "name": "python",
   "nbconvert_exporter": "python",
   "pygments_lexer": "ipython2",
   "version": "2.7.6"
  },
  "pycharm": {
   "stem_cell": {
    "cell_type": "raw",
    "source": [],
    "metadata": {
     "collapsed": false
    }
   }
  }
 },
 "nbformat": 4,
 "nbformat_minor": 0
}