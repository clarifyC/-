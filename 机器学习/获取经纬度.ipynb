{
 "cells": [
  {
   "cell_type": "code",
   "execution_count": 1,
   "outputs": [],
   "source": [
    "import pandas as pd\n",
    "info_filename = r\"E:\\pycharm files\\housing_pricing_model\\data\\经纬度信息.csv\"\n",
    "df = pd.read_csv(info_filename)"
   ],
   "metadata": {
    "collapsed": false,
    "pycharm": {
     "name": "#%%\n",
     "is_executing": false
    }
   }
  },
  {
   "cell_type": "code",
   "execution_count": 3,
   "outputs": [
    {
     "data": {
      "text/plain": "[120.639425, 31.221665]"
     },
     "metadata": {},
     "output_type": "execute_result",
     "execution_count": 3
    }
   ],
   "source": [
    "import requests\n",
    "\n",
    "def gaode(addr):\n",
    "        para = {\n",
    "            'key':'5541c94cdee83899dcc0477092eeaf91',  #高德地图开放平台申请的key\n",
    "            'address':addr #传入地址参数\n",
    "        }\n",
    "        url = 'https://restapi.amap.com/v3/geocode/geo?' #高德地图API接口\n",
    "        req = requests.get(url,para)\n",
    "        req = req.json()\n",
    "        m = req['geocodes'][0]['location']\n",
    "        a = m.split(',')\n",
    "        a = list(map(float,a))\n",
    "        return a\n",
    "\n",
    "gaode(addr=\"江苏省苏州市吴江区香漫雅园\")"
   ],
   "metadata": {
    "collapsed": false,
    "pycharm": {
     "name": "#%%\n",
     "is_executing": false
    }
   }
  },
  {
   "cell_type": "code",
   "execution_count": 5,
   "outputs": [
    {
     "name": "stdout",
     "text": [
      "over\n"
     ],
     "output_type": "stream"
    }
   ],
   "source": [
    "'''\n",
    "怼高德接口，获取小区所在的经纬度\n",
    "'''\n",
    "\n",
    "import pandas as pd\n",
    "import numpy as np\n",
    "\n",
    "zeros_array = np.zeros((len(df),2))\n",
    "df_jw = pd.DataFrame(zeros_array,columns=[\"经度\",\"纬度\"])\n",
    "for i in range(len(df)):\n",
    "    addr = df.loc[i,\"小区\"]\n",
    "    jw = gaode(addr)\n",
    "    df_jw.loc[i,\"经度\"] = jw[0]\n",
    "    df_jw.loc[i,\"纬度\"] = jw[1]\n",
    "print(\"over\")"
   ],
   "metadata": {
    "collapsed": false,
    "pycharm": {
     "name": "#%%\n",
     "is_executing": false
    }
   }
  },
  {
   "cell_type": "code",
   "execution_count": 10,
   "outputs": [],
   "source": [
    "\n",
    "df_jw.to_csv(r\"E:\\pycharm files\\housing_pricing_model\\data\\jw.csv\",index=False)"
   ],
   "metadata": {
    "collapsed": false,
    "pycharm": {
     "name": "#%%\n",
     "is_executing": false
    }
   }
  },
  {
   "cell_type": "code",
   "execution_count": null,
   "outputs": [],
   "source": [],
   "metadata": {
    "collapsed": false,
    "pycharm": {
     "name": "#%%\n"
    }
   }
  }
 ],
 "metadata": {
  "kernelspec": {
   "name": "pycharm-3829732f",
   "language": "python",
   "display_name": "PyCharm (Datamining)"
  },
  "language_info": {
   "codemirror_mode": {
    "name": "ipython",
    "version": 2
   },
   "file_extension": ".py",
   "mimetype": "text/x-python",
   "name": "python",
   "nbconvert_exporter": "python",
   "pygments_lexer": "ipython2",
   "version": "2.7.6"
  },
  "pycharm": {
   "stem_cell": {
    "cell_type": "raw",
    "source": [],
    "metadata": {
     "collapsed": false
    }
   }
  }
 },
 "nbformat": 4,
 "nbformat_minor": 0
}