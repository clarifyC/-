{
 "cells": [
  {
   "cell_type": "code",
   "execution_count": 1,
   "metadata": {
    "collapsed": true,
    "pycharm": {
     "is_executing": false
    }
   },
   "outputs": [],
   "source": [
    "import pandas as pd\n",
    "info_filename1 = r\"E:\\pycharm files\\housing_pricing_model\\data\\train_data.csv\"\n",
    "info_filename2 = r\"E:\\pycharm files\\housing_pricing_model\\data\\jw.csv\"\n",
    "df_data = pd.read_csv(info_filename1,encoding=\"gbk\")\n",
    "df_jw = pd.read_csv(info_filename2,encoding=\"utf-8\")\n",
    "df_data = df_data.iloc[:,1:53]\n",
    "df = pd.concat([df_data,df_jw],axis=1)\n"
   ]
  },
  {
   "cell_type": "code",
   "execution_count": 2,
   "outputs": [],
   "source": [
    "i = len(df.columns)\n",
    "df_X = df.iloc[:,1:i]\n",
    "df_y = df.iloc[:,[0]]"
   ],
   "metadata": {
    "collapsed": false,
    "pycharm": {
     "name": "#%%\n",
     "is_executing": false
    }
   }
  },
  {
   "cell_type": "code",
   "execution_count": 3,
   "outputs": [],
   "source": [
    "from sklearn.preprocessing import StandardScaler\n",
    "from sklearn.preprocessing import MinMaxScaler\n",
    "\n",
    "def scalerXY(df_X,df_y):\n",
    "    scalerX = StandardScaler()\n",
    "    scalery = MinMaxScaler()\n",
    "    \n",
    "    df_scaledX = pd.DataFrame(scalerX.fit_transform(df_X), columns=df_X.columns)\n",
    "    df_scaledy = pd.DataFrame(scalery.fit_transform(df_y), columns=df_y.columns)\n",
    "    \n",
    "    df_scaledy = df_scaledy *0.98+0.01\n",
    "    df_scaledX = df_scaledX*0.98+0.01\n",
    "    \n",
    "    return (scalerX,scalery,df_scaledX,df_scaledy)\n"
   ],
   "metadata": {
    "collapsed": false,
    "pycharm": {
     "name": "#%%\n",
     "is_executing": false
    }
   }
  },
  {
   "cell_type": "code",
   "execution_count": 6,
   "outputs": [
    {
     "data": {
      "text/plain": "<Figure size 432x288 with 1 Axes>",
      "image/png": "[encoded data removed]"
     },
     "metadata": {},
     "output_type": "display_data"
    }
   ],
   "source": [
    "import matplotlib.pyplot as plt\n",
    "import numpy as np\n",
    "import matplotlib.style as style\n",
    "style.use('ggplot')\n",
    "\n",
    "# 生成一组随机数据\n",
    "data = df_y\n",
    "\n",
    "# 绘制概率密度图\n",
    "plt.hist(data, bins=30, density=True, alpha=0.5, color='blue')\n",
    "\n",
    "# 添加标题和标签\n",
    "plt.title(\"Probability Density Histogram\")\n",
    "plt.xlabel(\"Value\")\n",
    "plt.ylabel(\"Probability Density\")\n",
    "\n",
    "# 显示图形\n",
    "plt.show()"
   ],
   "metadata": {
    "collapsed": false,
    "pycharm": {
     "name": "#%%\n",
     "is_executing": false
    }
   }
  },
  {
   "cell_type": "code",
   "execution_count": null,
   "outputs": [],
   "source": [
    "\n"
   ],
   "metadata": {
    "collapsed": false,
    "pycharm": {
     "name": "#%%\n"
    }
   }
  }
 ],
 "metadata": {
  "kernelspec": {
   "name": "pycharm-3829732f",
   "language": "python",
   "display_name": "PyCharm (Datamining)"
  },
  "language_info": {
   "codemirror_mode": {
    "name": "ipython",
    "version": 2
   },
   "file_extension": ".py",
   "mimetype": "text/x-python",
   "name": "python",
   "nbconvert_exporter": "python",
   "pygments_lexer": "ipython2",
   "version": "2.7.6"
  },
  "pycharm": {
   "stem_cell": {
    "cell_type": "raw",
    "source": [],
    "metadata": {
     "collapsed": false
    }
   }
  }
 },
 "nbformat": 4,
 "nbformat_minor": 0
}