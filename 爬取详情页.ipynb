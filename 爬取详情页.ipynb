{
 "cells": [
  {
   "cell_type": "code",
   "execution_count": 23,
   "outputs": [],
   "source": [
    "'''\n",
    "获取url中的html字符串\n",
    "@:param url链接\n",
    "@:return html字符串\n",
    "'''\n",
    "import requests\n",
    "def getHTML(url):\n",
    "    headers = {\n",
    "    \"Referer\":\"http://search.fang.com/\",\n",
    "    'User-Agent':'Mozilla/5.0 (Windows NT 10.0; Win64; x64) AppleWebKit/537.36 (KHTML, like Gecko) Chrome/115.0.0.0 Safari/537.36 Edg/115.0.1901.183',\n",
    "    'Cookie':'global_cookie=f4z9z063jq34o28vxq52eephp1cljskp536; SKHRecordswuxi=%E6%80%A5%E5%94%AE%7C%5E%4D%6F%6E%20%4A%75%6C%20%33%31%20%32%30%32%33%20%31%36%3A%34%35%3A%32%33%20%47%4D%54%2B%30%38%30%30%20%28%43%68%69%6E%61%20%53%74%61%6E%64%61%72%64%20%54%69%6D%65%29%7C%5E%30%7C%23%E6%80%A5%E5%94%AE%E6%A2%85%E6%9D%91%E5%8F%A3%E4%B8%87%E7%A7%91%E6%B8%A0%E9%81%93%E6%B8%85%E9%80%80%E4%B8%80%E5%A5%97%E7%89%B9%E4%BB%B7%E4%B8%89%E6%88%BF%E4%B8%A4%E5%8D%AB%7C%5E%4D%6F%6E%20%4A%75%6C%20%33%31%20%32%30%32%33%20%31%36%3A%34%35%3A%33%36%20%47%4D%54%2B%30%38%30%30%20%28%43%68%69%6E%61%20%53%74%61%6E%64%61%72%64%20%54%69%6D%65%29%7C%5E%30%7C%23%E7%9C%81%E9%94%A1%E4%B8%AD%20%E6%83%A0%E5%B1%B1%E6%B9%BF%E5%9C%B0%E5%85%AC%E5%9B%AD%E6%97%81%20%E7%BA%AF%E6%AF%9B%E5%9D%AF%33%E6%88%BF%20%E6%88%BF%E4%B8%9C%E4%BA%8F%E6%9C%AC%E5%8D%96%7C%5E%4D%6F%6E%20%4A%75%6C%20%33%31%20%32%30%32%33%20%31%37%3A%31%32%3A%31%31%20%47%4D%54%2B%30%38%30%30%20%28%43%68%69%6E%61%20%53%74%61%6E%64%61%72%64%20%54%69%6D%65%29%7C%5E%30%7C%23%E5%90%89%E5%AE%9D%E5%87%8C%E4%BA%91%E5%B3%B0%E9%98%81%E5%9C%86%E8%9E%8D%E5%B9%BF%E5%9C%BA%E6%97%81%32%31%30%E4%B8%87%E7%BB%BF%E5%9F%8E%E7%89%A9%E4%B8%9A%E7%8E%B0%E6%88%BF%E7%B2%BE%E8%A3%85%E4%BF%AE%7C%5E%4D%6F%6E%20%4A%75%6C%20%33%31%20%32%30%32%33%20%31%37%3A%31%32%3A%34%32%20%47%4D%54%2B%30%38%30%30%20%28%43%68%69%6E%61%20%53%74%61%6E%64%61%72%64%20%54%69%6D%65%29%7C%5E%30%7C%23%E4%B8%AD%E5%9F%8E%E8%AA%89%E5%93%81%20%32%31%37%E5%B9%B3%20%35%E5%B1%85%E5%A4%A7%E5%A4%8D%E5%BC%8F%20%E5%8D%97%E5%8C%97%E5%90%91%E6%AF%9B%E5%9D%AF%20%E9%9A%8F%E6%97%B6%E7%AD%BE%E7%BA%A6%20%E9%87%91%E5%9C%B0%E5%8D%8E%7C%5E%4D%6F%6E%20%4A%75%6C%20%33%31%20%32%30%32%33%20%31%38%3A%31%31%3A%33%31%20%47%4D%54%2B%30%38%30%30%20%28%43%68%69%6E%61%20%53%74%61%6E%64%61%72%64%20%54%69%6D%65%29%7C%5E%30; SKHRecordswuxi.sig=XlYJynOcIqGI42WDX9qv9BXDwIs_Wb68DP-DRYv37as; global_wapandm_cookie=we0718fk57wrx38wid57fnksa2flkwe6x6l; __utmc=147393320; csrfToken=_czNELkzNKLJ4auxj3ioOFZV; city=wuxi; g_sourcepage=esf_fy%5Exq_pc; unique_cookie=U_t19xfi4ovmq5wdlpi1fik2pfm1wlky8vv71*6; __utma=147393320.564282534.1688734407.1691253870.1691256494.18; __utmz=147393320.1691256494.18.17.utmcsr=search.fang.com|utmccn=(referral)|utmcmd=referral|utmcct=/; __utmt_t0=1; __utmt_t1=1; __utmt_t2=1; __utmb=147393320.3.10.1691256494'\n",
    "    }\n",
    "    resp = requests.get(url,headers=headers)\n",
    "    html_str = resp.text\n",
    "    return html_str"
   ],
   "metadata": {
    "collapsed": false,
    "pycharm": {
     "name": "#%%\n",
     "is_executing": false
    }
   }
  },
  {
   "cell_type": "code",
   "execution_count": 70,
   "outputs": [
    {
     "name": "stdout",
     "text": [
      "{'url1': '/chushou/3_172816596.htm', '标题': '豪装边套2房,南北通透,全明户型,房东换房急售,看房方便', '总价': '106', '均价': '11620元/㎡', '户型': '2室2厅', '面积': '91.22㎡', '楼层': '高层', '总楼层': '（共33层）', '朝向': '南北向', '建筑年代': '', '小区': '东璟家园', '地址': '柏庄-新明西路2号', '优势1': '满二', '优势2': [], '优势3': []}\n"
     ],
     "output_type": "stream"
    }
   ],
   "source": [
    "'''\n",
    "测试\n",
    "载入json数据\n",
    "'''\n",
    "import json\n",
    "\n",
    "info_file = r\"E:\\pycharm files\\爬虫\\房天下二手房定价模型\\data\\sketchy_info.json\"\n",
    "with open(info_file,'r') as f:\n",
    "    json_str = f.read()\n",
    "\n",
    "# print(json_str)\n",
    "json_data = json.loads(json_str)\n",
    "print(json_data[1])\n",
    "# https://wuxi.esf.fang.com/chushou/3_172891335.htm"
   ],
   "metadata": {
    "collapsed": false,
    "pycharm": {
     "name": "#%%\n",
     "is_executing": false
    }
   }
  },
  {
   "cell_type": "code",
   "execution_count": 17,
   "outputs": [],
   "source": [
    "'''\n",
    "测试\n",
    "pandas的json读取\n",
    "'''\n",
    "import pandas as pd\n",
    "\n",
    "df = pd.read_json(info_file)"
   ],
   "metadata": {
    "collapsed": false,
    "pycharm": {
     "name": "#%%\n",
     "is_executing": false
    }
   }
  },
  {
   "cell_type": "code",
   "execution_count": 76,
   "outputs": [
    {
     "name": "stdout",
     "text": [
      "保存第1000页 138126\n",
      "保存第1001页 159150\n",
      "保存第1002页 161000\n",
      "保存第1003页 141402\n",
      "保存第1004页 152824\n",
      "保存第1005页 142526\n",
      "保存第1006页失败 78266\n",
      "保存第1007页 140419\n",
      "保存第1008页 133485\n",
      "保存第1009页 140773\n",
      "保存第1010页 143934\n",
      "保存第1011页 141546\n",
      "保存第1012页 139791\n",
      "保存第1013页 145370\n",
      "保存第1014页 131168\n",
      "保存第1015页 145427\n",
      "保存第1016页 147573\n",
      "保存第1017页 143962\n",
      "保存第1018页 145142\n",
      "保存第1019页 155745\n",
      "保存第1020页 141284\n",
      "保存第1021页 130715\n",
      "保存第1022页 147695\n",
      "保存第1023页 142422\n",
      "保存第1024页 137888\n",
      "保存第1025页 141827\n",
      "保存第1026页 149441\n",
      "保存第1027页 140240\n",
      "保存第1028页 142499\n",
      "保存第1029页 145406\n",
      "保存第1030页 158255\n",
      "保存第1031页 155146\n",
      "保存第1032页 145053\n",
      "保存第1033页 138940\n",
      "保存第1034页 144131\n",
      "保存第1035页 151686\n",
      "保存第1036页 134927\n",
      "保存第1037页 132086\n",
      "保存第1038页 135333\n",
      "保存第1039页 140321\n",
      "保存第1040页 155811\n",
      "保存第1041页 139536\n",
      "保存第1042页 141867\n",
      "保存第1043页 163687\n",
      "保存第1044页 135778\n",
      "保存第1045页 145571\n",
      "保存第1046页 156970\n",
      "保存第1047页 148933\n",
      "保存第1048页 142701\n",
      "保存第1049页 135036\n",
      "保存第1050页 145329\n",
      "保存第1051页 152550\n",
      "保存第1052页 155517\n",
      "保存第1053页 141253\n",
      "保存第1054页 139384\n",
      "保存第1055页 140282\n",
      "保存第1056页 137184\n",
      "保存第1057页 141496\n",
      "保存第1058页 136296\n",
      "保存第1059页 143354\n",
      "保存第1060页 131586\n",
      "保存第1061页 143473\n",
      "保存第1062页 145115\n",
      "保存第1063页 149884\n",
      "保存第1064页 149300\n",
      "保存第1065页 149841\n",
      "保存第1066页 139639\n",
      "保存第1067页 141082\n",
      "保存第1068页 141699\n",
      "保存第1069页 143421\n",
      "保存第1070页 144812\n",
      "保存第1071页 155343\n",
      "保存第1072页 146397\n",
      "保存第1073页 133485\n",
      "保存第1074页 152680\n",
      "保存第1075页 141171\n",
      "保存第1076页 133928\n",
      "保存第1077页 161905\n",
      "保存第1078页 152823\n",
      "保存第1079页 144089\n",
      "保存第1080页 145659\n",
      "保存第1081页 139461\n",
      "保存第1082页 130387\n",
      "保存第1083页 147119\n",
      "保存第1084页 132582\n",
      "保存第1085页 139115\n",
      "保存第1086页 168659\n",
      "保存第1087页 142888\n",
      "保存第1088页 149052\n",
      "保存第1089页 165232\n",
      "保存第1090页 165897\n",
      "保存第1091页 151900\n",
      "保存第1092页 153446\n",
      "保存第1093页 134074\n",
      "保存第1094页 150610\n",
      "保存第1095页 142911\n",
      "保存第1096页 145520\n",
      "保存第1097页 162408\n",
      "保存第1098页 137497\n",
      "保存第1099页 146271\n",
      "保存第1100页 140152\n",
      "保存第1101页 139159\n",
      "保存第1102页 143501\n",
      "保存第1103页 142634\n",
      "保存第1104页 138835\n",
      "保存第1105页 140537\n",
      "保存第1106页 143438\n",
      "保存第1107页 139517\n",
      "保存第1108页 141844\n",
      "保存第1109页 134666\n",
      "保存第1110页 162273\n",
      "保存第1111页 159970\n",
      "保存第1112页 144924\n",
      "保存第1113页 141298\n",
      "保存第1114页 133176\n",
      "保存第1115页 141251\n",
      "保存第1116页 144408\n",
      "保存第1117页 144848\n",
      "保存第1118页 138821\n",
      "保存第1119页 157271\n",
      "保存第1120页 136987\n",
      "保存第1121页 141484\n",
      "保存第1122页 142079\n",
      "保存第1123页 148080\n",
      "保存第1124页 156338\n",
      "保存第1125页 146786\n",
      "保存第1126页 134815\n",
      "保存第1127页 140903\n",
      "保存第1128页 152681\n",
      "保存第1129页 141900\n",
      "保存第1130页 132564\n",
      "保存第1131页 133623\n",
      "保存第1132页 141481\n",
      "保存第1133页 150150\n",
      "保存第1134页 159490\n",
      "保存第1135页 139225\n",
      "保存第1136页 157073\n",
      "保存第1137页 145317\n",
      "保存第1138页 139449\n",
      "保存第1139页 154197\n",
      "保存第1140页 135809\n",
      "保存第1141页 135467\n",
      "保存第1142页 150749\n",
      "保存第1143页 145614\n",
      "保存第1144页 134844\n",
      "保存第1145页 142374\n",
      "保存第1146页 136347\n",
      "保存第1147页 147026\n",
      "保存第1148页 141125\n",
      "保存第1149页 160164\n",
      "保存第1150页 149169\n",
      "保存第1151页 148265\n",
      "保存第1152页 138030\n",
      "保存第1153页 146582\n",
      "保存第1154页 139016\n",
      "保存第1155页 154009\n",
      "保存第1156页 146757\n",
      "保存第1157页 141478\n",
      "保存第1158页 139679\n",
      "保存第1159页 150287\n",
      "保存第1160页 159074\n",
      "保存第1161页 160127\n",
      "保存第1162页 141903\n",
      "保存第1163页 134913\n",
      "保存第1164页 127644\n",
      "保存第1165页 141252\n",
      "保存第1166页 147480\n",
      "保存第1167页 152924\n",
      "保存第1168页 138911\n",
      "保存第1169页 150334\n",
      "保存第1170页 162064\n",
      "保存第1171页 154492\n",
      "保存第1172页 151837\n",
      "保存第1173页 139434\n",
      "保存第1174页 141738\n",
      "保存第1175页 135688\n",
      "保存第1176页 145458\n",
      "保存第1177页 138557\n",
      "保存第1178页 138048\n",
      "保存第1179页 140570\n",
      "保存第1180页 137361\n",
      "保存第1181页 149799\n",
      "保存第1182页 138285\n",
      "保存第1183页 139691\n",
      "保存第1184页 141173\n",
      "保存第1185页 135828\n",
      "保存第1186页 151840\n",
      "保存第1187页 150559\n",
      "保存第1188页 140451\n",
      "保存第1189页 139877\n",
      "保存第1190页 155585\n",
      "保存第1191页 145131\n",
      "保存第1192页 144096\n",
      "保存第1193页 136343\n",
      "保存第1194页 132000\n",
      "保存第1195页 160166\n",
      "保存第1196页 143343\n",
      "保存第1197页 156456\n",
      "保存第1198页 147326\n",
      "保存第1199页 140600\n",
      "保存第1200页 139240\n",
      "保存第1201页 134941\n"
     ],
     "output_type": "stream"
    },
    {
     "traceback": [
      "\u001b[1;31m---------------------------------------------------------------------------\u001b[0m",
      "\u001b[1;31mKeyboardInterrupt\u001b[0m                         Traceback (most recent call last)",
      "\u001b[1;32m~\\AppData\\Local\\Temp/ipykernel_14460/1014983742.py\u001b[0m in \u001b[0;36m<module>\u001b[1;34m\u001b[0m\n\u001b[0;32m     10\u001b[0m \u001b[1;32mfor\u001b[0m \u001b[0mi\u001b[0m \u001b[1;32min\u001b[0m \u001b[0mrange\u001b[0m\u001b[1;33m(\u001b[0m\u001b[0mstart\u001b[0m\u001b[1;33m,\u001b[0m\u001b[0mend\u001b[0m\u001b[1;33m)\u001b[0m\u001b[1;33m:\u001b[0m\u001b[1;33m\u001b[0m\u001b[1;33m\u001b[0m\u001b[0m\n\u001b[0;32m     11\u001b[0m     \u001b[0murl\u001b[0m \u001b[1;33m=\u001b[0m \u001b[1;34m'https://wuxi.esf.fang.com'\u001b[0m\u001b[1;33m+\u001b[0m\u001b[0mjson_data\u001b[0m\u001b[1;33m[\u001b[0m\u001b[0mi\u001b[0m\u001b[1;33m]\u001b[0m\u001b[1;33m[\u001b[0m\u001b[1;34m'url1'\u001b[0m\u001b[1;33m]\u001b[0m\u001b[1;33m\u001b[0m\u001b[1;33m\u001b[0m\u001b[0m\n\u001b[1;32m---> 12\u001b[1;33m     \u001b[0mhtml_str\u001b[0m \u001b[1;33m=\u001b[0m \u001b[0mgetHTML\u001b[0m\u001b[1;33m(\u001b[0m\u001b[0murl\u001b[0m\u001b[1;33m)\u001b[0m\u001b[1;33m\u001b[0m\u001b[1;33m\u001b[0m\u001b[0m\n\u001b[0m\u001b[0;32m     13\u001b[0m     \u001b[0mfile_name\u001b[0m \u001b[1;33m=\u001b[0m \u001b[1;34mr\"E:\\pycharm files\\爬虫\\房天下二手房定价模型\\data\\详情页\\page\"\u001b[0m\u001b[1;33m+\u001b[0m\u001b[0mstr\u001b[0m\u001b[1;33m(\u001b[0m\u001b[0mi\u001b[0m\u001b[1;33m)\u001b[0m\u001b[1;33m+\u001b[0m\u001b[1;34m\".txt\"\u001b[0m\u001b[1;33m\u001b[0m\u001b[1;33m\u001b[0m\u001b[0m\n\u001b[0;32m     14\u001b[0m     \u001b[1;32mwith\u001b[0m \u001b[0mopen\u001b[0m\u001b[1;33m(\u001b[0m\u001b[0mfile_name\u001b[0m \u001b[1;33m,\u001b[0m\u001b[1;34m'w'\u001b[0m\u001b[1;33m,\u001b[0m\u001b[0mencoding\u001b[0m\u001b[1;33m=\u001b[0m\u001b[1;34m\"utf-8\"\u001b[0m\u001b[1;33m)\u001b[0m \u001b[1;32mas\u001b[0m \u001b[0mf\u001b[0m\u001b[1;33m:\u001b[0m\u001b[1;33m\u001b[0m\u001b[1;33m\u001b[0m\u001b[0m\n",
      "\u001b[1;32m~\\AppData\\Local\\Temp/ipykernel_14460/3864754807.py\u001b[0m in \u001b[0;36mgetHTML\u001b[1;34m(url)\u001b[0m\n\u001b[0;32m     11\u001b[0m     \u001b[1;34m'Cookie'\u001b[0m\u001b[1;33m:\u001b[0m\u001b[1;34m'global_cookie=f4z9z063jq34o28vxq52eephp1cljskp536; SKHRecordswuxi=%E6%80%A5%E5%94%AE%7C%5E%4D%6F%6E%20%4A%75%6C%20%33%31%20%32%30%32%33%20%31%36%3A%34%35%3A%32%33%20%47%4D%54%2B%30%38%30%30%20%28%43%68%69%6E%61%20%53%74%61%6E%64%61%72%64%20%54%69%6D%65%29%7C%5E%30%7C%23%E6%80%A5%E5%94%AE%E6%A2%85%E6%9D%91%E5%8F%A3%E4%B8%87%E7%A7%91%E6%B8%A0%E9%81%93%E6%B8%85%E9%80%80%E4%B8%80%E5%A5%97%E7%89%B9%E4%BB%B7%E4%B8%89%E6%88%BF%E4%B8%A4%E5%8D%AB%7C%5E%4D%6F%6E%20%4A%75%6C%20%33%31%20%32%30%32%33%20%31%36%3A%34%35%3A%33%36%20%47%4D%54%2B%30%38%30%30%20%28%43%68%69%6E%61%20%53%74%61%6E%64%61%72%64%20%54%69%6D%65%29%7C%5E%30%7C%23%E7%9C%81%E9%94%A1%E4%B8%AD%20%E6%83%A0%E5%B1%B1%E6%B9%BF%E5%9C%B0%E5%85%AC%E5%9B%AD%E6%97%81%20%E7%BA%AF%E6%AF%9B%E5%9D%AF%33%E6%88%BF%20%E6%88%BF%E4%B8%9C%E4%BA%8F%E6%9C%AC%E5%8D%96%7C%5E%4D%6F%6E%20%4A%75%6C%20%33%31%20%32%30%32%33%20%31%37%3A%31%32%3A%31%31%20%47%4D%54%2B%30%38%30%30%20%28%43%68%69%6E%61%20%53%74%61%6E%64%61%72%64%20%54%69%6D%65%29%7C%5E%30%7C%23%E5%90%89%E5%AE%9D%E5%87%8C%E4%BA%91%E5%B3%B0%E9%98%81%E5%9C%86%E8%9E%8D%E5%B9%BF%E5%9C%BA%E6%97%81%32%31%30%E4%B8%87%E7%BB%BF%E5%9F%8E%E7%89%A9%E4%B8%9A%E7%8E%B0%E6%88%BF%E7%B2%BE%E8%A3%85%E4%BF%AE%7C%5E%4D%6F%6E%20%4A%75%6C%20%33%31%20%32%30%32%33%20%31%37%3A%31%32%3A%34%32%20%47%4D%54%2B%30%38%30%30%20%28%43%68%69%6E%61%20%53%74%61%6E%64%61%72%64%20%54%69%6D%65%29%7C%5E%30%7C%23%E4%B8%AD%E5%9F%8E%E8%AA%89%E5%93%81%20%32%31%37%E5%B9%B3%20%35%E5%B1%85%E5%A4%A7%E5%A4%8D%E5%BC%8F%20%E5%8D%97%E5%8C%97%E5%90%91%E6%AF%9B%E5%9D%AF%20%E9%9A%8F%E6%97%B6%E7%AD%BE%E7%BA%A6%20%E9%87%91%E5%9C%B0%E5%8D%8E%7C%5E%4D%6F%6E%20%4A%75%6C%20%33%31%20%32%30%32%33%20%31%38%3A%31%31%3A%33%31%20%47%4D%54%2B%30%38%30%30%20%28%43%68%69%6E%61%20%53%74%61%6E%64%61%72%64%20%54%69%6D%65%29%7C%5E%30; SKHRecordswuxi.sig=XlYJynOcIqGI42WDX9qv9BXDwIs_Wb68DP-DRYv37as; global_wapandm_cookie=we0718fk57wrx38wid57fnksa2flkwe6x6l; __utmc=147393320; csrfToken=_czNELkzNKLJ4auxj3ioOFZV; city=wuxi; g_sourcepage=esf_fy%5Exq_pc; unique_cookie=U_t19xfi4ovmq5wdlpi1fik2pfm1wlky8vv71*6; __utma=147393320.564282534.1688734407.1691253870.1691256494.18; __utmz=147393320.1691256494.18.17.utmcsr=search.fang.com|utmccn=(referral)|utmcmd=referral|utmcct=/; __utmt_t0=1; __utmt_t1=1; __utmt_t2=1; __utmb=147393320.3.10.1691256494'\u001b[0m\u001b[1;33m\u001b[0m\u001b[1;33m\u001b[0m\u001b[0m\n\u001b[0;32m     12\u001b[0m     }\n\u001b[1;32m---> 13\u001b[1;33m     \u001b[0mresp\u001b[0m \u001b[1;33m=\u001b[0m \u001b[0mrequests\u001b[0m\u001b[1;33m.\u001b[0m\u001b[0mget\u001b[0m\u001b[1;33m(\u001b[0m\u001b[0murl\u001b[0m\u001b[1;33m,\u001b[0m\u001b[0mheaders\u001b[0m\u001b[1;33m=\u001b[0m\u001b[0mheaders\u001b[0m\u001b[1;33m)\u001b[0m\u001b[1;33m\u001b[0m\u001b[1;33m\u001b[0m\u001b[0m\n\u001b[0m\u001b[0;32m     14\u001b[0m     \u001b[0mhtml_str\u001b[0m \u001b[1;33m=\u001b[0m \u001b[0mresp\u001b[0m\u001b[1;33m.\u001b[0m\u001b[0mtext\u001b[0m\u001b[1;33m\u001b[0m\u001b[1;33m\u001b[0m\u001b[0m\n\u001b[0;32m     15\u001b[0m     \u001b[1;32mreturn\u001b[0m \u001b[0mhtml_str\u001b[0m\u001b[1;33m\u001b[0m\u001b[1;33m\u001b[0m\u001b[0m\n",
      "\u001b[1;32mD:\\Anaconda3_2\\lib\\site-packages\\requests\\api.py\u001b[0m in \u001b[0;36mget\u001b[1;34m(url, params, **kwargs)\u001b[0m\n\u001b[0;32m     73\u001b[0m     \"\"\"\n\u001b[0;32m     74\u001b[0m \u001b[1;33m\u001b[0m\u001b[0m\n\u001b[1;32m---> 75\u001b[1;33m     \u001b[1;32mreturn\u001b[0m \u001b[0mrequest\u001b[0m\u001b[1;33m(\u001b[0m\u001b[1;34m'get'\u001b[0m\u001b[1;33m,\u001b[0m \u001b[0murl\u001b[0m\u001b[1;33m,\u001b[0m \u001b[0mparams\u001b[0m\u001b[1;33m=\u001b[0m\u001b[0mparams\u001b[0m\u001b[1;33m,\u001b[0m \u001b[1;33m**\u001b[0m\u001b[0mkwargs\u001b[0m\u001b[1;33m)\u001b[0m\u001b[1;33m\u001b[0m\u001b[1;33m\u001b[0m\u001b[0m\n\u001b[0m\u001b[0;32m     76\u001b[0m \u001b[1;33m\u001b[0m\u001b[0m\n\u001b[0;32m     77\u001b[0m \u001b[1;33m\u001b[0m\u001b[0m\n",
      "\u001b[1;32mD:\\Anaconda3_2\\lib\\site-packages\\requests\\api.py\u001b[0m in \u001b[0;36mrequest\u001b[1;34m(method, url, **kwargs)\u001b[0m\n\u001b[0;32m     59\u001b[0m     \u001b[1;31m# cases, and look like a memory leak in others.\u001b[0m\u001b[1;33m\u001b[0m\u001b[1;33m\u001b[0m\u001b[0m\n\u001b[0;32m     60\u001b[0m     \u001b[1;32mwith\u001b[0m \u001b[0msessions\u001b[0m\u001b[1;33m.\u001b[0m\u001b[0mSession\u001b[0m\u001b[1;33m(\u001b[0m\u001b[1;33m)\u001b[0m \u001b[1;32mas\u001b[0m \u001b[0msession\u001b[0m\u001b[1;33m:\u001b[0m\u001b[1;33m\u001b[0m\u001b[1;33m\u001b[0m\u001b[0m\n\u001b[1;32m---> 61\u001b[1;33m         \u001b[1;32mreturn\u001b[0m \u001b[0msession\u001b[0m\u001b[1;33m.\u001b[0m\u001b[0mrequest\u001b[0m\u001b[1;33m(\u001b[0m\u001b[0mmethod\u001b[0m\u001b[1;33m=\u001b[0m\u001b[0mmethod\u001b[0m\u001b[1;33m,\u001b[0m \u001b[0murl\u001b[0m\u001b[1;33m=\u001b[0m\u001b[0murl\u001b[0m\u001b[1;33m,\u001b[0m \u001b[1;33m**\u001b[0m\u001b[0mkwargs\u001b[0m\u001b[1;33m)\u001b[0m\u001b[1;33m\u001b[0m\u001b[1;33m\u001b[0m\u001b[0m\n\u001b[0m\u001b[0;32m     62\u001b[0m \u001b[1;33m\u001b[0m\u001b[0m\n\u001b[0;32m     63\u001b[0m \u001b[1;33m\u001b[0m\u001b[0m\n",
      "\u001b[1;32mD:\\Anaconda3_2\\lib\\site-packages\\requests\\sessions.py\u001b[0m in \u001b[0;36mrequest\u001b[1;34m(self, method, url, params, data, headers, cookies, files, auth, timeout, allow_redirects, proxies, hooks, stream, verify, cert, json)\u001b[0m\n\u001b[0;32m    540\u001b[0m         }\n\u001b[0;32m    541\u001b[0m         \u001b[0msend_kwargs\u001b[0m\u001b[1;33m.\u001b[0m\u001b[0mupdate\u001b[0m\u001b[1;33m(\u001b[0m\u001b[0msettings\u001b[0m\u001b[1;33m)\u001b[0m\u001b[1;33m\u001b[0m\u001b[1;33m\u001b[0m\u001b[0m\n\u001b[1;32m--> 542\u001b[1;33m         \u001b[0mresp\u001b[0m \u001b[1;33m=\u001b[0m \u001b[0mself\u001b[0m\u001b[1;33m.\u001b[0m\u001b[0msend\u001b[0m\u001b[1;33m(\u001b[0m\u001b[0mprep\u001b[0m\u001b[1;33m,\u001b[0m \u001b[1;33m**\u001b[0m\u001b[0msend_kwargs\u001b[0m\u001b[1;33m)\u001b[0m\u001b[1;33m\u001b[0m\u001b[1;33m\u001b[0m\u001b[0m\n\u001b[0m\u001b[0;32m    543\u001b[0m \u001b[1;33m\u001b[0m\u001b[0m\n\u001b[0;32m    544\u001b[0m         \u001b[1;32mreturn\u001b[0m \u001b[0mresp\u001b[0m\u001b[1;33m\u001b[0m\u001b[1;33m\u001b[0m\u001b[0m\n",
      "\u001b[1;32mD:\\Anaconda3_2\\lib\\site-packages\\requests\\sessions.py\u001b[0m in \u001b[0;36msend\u001b[1;34m(self, request, **kwargs)\u001b[0m\n\u001b[0;32m    653\u001b[0m \u001b[1;33m\u001b[0m\u001b[0m\n\u001b[0;32m    654\u001b[0m         \u001b[1;31m# Send the request\u001b[0m\u001b[1;33m\u001b[0m\u001b[1;33m\u001b[0m\u001b[0m\n\u001b[1;32m--> 655\u001b[1;33m         \u001b[0mr\u001b[0m \u001b[1;33m=\u001b[0m \u001b[0madapter\u001b[0m\u001b[1;33m.\u001b[0m\u001b[0msend\u001b[0m\u001b[1;33m(\u001b[0m\u001b[0mrequest\u001b[0m\u001b[1;33m,\u001b[0m \u001b[1;33m**\u001b[0m\u001b[0mkwargs\u001b[0m\u001b[1;33m)\u001b[0m\u001b[1;33m\u001b[0m\u001b[1;33m\u001b[0m\u001b[0m\n\u001b[0m\u001b[0;32m    656\u001b[0m \u001b[1;33m\u001b[0m\u001b[0m\n\u001b[0;32m    657\u001b[0m         \u001b[1;31m# Total elapsed time of the request (approximately)\u001b[0m\u001b[1;33m\u001b[0m\u001b[1;33m\u001b[0m\u001b[0m\n",
      "\u001b[1;32mD:\\Anaconda3_2\\lib\\site-packages\\requests\\adapters.py\u001b[0m in \u001b[0;36msend\u001b[1;34m(self, request, stream, timeout, verify, cert, proxies)\u001b[0m\n\u001b[0;32m    437\u001b[0m         \u001b[1;32mtry\u001b[0m\u001b[1;33m:\u001b[0m\u001b[1;33m\u001b[0m\u001b[1;33m\u001b[0m\u001b[0m\n\u001b[0;32m    438\u001b[0m             \u001b[1;32mif\u001b[0m \u001b[1;32mnot\u001b[0m \u001b[0mchunked\u001b[0m\u001b[1;33m:\u001b[0m\u001b[1;33m\u001b[0m\u001b[1;33m\u001b[0m\u001b[0m\n\u001b[1;32m--> 439\u001b[1;33m                 resp = conn.urlopen(\n\u001b[0m\u001b[0;32m    440\u001b[0m                     \u001b[0mmethod\u001b[0m\u001b[1;33m=\u001b[0m\u001b[0mrequest\u001b[0m\u001b[1;33m.\u001b[0m\u001b[0mmethod\u001b[0m\u001b[1;33m,\u001b[0m\u001b[1;33m\u001b[0m\u001b[1;33m\u001b[0m\u001b[0m\n\u001b[0;32m    441\u001b[0m                     \u001b[0murl\u001b[0m\u001b[1;33m=\u001b[0m\u001b[0murl\u001b[0m\u001b[1;33m,\u001b[0m\u001b[1;33m\u001b[0m\u001b[1;33m\u001b[0m\u001b[0m\n",
      "\u001b[1;32mD:\\Anaconda3_2\\lib\\site-packages\\urllib3\\connectionpool.py\u001b[0m in \u001b[0;36murlopen\u001b[1;34m(self, method, url, body, headers, retries, redirect, assert_same_host, timeout, pool_timeout, release_conn, chunked, body_pos, **response_kw)\u001b[0m\n\u001b[0;32m    697\u001b[0m \u001b[1;33m\u001b[0m\u001b[0m\n\u001b[0;32m    698\u001b[0m             \u001b[1;31m# Make the request on the httplib connection object.\u001b[0m\u001b[1;33m\u001b[0m\u001b[1;33m\u001b[0m\u001b[0m\n\u001b[1;32m--> 699\u001b[1;33m             httplib_response = self._make_request(\n\u001b[0m\u001b[0;32m    700\u001b[0m                 \u001b[0mconn\u001b[0m\u001b[1;33m,\u001b[0m\u001b[1;33m\u001b[0m\u001b[1;33m\u001b[0m\u001b[0m\n\u001b[0;32m    701\u001b[0m                 \u001b[0mmethod\u001b[0m\u001b[1;33m,\u001b[0m\u001b[1;33m\u001b[0m\u001b[1;33m\u001b[0m\u001b[0m\n",
      "\u001b[1;32mD:\\Anaconda3_2\\lib\\site-packages\\urllib3\\connectionpool.py\u001b[0m in \u001b[0;36m_make_request\u001b[1;34m(self, conn, method, url, timeout, chunked, **httplib_request_kw)\u001b[0m\n\u001b[0;32m    443\u001b[0m                     \u001b[1;31m# Python 3 (including for exceptions like SystemExit).\u001b[0m\u001b[1;33m\u001b[0m\u001b[1;33m\u001b[0m\u001b[0m\n\u001b[0;32m    444\u001b[0m                     \u001b[1;31m# Otherwise it looks like a bug in the code.\u001b[0m\u001b[1;33m\u001b[0m\u001b[1;33m\u001b[0m\u001b[0m\n\u001b[1;32m--> 445\u001b[1;33m                     \u001b[0msix\u001b[0m\u001b[1;33m.\u001b[0m\u001b[0mraise_from\u001b[0m\u001b[1;33m(\u001b[0m\u001b[0me\u001b[0m\u001b[1;33m,\u001b[0m \u001b[1;32mNone\u001b[0m\u001b[1;33m)\u001b[0m\u001b[1;33m\u001b[0m\u001b[1;33m\u001b[0m\u001b[0m\n\u001b[0m\u001b[0;32m    446\u001b[0m         \u001b[1;32mexcept\u001b[0m \u001b[1;33m(\u001b[0m\u001b[0mSocketTimeout\u001b[0m\u001b[1;33m,\u001b[0m \u001b[0mBaseSSLError\u001b[0m\u001b[1;33m,\u001b[0m \u001b[0mSocketError\u001b[0m\u001b[1;33m)\u001b[0m \u001b[1;32mas\u001b[0m \u001b[0me\u001b[0m\u001b[1;33m:\u001b[0m\u001b[1;33m\u001b[0m\u001b[1;33m\u001b[0m\u001b[0m\n\u001b[0;32m    447\u001b[0m             \u001b[0mself\u001b[0m\u001b[1;33m.\u001b[0m\u001b[0m_raise_timeout\u001b[0m\u001b[1;33m(\u001b[0m\u001b[0merr\u001b[0m\u001b[1;33m=\u001b[0m\u001b[0me\u001b[0m\u001b[1;33m,\u001b[0m \u001b[0murl\u001b[0m\u001b[1;33m=\u001b[0m\u001b[0murl\u001b[0m\u001b[1;33m,\u001b[0m \u001b[0mtimeout_value\u001b[0m\u001b[1;33m=\u001b[0m\u001b[0mread_timeout\u001b[0m\u001b[1;33m)\u001b[0m\u001b[1;33m\u001b[0m\u001b[1;33m\u001b[0m\u001b[0m\n",
      "\u001b[1;32mD:\\Anaconda3_2\\lib\\site-packages\\urllib3\\packages\\six.py\u001b[0m in \u001b[0;36mraise_from\u001b[1;34m(value, from_value)\u001b[0m\n",
      "\u001b[1;32mD:\\Anaconda3_2\\lib\\site-packages\\urllib3\\connectionpool.py\u001b[0m in \u001b[0;36m_make_request\u001b[1;34m(self, conn, method, url, timeout, chunked, **httplib_request_kw)\u001b[0m\n\u001b[0;32m    438\u001b[0m                 \u001b[1;31m# Python 3\u001b[0m\u001b[1;33m\u001b[0m\u001b[1;33m\u001b[0m\u001b[0m\n\u001b[0;32m    439\u001b[0m                 \u001b[1;32mtry\u001b[0m\u001b[1;33m:\u001b[0m\u001b[1;33m\u001b[0m\u001b[1;33m\u001b[0m\u001b[0m\n\u001b[1;32m--> 440\u001b[1;33m                     \u001b[0mhttplib_response\u001b[0m \u001b[1;33m=\u001b[0m \u001b[0mconn\u001b[0m\u001b[1;33m.\u001b[0m\u001b[0mgetresponse\u001b[0m\u001b[1;33m(\u001b[0m\u001b[1;33m)\u001b[0m\u001b[1;33m\u001b[0m\u001b[1;33m\u001b[0m\u001b[0m\n\u001b[0m\u001b[0;32m    441\u001b[0m                 \u001b[1;32mexcept\u001b[0m \u001b[0mBaseException\u001b[0m \u001b[1;32mas\u001b[0m \u001b[0me\u001b[0m\u001b[1;33m:\u001b[0m\u001b[1;33m\u001b[0m\u001b[1;33m\u001b[0m\u001b[0m\n\u001b[0;32m    442\u001b[0m                     \u001b[1;31m# Remove the TypeError from the exception chain in\u001b[0m\u001b[1;33m\u001b[0m\u001b[1;33m\u001b[0m\u001b[0m\n",
      "\u001b[1;32mD:\\Anaconda3_2\\lib\\http\\client.py\u001b[0m in \u001b[0;36mgetresponse\u001b[1;34m(self)\u001b[0m\n\u001b[0;32m   1369\u001b[0m         \u001b[1;32mtry\u001b[0m\u001b[1;33m:\u001b[0m\u001b[1;33m\u001b[0m\u001b[1;33m\u001b[0m\u001b[0m\n\u001b[0;32m   1370\u001b[0m             \u001b[1;32mtry\u001b[0m\u001b[1;33m:\u001b[0m\u001b[1;33m\u001b[0m\u001b[1;33m\u001b[0m\u001b[0m\n\u001b[1;32m-> 1371\u001b[1;33m                 \u001b[0mresponse\u001b[0m\u001b[1;33m.\u001b[0m\u001b[0mbegin\u001b[0m\u001b[1;33m(\u001b[0m\u001b[1;33m)\u001b[0m\u001b[1;33m\u001b[0m\u001b[1;33m\u001b[0m\u001b[0m\n\u001b[0m\u001b[0;32m   1372\u001b[0m             \u001b[1;32mexcept\u001b[0m \u001b[0mConnectionError\u001b[0m\u001b[1;33m:\u001b[0m\u001b[1;33m\u001b[0m\u001b[1;33m\u001b[0m\u001b[0m\n\u001b[0;32m   1373\u001b[0m                 \u001b[0mself\u001b[0m\u001b[1;33m.\u001b[0m\u001b[0mclose\u001b[0m\u001b[1;33m(\u001b[0m\u001b[1;33m)\u001b[0m\u001b[1;33m\u001b[0m\u001b[1;33m\u001b[0m\u001b[0m\n",
      "\u001b[1;32mD:\\Anaconda3_2\\lib\\http\\client.py\u001b[0m in \u001b[0;36mbegin\u001b[1;34m(self)\u001b[0m\n\u001b[0;32m    317\u001b[0m         \u001b[1;31m# read until we get a non-100 response\u001b[0m\u001b[1;33m\u001b[0m\u001b[1;33m\u001b[0m\u001b[0m\n\u001b[0;32m    318\u001b[0m         \u001b[1;32mwhile\u001b[0m \u001b[1;32mTrue\u001b[0m\u001b[1;33m:\u001b[0m\u001b[1;33m\u001b[0m\u001b[1;33m\u001b[0m\u001b[0m\n\u001b[1;32m--> 319\u001b[1;33m             \u001b[0mversion\u001b[0m\u001b[1;33m,\u001b[0m \u001b[0mstatus\u001b[0m\u001b[1;33m,\u001b[0m \u001b[0mreason\u001b[0m \u001b[1;33m=\u001b[0m \u001b[0mself\u001b[0m\u001b[1;33m.\u001b[0m\u001b[0m_read_status\u001b[0m\u001b[1;33m(\u001b[0m\u001b[1;33m)\u001b[0m\u001b[1;33m\u001b[0m\u001b[1;33m\u001b[0m\u001b[0m\n\u001b[0m\u001b[0;32m    320\u001b[0m             \u001b[1;32mif\u001b[0m \u001b[0mstatus\u001b[0m \u001b[1;33m!=\u001b[0m \u001b[0mCONTINUE\u001b[0m\u001b[1;33m:\u001b[0m\u001b[1;33m\u001b[0m\u001b[1;33m\u001b[0m\u001b[0m\n\u001b[0;32m    321\u001b[0m                 \u001b[1;32mbreak\u001b[0m\u001b[1;33m\u001b[0m\u001b[1;33m\u001b[0m\u001b[0m\n",
      "\u001b[1;32mD:\\Anaconda3_2\\lib\\http\\client.py\u001b[0m in \u001b[0;36m_read_status\u001b[1;34m(self)\u001b[0m\n\u001b[0;32m    278\u001b[0m \u001b[1;33m\u001b[0m\u001b[0m\n\u001b[0;32m    279\u001b[0m     \u001b[1;32mdef\u001b[0m \u001b[0m_read_status\u001b[0m\u001b[1;33m(\u001b[0m\u001b[0mself\u001b[0m\u001b[1;33m)\u001b[0m\u001b[1;33m:\u001b[0m\u001b[1;33m\u001b[0m\u001b[1;33m\u001b[0m\u001b[0m\n\u001b[1;32m--> 280\u001b[1;33m         \u001b[0mline\u001b[0m \u001b[1;33m=\u001b[0m \u001b[0mstr\u001b[0m\u001b[1;33m(\u001b[0m\u001b[0mself\u001b[0m\u001b[1;33m.\u001b[0m\u001b[0mfp\u001b[0m\u001b[1;33m.\u001b[0m\u001b[0mreadline\u001b[0m\u001b[1;33m(\u001b[0m\u001b[0m_MAXLINE\u001b[0m \u001b[1;33m+\u001b[0m \u001b[1;36m1\u001b[0m\u001b[1;33m)\u001b[0m\u001b[1;33m,\u001b[0m \u001b[1;34m\"iso-8859-1\"\u001b[0m\u001b[1;33m)\u001b[0m\u001b[1;33m\u001b[0m\u001b[1;33m\u001b[0m\u001b[0m\n\u001b[0m\u001b[0;32m    281\u001b[0m         \u001b[1;32mif\u001b[0m \u001b[0mlen\u001b[0m\u001b[1;33m(\u001b[0m\u001b[0mline\u001b[0m\u001b[1;33m)\u001b[0m \u001b[1;33m>\u001b[0m \u001b[0m_MAXLINE\u001b[0m\u001b[1;33m:\u001b[0m\u001b[1;33m\u001b[0m\u001b[1;33m\u001b[0m\u001b[0m\n\u001b[0;32m    282\u001b[0m             \u001b[1;32mraise\u001b[0m \u001b[0mLineTooLong\u001b[0m\u001b[1;33m(\u001b[0m\u001b[1;34m\"status line\"\u001b[0m\u001b[1;33m)\u001b[0m\u001b[1;33m\u001b[0m\u001b[1;33m\u001b[0m\u001b[0m\n",
      "\u001b[1;32mD:\\Anaconda3_2\\lib\\socket.py\u001b[0m in \u001b[0;36mreadinto\u001b[1;34m(self, b)\u001b[0m\n\u001b[0;32m    702\u001b[0m         \u001b[1;32mwhile\u001b[0m \u001b[1;32mTrue\u001b[0m\u001b[1;33m:\u001b[0m\u001b[1;33m\u001b[0m\u001b[1;33m\u001b[0m\u001b[0m\n\u001b[0;32m    703\u001b[0m             \u001b[1;32mtry\u001b[0m\u001b[1;33m:\u001b[0m\u001b[1;33m\u001b[0m\u001b[1;33m\u001b[0m\u001b[0m\n\u001b[1;32m--> 704\u001b[1;33m                 \u001b[1;32mreturn\u001b[0m \u001b[0mself\u001b[0m\u001b[1;33m.\u001b[0m\u001b[0m_sock\u001b[0m\u001b[1;33m.\u001b[0m\u001b[0mrecv_into\u001b[0m\u001b[1;33m(\u001b[0m\u001b[0mb\u001b[0m\u001b[1;33m)\u001b[0m\u001b[1;33m\u001b[0m\u001b[1;33m\u001b[0m\u001b[0m\n\u001b[0m\u001b[0;32m    705\u001b[0m             \u001b[1;32mexcept\u001b[0m \u001b[0mtimeout\u001b[0m\u001b[1;33m:\u001b[0m\u001b[1;33m\u001b[0m\u001b[1;33m\u001b[0m\u001b[0m\n\u001b[0;32m    706\u001b[0m                 \u001b[0mself\u001b[0m\u001b[1;33m.\u001b[0m\u001b[0m_timeout_occurred\u001b[0m \u001b[1;33m=\u001b[0m \u001b[1;32mTrue\u001b[0m\u001b[1;33m\u001b[0m\u001b[1;33m\u001b[0m\u001b[0m\n",
      "\u001b[1;32mD:\\Anaconda3_2\\lib\\ssl.py\u001b[0m in \u001b[0;36mrecv_into\u001b[1;34m(self, buffer, nbytes, flags)\u001b[0m\n\u001b[0;32m   1239\u001b[0m                   \u001b[1;34m\"non-zero flags not allowed in calls to recv_into() on %s\"\u001b[0m \u001b[1;33m%\u001b[0m\u001b[1;33m\u001b[0m\u001b[1;33m\u001b[0m\u001b[0m\n\u001b[0;32m   1240\u001b[0m                   self.__class__)\n\u001b[1;32m-> 1241\u001b[1;33m             \u001b[1;32mreturn\u001b[0m \u001b[0mself\u001b[0m\u001b[1;33m.\u001b[0m\u001b[0mread\u001b[0m\u001b[1;33m(\u001b[0m\u001b[0mnbytes\u001b[0m\u001b[1;33m,\u001b[0m \u001b[0mbuffer\u001b[0m\u001b[1;33m)\u001b[0m\u001b[1;33m\u001b[0m\u001b[1;33m\u001b[0m\u001b[0m\n\u001b[0m\u001b[0;32m   1242\u001b[0m         \u001b[1;32melse\u001b[0m\u001b[1;33m:\u001b[0m\u001b[1;33m\u001b[0m\u001b[1;33m\u001b[0m\u001b[0m\n\u001b[0;32m   1243\u001b[0m             \u001b[1;32mreturn\u001b[0m \u001b[0msuper\u001b[0m\u001b[1;33m(\u001b[0m\u001b[1;33m)\u001b[0m\u001b[1;33m.\u001b[0m\u001b[0mrecv_into\u001b[0m\u001b[1;33m(\u001b[0m\u001b[0mbuffer\u001b[0m\u001b[1;33m,\u001b[0m \u001b[0mnbytes\u001b[0m\u001b[1;33m,\u001b[0m \u001b[0mflags\u001b[0m\u001b[1;33m)\u001b[0m\u001b[1;33m\u001b[0m\u001b[1;33m\u001b[0m\u001b[0m\n",
      "\u001b[1;32mD:\\Anaconda3_2\\lib\\ssl.py\u001b[0m in \u001b[0;36mread\u001b[1;34m(self, len, buffer)\u001b[0m\n\u001b[0;32m   1097\u001b[0m         \u001b[1;32mtry\u001b[0m\u001b[1;33m:\u001b[0m\u001b[1;33m\u001b[0m\u001b[1;33m\u001b[0m\u001b[0m\n\u001b[0;32m   1098\u001b[0m             \u001b[1;32mif\u001b[0m \u001b[0mbuffer\u001b[0m \u001b[1;32mis\u001b[0m \u001b[1;32mnot\u001b[0m \u001b[1;32mNone\u001b[0m\u001b[1;33m:\u001b[0m\u001b[1;33m\u001b[0m\u001b[1;33m\u001b[0m\u001b[0m\n\u001b[1;32m-> 1099\u001b[1;33m                 \u001b[1;32mreturn\u001b[0m \u001b[0mself\u001b[0m\u001b[1;33m.\u001b[0m\u001b[0m_sslobj\u001b[0m\u001b[1;33m.\u001b[0m\u001b[0mread\u001b[0m\u001b[1;33m(\u001b[0m\u001b[0mlen\u001b[0m\u001b[1;33m,\u001b[0m \u001b[0mbuffer\u001b[0m\u001b[1;33m)\u001b[0m\u001b[1;33m\u001b[0m\u001b[1;33m\u001b[0m\u001b[0m\n\u001b[0m\u001b[0;32m   1100\u001b[0m             \u001b[1;32melse\u001b[0m\u001b[1;33m:\u001b[0m\u001b[1;33m\u001b[0m\u001b[1;33m\u001b[0m\u001b[0m\n\u001b[0;32m   1101\u001b[0m                 \u001b[1;32mreturn\u001b[0m \u001b[0mself\u001b[0m\u001b[1;33m.\u001b[0m\u001b[0m_sslobj\u001b[0m\u001b[1;33m.\u001b[0m\u001b[0mread\u001b[0m\u001b[1;33m(\u001b[0m\u001b[0mlen\u001b[0m\u001b[1;33m)\u001b[0m\u001b[1;33m\u001b[0m\u001b[1;33m\u001b[0m\u001b[0m\n",
      "\u001b[1;31mKeyboardInterrupt\u001b[0m: "
     ],
     "ename": "KeyboardInterrupt",
     "evalue": "",
     "output_type": "error"
    }
   ],
   "source": [
    "'''\n",
    "批量爬取详情页\n",
    "'''\n",
    "import time\n",
    "import random\n",
    "\n",
    "start = 1000\n",
    "end = 2000\n",
    "tag = 0\n",
    "for i in range(start,end):\n",
    "    url = 'https://wuxi.esf.fang.com'+json_data[i]['url1']\n",
    "    html_str = getHTML(url)\n",
    "    file_name = r\"E:\\pycharm files\\爬虫\\房天下二手房定价模型\\data\\详情页\\page\"+str(i)+\".txt\"    \n",
    "    with open(file_name ,'w',encoding=\"utf-8\") as f:\n",
    "        if(html_str.__len__()>100000 and tag<5):\n",
    "            tag = 0\n",
    "            f.write(html_str)   \n",
    "            print(f'保存第{i}页 {html_str.__len__()}')\n",
    "        else:\n",
    "            tag = tag + 1\n",
    "            print(f\"保存第{i}页失败 {html_str.__len__()}\")\n",
    "            if(tag>=5):\n",
    "                break\n",
    "    \n",
    "    r = random.uniform(0,0.1)\n",
    "    time.sleep(r)\n",
    "\n",
    "print('over')"
   ],
   "metadata": {
    "collapsed": false,
    "pycharm": {
     "name": "#%%\n",
     "is_executing": false
    }
   }
  },
  {
   "cell_type": "code",
   "execution_count": 30,
   "outputs": [
    {
     "name": "stdout",
     "text": [
      "{'id': '3_172864559', 'name': '小区名称', 'url': 'https://wuxi.esf.fang.com/chushou/3_172864559.htm', 'price': {'per': '每平方单价', 'total': '总价', 'unit': '价格单位'}, 'location': {'city': '城市', 'area': '区域', 'detail': '详细地址', 'llitude': '经纬度', 'advantage': {'subway': '地铁'}}, 'house_info': {'square': {'target': 'target', 'min': 'min', 'max': 'max'}, 'type': '3室2厅', 'floor': {'target': '出售楼层', 'total': '总楼层'}, 'adornment': '装修', 'orientation': '朝向'}, 'resource_info': {'age': '建筑年代', 'elevator': '有无电梯', 'right': '产权性质', 'house_category': '住宅类别', 'structure': '建筑结构', 'build_category': '建筑类别', 'time': '挂牌时间'}, 'cell_info': {'refer': '参考均价', 'tenement': '物业类型', 'fare': '物业费用', 'years': '产权年限', 'green': '绿化率', 'plot': '容积率', 'vehicles': '人车分流', 'build_total': '总栋数', 'house_total': '总户数'}, 'others': {'core': '核心卖点', 'mental': '业主心态', 'commission': '税费分析', 'setup': '小区配套', 'service': '服务介绍'}}\n",
      "None\n"
     ],
     "output_type": "stream"
    }
   ],
   "source": [
    "print(print(json_data[320]))\n"
   ],
   "metadata": {
    "collapsed": false,
    "pycharm": {
     "name": "#%%\n",
     "is_executing": false
    }
   }
  },
  {
   "cell_type": "code",
   "execution_count": 71,
   "outputs": [
    {
     "data": {
      "text/plain": "'https://wuxi.esf.fang.com/chushou/21_122659740.htm'"
     },
     "metadata": {},
     "output_type": "execute_result",
     "execution_count": 71
    }
   ],
   "source": [
    "'https://wuxi.esf.fang.com'+json_data[i]['url1']"
   ],
   "metadata": {
    "collapsed": false,
    "pycharm": {
     "name": "#%%\n",
     "is_executing": false
    }
   }
  },
  {
   "cell_type": "code",
   "execution_count": null,
   "outputs": [],
   "source": [
    "\n"
   ],
   "metadata": {
    "collapsed": false,
    "pycharm": {
     "name": "#%%\n"
    }
   }
  }
 ],
 "metadata": {
  "kernelspec": {
   "name": "pycharm-3829732f",
   "language": "python",
   "display_name": "PyCharm (Datamining)"
  },
  "language_info": {
   "codemirror_mode": {
    "name": "ipython",
    "version": 2
   },
   "file_extension": ".py",
   "mimetype": "text/x-python",
   "name": "python",
   "nbconvert_exporter": "python",
   "pygments_lexer": "ipython2",
   "version": "2.7.6"
  },
  "pycharm": {
   "stem_cell": {
    "cell_type": "raw",
    "source": [],
    "metadata": {
     "collapsed": false
    }
   }
  }
 },
 "nbformat": 4,
 "nbformat_minor": 0
}