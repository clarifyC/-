{
 "cells": [
  {
   "cell_type": "code",
   "execution_count": 46,
   "outputs": [],
   "source": [
    "import requests\n",
    "def getHTML(url):\n",
    "    headers = {\n",
    "    \"Referer\":\"http://search.fang.com/\",\n",
    "    'User-Agent':'Mozilla/5.0 (Windows NT 10.0; Win64; x64) AppleWebKit/537.36 (KHTML, like Gecko) Chrome/115.0.0.0 Safari/537.36 Edg/115.0.1901.183',\n",
    "    'Cookie':'global_cookie=f4z9z063jq34o28vxq52eephp1cljskp536; __utmc=147393320; csrfToken=P76IEfS5nfQwdr-NqoD9J7P5; city=wuxi; g_sourcepage=esf_fy%5Elb_pc; __utma=147393320.564282534.1688734407.1690616400.1690621484.7; __utmz=147393320.1690621484.7.7.utmcsr=wuxi.esf.fang.com|utmccn=(referral)|utmcmd=referral|utmcct=/house/i31/; __utmt_t0=1; __utmt_t1=1; __utmt_t2=1; unique_cookie=U_142g6osfbe451l5026qi7z4sm18lknpcm91*63; __utmb=147393320.9.10.1690621484'\n",
    "    }\n",
    "    resp = requests.get(url,headers=headers)\n",
    "    html_str = resp.text\n",
    "    return html_str"
   ],
   "metadata": {
    "collapsed": false,
    "pycharm": {
     "name": "#%%\n",
     "is_executing": false
    }
   }
  },
  {
   "cell_type": "code",
   "execution_count": 47,
   "outputs": [],
   "source": [
    "# 载入json数据\n",
    "import json\n",
    "\n",
    "info_file = r\"E:\\pycharm files\\爬虫\\房天下二手房定价模型\\data\\info.txt\"\n",
    "with open(info_file,'r') as f:\n",
    "    json_str = f.read()\n",
    "\n",
    "\n",
    "json_data = json.loads(json_str)"
   ],
   "metadata": {
    "collapsed": false,
    "pycharm": {
     "name": "#%%\n",
     "is_executing": false
    }
   }
  },
  {
   "cell_type": "code",
   "execution_count": 49,
   "outputs": [
    {
     "name": "stdout",
     "text": [
      "保存第73页\n",
      "保存第74页\n",
      "保存第75页\n",
      "保存第76页\n",
      "保存第77页\n",
      "保存第78页\n",
      "保存第79页\n",
      "保存第80页\n",
      "保存第81页\n",
      "保存第82页\n",
      "保存第83页\n",
      "保存第84页\n",
      "保存第85页\n",
      "保存第86页\n",
      "保存第87页\n",
      "保存第88页\n",
      "保存第89页\n",
      "保存第90页\n",
      "保存第91页\n",
      "保存第92页\n",
      "保存第93页\n",
      "保存第94页\n",
      "保存第95页\n",
      "保存第96页\n",
      "保存第97页\n",
      "保存第98页\n",
      "保存第99页\n",
      "over\n"
     ],
     "output_type": "stream"
    }
   ],
   "source": [
    "# 爬取详情页\n",
    "import time\n",
    "import random\n",
    "\n",
    "start = 73\n",
    "end = 100\n",
    "for i in range(start,end):\n",
    "    url = json_data[i]['url']\n",
    "    html_str = getHTML(url)\n",
    "    file_name = r\"E:\\pycharm files\\爬虫\\房天下二手房定价模型\\data\\详情页\\page\"+str(i)+\".txt\"    \n",
    "    with open(file_name ,'w') as f:\n",
    "        f.write(html_str)\n",
    "    print(f'保存第{i}页')\n",
    "    r = random.random()\n",
    "    time.sleep(r)\n",
    "\n",
    "\n",
    "print('over')"
   ],
   "metadata": {
    "collapsed": false,
    "pycharm": {
     "name": "#%%\n",
     "is_executing": false
    }
   }
  },
  {
   "cell_type": "code",
   "execution_count": 22,
   "outputs": [
    {
     "name": "stdout",
     "text": [
      "start\n",
      "over\n"
     ],
     "output_type": "stream"
    }
   ],
   "source": [],
   "metadata": {
    "collapsed": false,
    "pycharm": {
     "name": "#%%\n",
     "is_executing": false
    }
   }
  },
  {
   "cell_type": "code",
   "execution_count": null,
   "outputs": [],
   "source": [
    "\n"
   ],
   "metadata": {
    "collapsed": false,
    "pycharm": {
     "name": "#%%\n"
    }
   }
  }
 ],
 "metadata": {
  "kernelspec": {
   "name": "pycharm-3829732f",
   "language": "python",
   "display_name": "PyCharm (Datamining)"
  },
  "language_info": {
   "codemirror_mode": {
    "name": "ipython",
    "version": 2
   },
   "file_extension": ".py",
   "mimetype": "text/x-python",
   "name": "python",
   "nbconvert_exporter": "python",
   "pygments_lexer": "ipython2",
   "version": "2.7.6"
  },
  "pycharm": {
   "stem_cell": {
    "cell_type": "raw",
    "source": [
     "\n",
     "xml_code = {\n",
     "    \"户型\":\"/html/body/div[4]/div[1]/div[4]/div[3]/div[1]/div[1]\",\n",
     "    \"建筑面积\":\"/html/body/div[4]/div[1]/div[4]/div[3]/div[2]/div[1]\",\n",
     "    \"单价\":\"/html/body/div[4]/div[1]/div[4]/div[3]/div[3]/div[1]\",\n",
     "    \"朝向\":\"/html/body/div[4]/div[1]/div[4]/div[4]/div[1]/div[1]\",\n",
     "    \"楼层\":\"/html/body/div[4]/div[1]/div[4]/div[4]/div[2]/div[1]/a\",\n",
     "    \"总楼层\":\"/html/body/div[4]/div[1]/div[4]/div[4]/div[2]/div[2]\",\n",
     "    \"装修\":\"/html/body/div[4]/div[1]/div[4]/div[4]/div[3]/div[1]/a\",\n",
     "    \"小区\":\"/html/body/div[4]/div[1]/div[4]/div[5]/div[1]/div[2]/a[1]\",\n",
     "    \"区域\":\"/html/body/div[4]/div[1]/div[4]/div[5]/div[2]/div[2]/a[1]\",\n",
     "    \"建筑年度\":\"/html/body/div[4]/div[2]/div[1]/div[2]/div[2]/div[1]/span[2]\",\n",
     "    \"有无电梯\":\"/html/body/div[4]/div[2]/div[1]/div[2]/div[2]/div[2]/span[2]\",\n",
     "    \"产权性质\":\"/html/body/div[4]/div[2]/div[1]/div[2]/div[2]/div[3]/span[2]/a\",\n",
     "    \"住宅类型\":\"/html/body/div[4]/div[2]/div[1]/div[2]/div[2]/div[4]/span[2]/a\",\n",
     "    \"建筑结构\":\"/html/body/div[4]/div[2]/div[1]/div[2]/div[2]/div[5]/span[2]/a\",\n",
     "    \"建筑类别\":\"/html/body/div[4]/div[2]/div[1]/div[2]/div[2]/div[6]/span[2]/a\",\n",
     "    \"挂牌日期\":\"/html/body/div[4]/div[2]/div[1]/div[2]/div[2]/div[7]/span[2]\",\n",
     "    \"参考均价\":\"/html/body/div[4]/div[2]/div[1]/div[4]/div[2]/div[1]/div[1]/span[2]/i\",\n",
     "    \"物业类型\":\"/html/body/div[4]/div[2]/div[1]/div[4]/div[2]/div[2]/div[1]/span[2]\",\n",
     "    \"物业费用\":\"/html/body/div[4]/div[2]/div[1]/div[4]/div[2]/div[2]/div[2]/span[2]\",\n",
     "    \"产权年限\":\"/html/body/div[4]/div[2]/div[1]/div[4]/div[2]/div[2]/div[4]/span[2]\",\n",
     "    \"\":\"\",\n",
     "    \"\":\"\",\n",
     "    \"\":\"\",\n",
     "    \"\":\"\",\n",
     "    \"\":\"\",\n",
     "}\n",
     "\n"
    ],
    "metadata": {
     "collapsed": false
    }
   }
  }
 },
 "nbformat": 4,
 "nbformat_minor": 0
}